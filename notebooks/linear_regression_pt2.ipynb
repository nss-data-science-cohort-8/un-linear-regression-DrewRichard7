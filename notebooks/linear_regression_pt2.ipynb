{
 "cells": [
  {
   "cell_type": "markdown",
   "id": "f5d1ce7c",
   "metadata": {},
   "source": [
    "## Linear Regression, Part 2\n",
    "\n",
    "In this notebook, we'll see how we can add more complexity to our linear regression model."
   ]
  },
  {
   "cell_type": "code",
   "execution_count": 1,
   "id": "2c315e5a",
   "metadata": {},
   "outputs": [],
   "source": [
    "import numpy as np\n",
    "import pandas as pd\n",
    "import statsmodels.api as sm\n",
    "import statsmodels.formula.api as smf\n",
    "import matplotlib.pyplot as plt\n",
    "import seaborn as sns"
   ]
  },
  {
   "cell_type": "markdown",
   "id": "4fcb397e",
   "metadata": {},
   "source": [
    "We'll be working with a dataset which includes information on the winner of the Kentucky Derby from 1896 through 2017. We will explore how different factors influence the winner's speed.\n",
    "\n",
    "This notebook is largely based on [Chapter 1 of Beyond Multiple Linear Regression](https://bookdown.org/roback/bookdown-BeyondMLR/ch-MLRreview.html#multreg), an excellent resource for understanding statistical models."
   ]
  },
  {
   "cell_type": "code",
   "execution_count": 2,
   "id": "bae6927d",
   "metadata": {},
   "outputs": [],
   "source": [
    "derby = pd.read_csv('../data/derbyplus.csv')"
   ]
  },
  {
   "cell_type": "code",
   "execution_count": 3,
   "id": "54acac52",
   "metadata": {},
   "outputs": [
    {
     "data": {
      "text/html": [
       "<div>\n",
       "<style scoped>\n",
       "    .dataframe tbody tr th:only-of-type {\n",
       "        vertical-align: middle;\n",
       "    }\n",
       "\n",
       "    .dataframe tbody tr th {\n",
       "        vertical-align: top;\n",
       "    }\n",
       "\n",
       "    .dataframe thead th {\n",
       "        text-align: right;\n",
       "    }\n",
       "</style>\n",
       "<table border=\"1\" class=\"dataframe\">\n",
       "  <thead>\n",
       "    <tr style=\"text-align: right;\">\n",
       "      <th></th>\n",
       "      <th>year</th>\n",
       "      <th>winner</th>\n",
       "      <th>condition</th>\n",
       "      <th>speed</th>\n",
       "      <th>starters</th>\n",
       "    </tr>\n",
       "  </thead>\n",
       "  <tbody>\n",
       "    <tr>\n",
       "      <th>0</th>\n",
       "      <td>1896</td>\n",
       "      <td>Ben Brush</td>\n",
       "      <td>good</td>\n",
       "      <td>51.66</td>\n",
       "      <td>8</td>\n",
       "    </tr>\n",
       "    <tr>\n",
       "      <th>1</th>\n",
       "      <td>1897</td>\n",
       "      <td>Typhoon II</td>\n",
       "      <td>slow</td>\n",
       "      <td>49.81</td>\n",
       "      <td>6</td>\n",
       "    </tr>\n",
       "    <tr>\n",
       "      <th>2</th>\n",
       "      <td>1898</td>\n",
       "      <td>Plaudit</td>\n",
       "      <td>good</td>\n",
       "      <td>51.16</td>\n",
       "      <td>4</td>\n",
       "    </tr>\n",
       "    <tr>\n",
       "      <th>3</th>\n",
       "      <td>1899</td>\n",
       "      <td>Manuel</td>\n",
       "      <td>fast</td>\n",
       "      <td>50.00</td>\n",
       "      <td>5</td>\n",
       "    </tr>\n",
       "    <tr>\n",
       "      <th>4</th>\n",
       "      <td>1900</td>\n",
       "      <td>Lieut. Gibson</td>\n",
       "      <td>fast</td>\n",
       "      <td>52.28</td>\n",
       "      <td>7</td>\n",
       "    </tr>\n",
       "    <tr>\n",
       "      <th>...</th>\n",
       "      <td>...</td>\n",
       "      <td>...</td>\n",
       "      <td>...</td>\n",
       "      <td>...</td>\n",
       "      <td>...</td>\n",
       "    </tr>\n",
       "    <tr>\n",
       "      <th>117</th>\n",
       "      <td>2013</td>\n",
       "      <td>Orb</td>\n",
       "      <td>slow</td>\n",
       "      <td>53.71</td>\n",
       "      <td>19</td>\n",
       "    </tr>\n",
       "    <tr>\n",
       "      <th>118</th>\n",
       "      <td>2014</td>\n",
       "      <td>California Chrome</td>\n",
       "      <td>fast</td>\n",
       "      <td>53.37</td>\n",
       "      <td>19</td>\n",
       "    </tr>\n",
       "    <tr>\n",
       "      <th>119</th>\n",
       "      <td>2015</td>\n",
       "      <td>American Pharoah</td>\n",
       "      <td>fast</td>\n",
       "      <td>53.65</td>\n",
       "      <td>18</td>\n",
       "    </tr>\n",
       "    <tr>\n",
       "      <th>120</th>\n",
       "      <td>2016</td>\n",
       "      <td>Nyquist</td>\n",
       "      <td>fast</td>\n",
       "      <td>54.41</td>\n",
       "      <td>20</td>\n",
       "    </tr>\n",
       "    <tr>\n",
       "      <th>121</th>\n",
       "      <td>2017</td>\n",
       "      <td>Always Dreaming</td>\n",
       "      <td>fast</td>\n",
       "      <td>53.40</td>\n",
       "      <td>20</td>\n",
       "    </tr>\n",
       "  </tbody>\n",
       "</table>\n",
       "<p>122 rows × 5 columns</p>\n",
       "</div>"
      ],
      "text/plain": [
       "     year             winner condition  speed  starters\n",
       "0    1896          Ben Brush      good  51.66         8\n",
       "1    1897         Typhoon II      slow  49.81         6\n",
       "2    1898            Plaudit      good  51.16         4\n",
       "3    1899             Manuel      fast  50.00         5\n",
       "4    1900      Lieut. Gibson      fast  52.28         7\n",
       "..    ...                ...       ...    ...       ...\n",
       "117  2013                Orb      slow  53.71        19\n",
       "118  2014  California Chrome      fast  53.37        19\n",
       "119  2015   American Pharoah      fast  53.65        18\n",
       "120  2016            Nyquist      fast  54.41        20\n",
       "121  2017    Always Dreaming      fast  53.40        20\n",
       "\n",
       "[122 rows x 5 columns]"
      ]
     },
     "execution_count": 3,
     "metadata": {},
     "output_type": "execute_result"
    }
   ],
   "source": [
    "derby"
   ]
  },
  {
   "cell_type": "markdown",
   "id": "b2ba3c9f",
   "metadata": {},
   "source": [
    "The `speed` variable gives the speed of the winner in feet per second. We will be using this data to look at how the other variables affect this speed variable.\n",
    "\n",
    "**Questions:**\n",
    "1. How does the condition of the track affect the speed of the winner, after controlling for the year?\n",
    "2. Does the number of starters have a statistically significant effect, after controlling for the year and the condition of the track?"
   ]
  },
  {
   "cell_type": "markdown",
   "id": "cf088011",
   "metadata": {},
   "source": [
    "## Exploratory Analysis"
   ]
  },
  {
   "cell_type": "markdown",
   "id": "b32c5199",
   "metadata": {},
   "source": [
    "Before building a model, let's start with exploratory analysis to understand the data that we have and the relationships between different variables."
   ]
  },
  {
   "cell_type": "markdown",
   "id": "f8975061",
   "metadata": {},
   "source": [
    "#### Single-Variable Analysis \n",
    "We can start with single-variable analysis. With this dataset, we are most interested in the speed column, so let's look at it first."
   ]
  },
  {
   "cell_type": "code",
   "execution_count": 4,
   "id": "d184c216",
   "metadata": {},
   "outputs": [
    {
     "data": {
      "text/plain": [
       "count    122.000000\n",
       "mean      53.169016\n",
       "std        1.289433\n",
       "min       48.820000\n",
       "25%       52.652500\n",
       "50%       53.480000\n",
       "75%       54.100000\n",
       "max       55.280000\n",
       "Name: speed, dtype: float64"
      ]
     },
     "execution_count": 4,
     "metadata": {},
     "output_type": "execute_result"
    }
   ],
   "source": [
    "derby['speed'].describe()"
   ]
  },
  {
   "cell_type": "code",
   "execution_count": 39,
   "id": "e7ac828f",
   "metadata": {},
   "outputs": [
    {
     "data": {
      "image/png": "[encoded data removed]",
      "text/plain": [
       "<Figure size 640x480 with 1 Axes>"
      ]
     },
     "metadata": {},
     "output_type": "display_data"
    }
   ],
   "source": [
    "derby['speed'].plot(kind = \"hist\", \n",
    "                    edgecolor = 'green',\n",
    "                    bins = 25);"
   ]
  },
  {
   "cell_type": "markdown",
   "id": "bfb8c2ac",
   "metadata": {},
   "source": [
    "Let's also look at the number of starters."
   ]
  },
  {
   "cell_type": "code",
   "execution_count": 40,
   "id": "39281ff8",
   "metadata": {},
   "outputs": [
    {
     "data": {
      "image/png": "[encoded data removed]",
      "text/plain": [
       "<Figure size 640x480 with 1 Axes>"
      ]
     },
     "metadata": {},
     "output_type": "display_data"
    }
   ],
   "source": [
    "derby['starters'].plot(kind = \"hist\", \n",
    "                    edgecolor = 'green',\n",
    "                    bins = 20);"
   ]
  },
  {
   "cell_type": "markdown",
   "id": "7a448717",
   "metadata": {},
   "source": [
    "A factor that could influence the speed of the winner is the condition of the track.\n",
    "\n",
    "The possible conditions are:\n",
    "* Fast Track – Dry, even, and fast\n",
    "* Wet Fast – Soaked on the surface but still firm under the top layer\n",
    "* Good Track – A little wet, but still pretty fast\n",
    "* Muddy Track – Soaked and saturated. Ample amounts of mud\n",
    "* Sloppy – Similar to wet fast, “sloppy” describes track conditions which are firm underneath but present horses and jockeys with standing water or slick spots on top of the dirt\n",
    "* Slow – Somewhere between sloppy and heavy\n",
    "* Heavy – Heavy mud, the slowest possible racing conditions\n",
    "\n",
    "In our dataset, \"fast\" denotes a fast or a wet fast track, \"good\" denotes a good track, and \"slow\" denotes a muddy, sloppy, slow, or heavy track."
   ]
  },
  {
   "cell_type": "code",
   "execution_count": 7,
   "id": "46753b05",
   "metadata": {},
   "outputs": [
    {
     "data": {
      "text/plain": [
       "condition\n",
       "fast    0.721311\n",
       "slow    0.196721\n",
       "good    0.081967\n",
       "Name: proportion, dtype: float64"
      ]
     },
     "execution_count": 7,
     "metadata": {},
     "output_type": "execute_result"
    }
   ],
   "source": [
    "derby['condition'].value_counts(normalize = True)"
   ]
  },
  {
   "cell_type": "markdown",
   "id": "c4c90d0b",
   "metadata": {},
   "source": [
    "#### Multi-Variable Analysis\n",
    "\n",
    "Now, let's see what the relationships with the other variables and the speed of the winner look like.\n",
    "\n",
    "Let's start with the year."
   ]
  },
  {
   "cell_type": "code",
   "execution_count": 8,
   "id": "4ca25a02",
   "metadata": {},
   "outputs": [
    {
     "data": {
      "image/png": "[encoded data removed]",
      "text/plain": [
       "<Figure size 640x480 with 1 Axes>"
      ]
     },
     "metadata": {},
     "output_type": "display_data"
    }
   ],
   "source": [
    "derby.plot(x = 'year', y = 'speed', kind = 'scatter');"
   ]
  },
  {
   "cell_type": "markdown",
   "id": "66672f1d",
   "metadata": {},
   "source": [
    "**Question:** What can we say about the relationship between the year and the speed of the winner?"
   ]
  },
  {
   "cell_type": "markdown",
   "id": "f0195352",
   "metadata": {},
   "source": [
    "Now, let's check the condition of the track vs. the speed of the winner."
   ]
  },
  {
   "cell_type": "code",
   "execution_count": 9,
   "id": "6e047bf8",
   "metadata": {},
   "outputs": [
    {
     "data": {
      "text/html": [
       "<div>\n",
       "<style scoped>\n",
       "    .dataframe tbody tr th:only-of-type {\n",
       "        vertical-align: middle;\n",
       "    }\n",
       "\n",
       "    .dataframe tbody tr th {\n",
       "        vertical-align: top;\n",
       "    }\n",
       "\n",
       "    .dataframe thead th {\n",
       "        text-align: right;\n",
       "    }\n",
       "</style>\n",
       "<table border=\"1\" class=\"dataframe\">\n",
       "  <thead>\n",
       "    <tr style=\"text-align: right;\">\n",
       "      <th></th>\n",
       "      <th>count</th>\n",
       "      <th>mean</th>\n",
       "      <th>std</th>\n",
       "      <th>min</th>\n",
       "      <th>25%</th>\n",
       "      <th>50%</th>\n",
       "      <th>75%</th>\n",
       "      <th>max</th>\n",
       "    </tr>\n",
       "    <tr>\n",
       "      <th>condition</th>\n",
       "      <th></th>\n",
       "      <th></th>\n",
       "      <th></th>\n",
       "      <th></th>\n",
       "      <th></th>\n",
       "      <th></th>\n",
       "      <th></th>\n",
       "      <th></th>\n",
       "    </tr>\n",
       "  </thead>\n",
       "  <tbody>\n",
       "    <tr>\n",
       "      <th>fast</th>\n",
       "      <td>88.0</td>\n",
       "      <td>53.623068</td>\n",
       "      <td>0.938899</td>\n",
       "      <td>50.00</td>\n",
       "      <td>53.2300</td>\n",
       "      <td>53.920</td>\n",
       "      <td>54.1900</td>\n",
       "      <td>55.28</td>\n",
       "    </tr>\n",
       "    <tr>\n",
       "      <th>good</th>\n",
       "      <td>10.0</td>\n",
       "      <td>52.726000</td>\n",
       "      <td>1.020383</td>\n",
       "      <td>51.16</td>\n",
       "      <td>51.8025</td>\n",
       "      <td>52.970</td>\n",
       "      <td>53.4175</td>\n",
       "      <td>54.10</td>\n",
       "    </tr>\n",
       "    <tr>\n",
       "      <th>slow</th>\n",
       "      <td>24.0</td>\n",
       "      <td>51.688750</td>\n",
       "      <td>1.358094</td>\n",
       "      <td>48.82</td>\n",
       "      <td>50.5775</td>\n",
       "      <td>51.845</td>\n",
       "      <td>52.8000</td>\n",
       "      <td>53.81</td>\n",
       "    </tr>\n",
       "  </tbody>\n",
       "</table>\n",
       "</div>"
      ],
      "text/plain": [
       "           count       mean       std    min      25%     50%      75%    max\n",
       "condition                                                                    \n",
       "fast        88.0  53.623068  0.938899  50.00  53.2300  53.920  54.1900  55.28\n",
       "good        10.0  52.726000  1.020383  51.16  51.8025  52.970  53.4175  54.10\n",
       "slow        24.0  51.688750  1.358094  48.82  50.5775  51.845  52.8000  53.81"
      ]
     },
     "execution_count": 9,
     "metadata": {},
     "output_type": "execute_result"
    }
   ],
   "source": [
    "derby.groupby('condition')['speed'].describe()"
   ]
  },
  {
   "cell_type": "code",
   "execution_count": 10,
   "id": "9a2c1497",
   "metadata": {},
   "outputs": [
    {
     "data": {
      "image/png": "[encoded data removed]",
      "text/plain": [
       "<Figure size 640x480 with 1 Axes>"
      ]
     },
     "metadata": {},
     "output_type": "display_data"
    }
   ],
   "source": [
    "sns.boxplot(data = derby,\n",
    "           x = 'condition',\n",
    "           y = 'speed');"
   ]
  },
  {
   "cell_type": "markdown",
   "id": "e0a4245e",
   "metadata": {},
   "source": [
    "Finally, let's see how the relationship between the number of starters and the speed looks."
   ]
  },
  {
   "cell_type": "code",
   "execution_count": 11,
   "id": "e49ae94c",
   "metadata": {},
   "outputs": [
    {
     "data": {
      "image/png": "[encoded data removed]",
      "text/plain": [
       "<Figure size 640x480 with 1 Axes>"
      ]
     },
     "metadata": {},
     "output_type": "display_data"
    }
   ],
   "source": [
    "derby.plot(kind = 'scatter', x = 'starters', y = 'speed');"
   ]
  },
  {
   "cell_type": "markdown",
   "id": "379a6e1b",
   "metadata": {},
   "source": [
    "It looks like as the number of starters increases, the speed increases as well. But maybe there is something else going on. What does it look like if we compare the year to the number of starters?"
   ]
  },
  {
   "cell_type": "code",
   "execution_count": 12,
   "id": "6c4626b0",
   "metadata": {},
   "outputs": [
    {
     "data": {
      "image/png": "[encoded data removed]",
      "text/plain": [
       "<Figure size 640x480 with 1 Axes>"
      ]
     },
     "metadata": {},
     "output_type": "display_data"
    }
   ],
   "source": [
    "derby.plot(kind = 'scatter', x = 'year', y = 'starters');"
   ]
  },
  {
   "cell_type": "markdown",
   "id": "8dcc532d",
   "metadata": {},
   "source": [
    "**Question:** What does this plot reveal?"
   ]
  },
  {
   "cell_type": "markdown",
   "id": "c23f9a45",
   "metadata": {},
   "source": [
    "- the early years are when there were a very low number of starters, which could be the reason the speed was so much slower during those years and in comparison to the number of starters. "
   ]
  },
  {
   "cell_type": "markdown",
   "id": "8376a7fd",
   "metadata": {},
   "source": [
    "## Fitting a Linear Regression Model\n",
    "\n",
    "In order to fit a linear regression model, we'll make use of the formula api from statsmodels. This allows us to specify a [patsy formula](https://patsy.readthedocs.io/en/latest/formulas.html) for our model. A patsy formula looks like\n",
    "\n",
    "```'target variable ~ predictor variables'```\n",
    "\n",
    "Let's start by fitting a model for the speed based on the year. This can help us understand the trend that we can see from our scatterplot."
   ]
  },
  {
   "cell_type": "code",
   "execution_count": 13,
   "id": "436c5b4f",
   "metadata": {},
   "outputs": [
    {
     "data": {
      "text/html": [
       "<table class=\"simpletable\">\n",
       "<caption>OLS Regression Results</caption>\n",
       "<tr>\n",
       "  <th>Dep. Variable:</th>          <td>speed</td>      <th>  R-squared:         </th> <td>   0.513</td>\n",
       "</tr>\n",
       "<tr>\n",
       "  <th>Model:</th>                   <td>OLS</td>       <th>  Adj. R-squared:    </th> <td>   0.509</td>\n",
       "</tr>\n",
       "<tr>\n",
       "  <th>Method:</th>             <td>Least Squares</td>  <th>  F-statistic:       </th> <td>   126.6</td>\n",
       "</tr>\n",
       "<tr>\n",
       "  <th>Date:</th>             <td>Sat, 19 Oct 2024</td> <th>  Prob (F-statistic):</th> <td>1.72e-20</td>\n",
       "</tr>\n",
       "<tr>\n",
       "  <th>Time:</th>                 <td>08:04:25</td>     <th>  Log-Likelihood:    </th> <td> -159.69</td>\n",
       "</tr>\n",
       "<tr>\n",
       "  <th>No. Observations:</th>      <td>   122</td>      <th>  AIC:               </th> <td>   323.4</td>\n",
       "</tr>\n",
       "<tr>\n",
       "  <th>Df Residuals:</th>          <td>   120</td>      <th>  BIC:               </th> <td>   329.0</td>\n",
       "</tr>\n",
       "<tr>\n",
       "  <th>Df Model:</th>              <td>     1</td>      <th>                     </th>     <td> </td>   \n",
       "</tr>\n",
       "<tr>\n",
       "  <th>Covariance Type:</th>      <td>nonrobust</td>    <th>                     </th>     <td> </td>   \n",
       "</tr>\n",
       "</table>\n",
       "<table class=\"simpletable\">\n",
       "<tr>\n",
       "      <td></td>         <th>coef</th>     <th>std err</th>      <th>t</th>      <th>P>|t|</th>  <th>[0.025</th>    <th>0.975]</th>  \n",
       "</tr>\n",
       "<tr>\n",
       "  <th>Intercept</th> <td>    2.0535</td> <td>    4.544</td> <td>    0.452</td> <td> 0.652</td> <td>   -6.943</td> <td>   11.050</td>\n",
       "</tr>\n",
       "<tr>\n",
       "  <th>year</th>      <td>    0.0261</td> <td>    0.002</td> <td>   11.251</td> <td> 0.000</td> <td>    0.022</td> <td>    0.031</td>\n",
       "</tr>\n",
       "</table>\n",
       "<table class=\"simpletable\">\n",
       "<tr>\n",
       "  <th>Omnibus:</th>       <td> 6.270</td> <th>  Durbin-Watson:     </th> <td>   1.075</td>\n",
       "</tr>\n",
       "<tr>\n",
       "  <th>Prob(Omnibus):</th> <td> 0.043</td> <th>  Jarque-Bera (JB):  </th> <td>   5.832</td>\n",
       "</tr>\n",
       "<tr>\n",
       "  <th>Skew:</th>          <td>-0.517</td> <th>  Prob(JB):          </th> <td>  0.0542</td>\n",
       "</tr>\n",
       "<tr>\n",
       "  <th>Kurtosis:</th>      <td> 3.281</td> <th>  Cond. No.          </th> <td>1.09e+05</td>\n",
       "</tr>\n",
       "</table><br/><br/>Notes:<br/>[1] Standard Errors assume that the covariance matrix of the errors is correctly specified.<br/>[2] The condition number is large, 1.09e+05. This might indicate that there are<br/>strong multicollinearity or other numerical problems."
      ],
      "text/latex": [
       "\\begin{center}\n",
       "\\begin{tabular}{lclc}\n",
       "\\toprule\n",
       "\\textbf{Dep. Variable:}    &      speed       & \\textbf{  R-squared:         } &     0.513   \\\\\n",
       "\\textbf{Model:}            &       OLS        & \\textbf{  Adj. R-squared:    } &     0.509   \\\\\n",
       "\\textbf{Method:}           &  Least Squares   & \\textbf{  F-statistic:       } &     126.6   \\\\\n",
       "\\textbf{Date:}             & Sat, 19 Oct 2024 & \\textbf{  Prob (F-statistic):} &  1.72e-20   \\\\\n",
       "\\textbf{Time:}             &     08:04:25     & \\textbf{  Log-Likelihood:    } &   -159.69   \\\\\n",
       "\\textbf{No. Observations:} &         122      & \\textbf{  AIC:               } &     323.4   \\\\\n",
       "\\textbf{Df Residuals:}     &         120      & \\textbf{  BIC:               } &     329.0   \\\\\n",
       "\\textbf{Df Model:}         &           1      & \\textbf{                     } &             \\\\\n",
       "\\textbf{Covariance Type:}  &    nonrobust     & \\textbf{                     } &             \\\\\n",
       "\\bottomrule\n",
       "\\end{tabular}\n",
       "\\begin{tabular}{lcccccc}\n",
       "                   & \\textbf{coef} & \\textbf{std err} & \\textbf{t} & \\textbf{P$> |$t$|$} & \\textbf{[0.025} & \\textbf{0.975]}  \\\\\n",
       "\\midrule\n",
       "\\textbf{Intercept} &       2.0535  &        4.544     &     0.452  &         0.652        &       -6.943    &       11.050     \\\\\n",
       "\\textbf{year}      &       0.0261  &        0.002     &    11.251  &         0.000        &        0.022    &        0.031     \\\\\n",
       "\\bottomrule\n",
       "\\end{tabular}\n",
       "\\begin{tabular}{lclc}\n",
       "\\textbf{Omnibus:}       &  6.270 & \\textbf{  Durbin-Watson:     } &    1.075  \\\\\n",
       "\\textbf{Prob(Omnibus):} &  0.043 & \\textbf{  Jarque-Bera (JB):  } &    5.832  \\\\\n",
       "\\textbf{Skew:}          & -0.517 & \\textbf{  Prob(JB):          } &   0.0542  \\\\\n",
       "\\textbf{Kurtosis:}      &  3.281 & \\textbf{  Cond. No.          } & 1.09e+05  \\\\\n",
       "\\bottomrule\n",
       "\\end{tabular}\n",
       "%\\caption{OLS Regression Results}\n",
       "\\end{center}\n",
       "\n",
       "Notes: \\newline\n",
       " [1] Standard Errors assume that the covariance matrix of the errors is correctly specified. \\newline\n",
       " [2] The condition number is large, 1.09e+05. This might indicate that there are \\newline\n",
       " strong multicollinearity or other numerical problems."
      ],
      "text/plain": [
       "<class 'statsmodels.iolib.summary.Summary'>\n",
       "\"\"\"\n",
       "                            OLS Regression Results                            \n",
       "==============================================================================\n",
       "Dep. Variable:                  speed   R-squared:                       0.513\n",
       "Model:                            OLS   Adj. R-squared:                  0.509\n",
       "Method:                 Least Squares   F-statistic:                     126.6\n",
       "Date:                Sat, 19 Oct 2024   Prob (F-statistic):           1.72e-20\n",
       "Time:                        08:04:25   Log-Likelihood:                -159.69\n",
       "No. Observations:                 122   AIC:                             323.4\n",
       "Df Residuals:                     120   BIC:                             329.0\n",
       "Df Model:                           1                                         \n",
       "Covariance Type:            nonrobust                                         \n",
       "==============================================================================\n",
       "                 coef    std err          t      P>|t|      [0.025      0.975]\n",
       "------------------------------------------------------------------------------\n",
       "Intercept      2.0535      4.544      0.452      0.652      -6.943      11.050\n",
       "year           0.0261      0.002     11.251      0.000       0.022       0.031\n",
       "==============================================================================\n",
       "Omnibus:                        6.270   Durbin-Watson:                   1.075\n",
       "Prob(Omnibus):                  0.043   Jarque-Bera (JB):                5.832\n",
       "Skew:                          -0.517   Prob(JB):                       0.0542\n",
       "Kurtosis:                       3.281   Cond. No.                     1.09e+05\n",
       "==============================================================================\n",
       "\n",
       "Notes:\n",
       "[1] Standard Errors assume that the covariance matrix of the errors is correctly specified.\n",
       "[2] The condition number is large, 1.09e+05. This might indicate that there are\n",
       "strong multicollinearity or other numerical problems.\n",
       "\"\"\""
      ]
     },
     "execution_count": 13,
     "metadata": {},
     "output_type": "execute_result"
    }
   ],
   "source": [
    "lm = smf.ols('speed ~ year', data = derby).fit()\n",
    "lm.summary()"
   ]
  },
  {
   "cell_type": "markdown",
   "id": "dcea5230",
   "metadata": {},
   "source": [
    "**Question:** How do we interpret these coefficients?"
   ]
  },
  {
   "cell_type": "markdown",
   "id": "fd308e4f",
   "metadata": {},
   "source": [
    "We can also plot our line on top of the scatterplot to visually see how well it seems to do."
   ]
  },
  {
   "cell_type": "code",
   "execution_count": 41,
   "id": "d40d944f",
   "metadata": {},
   "outputs": [
    {
     "data": {
      "image/png": "[encoded data removed]",
      "text/plain": [
       "<Figure size 640x480 with 1 Axes>"
      ]
     },
     "metadata": {},
     "output_type": "display_data"
    }
   ],
   "source": [
    "derby.plot(x = 'year', y = 'speed', kind = 'scatter')\n",
    "plt.plot(derby['year'], lm.fittedvalues, color = 'red');"
   ]
  },
  {
   "cell_type": "markdown",
   "id": "27baa9ec",
   "metadata": {},
   "source": [
    "When fitting a linear regression model, we are assuming that there is a **linear** relationship between the predictor variables and the target variable. This means that a fixed change in the predictor has the same effect on the estimated mean of the target. In this case, the assumption of linearity would say that the average speed of the winner has been increasing at a constant rate over time.\n",
    "\n",
    "We can sometimes spot a violation of this assumption through the original scatterplot or through a plot of the residuals. We want the residuals to appear to have no clear patterns."
   ]
  },
  {
   "cell_type": "code",
   "execution_count": 42,
   "id": "b386431d",
   "metadata": {},
   "outputs": [
    {
     "data": {
      "image/png": "[encoded data removed]",
      "text/plain": [
       "<Figure size 640x480 with 1 Axes>"
      ]
     },
     "metadata": {},
     "output_type": "display_data"
    }
   ],
   "source": [
    "plt.scatter(lm.fittedvalues, lm.resid)\n",
    "xmin, xmax = plt.xlim()\n",
    "plt.hlines(y = 0, xmin = xmin, xmax = xmax, color = 'blue')\n",
    "plt.xlim(xmin, xmax);"
   ]
  },
  {
   "cell_type": "markdown",
   "id": "1021f0a0",
   "metadata": {},
   "source": [
    "The pattern that is visible in the residuals indicates that perhaps a quadratic fit might be better. We can do this by adding another predictor variable to our model."
   ]
  },
  {
   "cell_type": "code",
   "execution_count": 16,
   "id": "3960dacf",
   "metadata": {},
   "outputs": [
    {
     "data": {
      "text/html": [
       "<table class=\"simpletable\">\n",
       "<caption>OLS Regression Results</caption>\n",
       "<tr>\n",
       "  <th>Dep. Variable:</th>          <td>speed</td>      <th>  R-squared:         </th> <td>   0.641</td>\n",
       "</tr>\n",
       "<tr>\n",
       "  <th>Model:</th>                   <td>OLS</td>       <th>  Adj. R-squared:    </th> <td>   0.635</td>\n",
       "</tr>\n",
       "<tr>\n",
       "  <th>Method:</th>             <td>Least Squares</td>  <th>  F-statistic:       </th> <td>   106.2</td>\n",
       "</tr>\n",
       "<tr>\n",
       "  <th>Date:</th>             <td>Sat, 19 Oct 2024</td> <th>  Prob (F-statistic):</th> <td>3.37e-27</td>\n",
       "</tr>\n",
       "<tr>\n",
       "  <th>Time:</th>                 <td>08:04:25</td>     <th>  Log-Likelihood:    </th> <td> -141.13</td>\n",
       "</tr>\n",
       "<tr>\n",
       "  <th>No. Observations:</th>      <td>   122</td>      <th>  AIC:               </th> <td>   288.3</td>\n",
       "</tr>\n",
       "<tr>\n",
       "  <th>Df Residuals:</th>          <td>   119</td>      <th>  BIC:               </th> <td>   296.7</td>\n",
       "</tr>\n",
       "<tr>\n",
       "  <th>Df Model:</th>              <td>     2</td>      <th>                     </th>     <td> </td>   \n",
       "</tr>\n",
       "<tr>\n",
       "  <th>Covariance Type:</th>      <td>nonrobust</td>    <th>                     </th>     <td> </td>   \n",
       "</tr>\n",
       "</table>\n",
       "<table class=\"simpletable\">\n",
       "<tr>\n",
       "        <td></td>          <th>coef</th>     <th>std err</th>      <th>t</th>      <th>P>|t|</th>  <th>[0.025</th>    <th>0.975]</th>  \n",
       "</tr>\n",
       "<tr>\n",
       "  <th>Intercept</th>    <td>-1580.6879</td> <td>  243.357</td> <td>   -6.495</td> <td> 0.000</td> <td>-2062.559</td> <td>-1098.817</td>\n",
       "</tr>\n",
       "<tr>\n",
       "  <th>year</th>         <td>    1.6446</td> <td>    0.249</td> <td>    6.609</td> <td> 0.000</td> <td>    1.152</td> <td>    2.137</td>\n",
       "</tr>\n",
       "<tr>\n",
       "  <th>I(year ** 2)</th> <td>   -0.0004</td> <td> 6.36e-05</td> <td>   -6.505</td> <td> 0.000</td> <td>   -0.001</td> <td>   -0.000</td>\n",
       "</tr>\n",
       "</table>\n",
       "<table class=\"simpletable\">\n",
       "<tr>\n",
       "  <th>Omnibus:</th>       <td> 9.573</td> <th>  Durbin-Watson:     </th> <td>   1.456</td>\n",
       "</tr>\n",
       "<tr>\n",
       "  <th>Prob(Omnibus):</th> <td> 0.008</td> <th>  Jarque-Bera (JB):  </th> <td>   9.646</td>\n",
       "</tr>\n",
       "<tr>\n",
       "  <th>Skew:</th>          <td>-0.592</td> <th>  Prob(JB):          </th> <td> 0.00804</td>\n",
       "</tr>\n",
       "<tr>\n",
       "  <th>Kurtosis:</th>      <td> 3.705</td> <th>  Cond. No.          </th> <td>1.32e+10</td>\n",
       "</tr>\n",
       "</table><br/><br/>Notes:<br/>[1] Standard Errors assume that the covariance matrix of the errors is correctly specified.<br/>[2] The condition number is large, 1.32e+10. This might indicate that there are<br/>strong multicollinearity or other numerical problems."
      ],
      "text/latex": [
       "\\begin{center}\n",
       "\\begin{tabular}{lclc}\n",
       "\\toprule\n",
       "\\textbf{Dep. Variable:}    &      speed       & \\textbf{  R-squared:         } &     0.641   \\\\\n",
       "\\textbf{Model:}            &       OLS        & \\textbf{  Adj. R-squared:    } &     0.635   \\\\\n",
       "\\textbf{Method:}           &  Least Squares   & \\textbf{  F-statistic:       } &     106.2   \\\\\n",
       "\\textbf{Date:}             & Sat, 19 Oct 2024 & \\textbf{  Prob (F-statistic):} &  3.37e-27   \\\\\n",
       "\\textbf{Time:}             &     08:04:25     & \\textbf{  Log-Likelihood:    } &   -141.13   \\\\\n",
       "\\textbf{No. Observations:} &         122      & \\textbf{  AIC:               } &     288.3   \\\\\n",
       "\\textbf{Df Residuals:}     &         119      & \\textbf{  BIC:               } &     296.7   \\\\\n",
       "\\textbf{Df Model:}         &           2      & \\textbf{                     } &             \\\\\n",
       "\\textbf{Covariance Type:}  &    nonrobust     & \\textbf{                     } &             \\\\\n",
       "\\bottomrule\n",
       "\\end{tabular}\n",
       "\\begin{tabular}{lcccccc}\n",
       "                      & \\textbf{coef} & \\textbf{std err} & \\textbf{t} & \\textbf{P$> |$t$|$} & \\textbf{[0.025} & \\textbf{0.975]}  \\\\\n",
       "\\midrule\n",
       "\\textbf{Intercept}    &   -1580.6879  &      243.357     &    -6.495  &         0.000        &    -2062.559    &    -1098.817     \\\\\n",
       "\\textbf{year}         &       1.6446  &        0.249     &     6.609  &         0.000        &        1.152    &        2.137     \\\\\n",
       "\\textbf{I(year ** 2)} &      -0.0004  &     6.36e-05     &    -6.505  &         0.000        &       -0.001    &       -0.000     \\\\\n",
       "\\bottomrule\n",
       "\\end{tabular}\n",
       "\\begin{tabular}{lclc}\n",
       "\\textbf{Omnibus:}       &  9.573 & \\textbf{  Durbin-Watson:     } &    1.456  \\\\\n",
       "\\textbf{Prob(Omnibus):} &  0.008 & \\textbf{  Jarque-Bera (JB):  } &    9.646  \\\\\n",
       "\\textbf{Skew:}          & -0.592 & \\textbf{  Prob(JB):          } &  0.00804  \\\\\n",
       "\\textbf{Kurtosis:}      &  3.705 & \\textbf{  Cond. No.          } & 1.32e+10  \\\\\n",
       "\\bottomrule\n",
       "\\end{tabular}\n",
       "%\\caption{OLS Regression Results}\n",
       "\\end{center}\n",
       "\n",
       "Notes: \\newline\n",
       " [1] Standard Errors assume that the covariance matrix of the errors is correctly specified. \\newline\n",
       " [2] The condition number is large, 1.32e+10. This might indicate that there are \\newline\n",
       " strong multicollinearity or other numerical problems."
      ],
      "text/plain": [
       "<class 'statsmodels.iolib.summary.Summary'>\n",
       "\"\"\"\n",
       "                            OLS Regression Results                            \n",
       "==============================================================================\n",
       "Dep. Variable:                  speed   R-squared:                       0.641\n",
       "Model:                            OLS   Adj. R-squared:                  0.635\n",
       "Method:                 Least Squares   F-statistic:                     106.2\n",
       "Date:                Sat, 19 Oct 2024   Prob (F-statistic):           3.37e-27\n",
       "Time:                        08:04:25   Log-Likelihood:                -141.13\n",
       "No. Observations:                 122   AIC:                             288.3\n",
       "Df Residuals:                     119   BIC:                             296.7\n",
       "Df Model:                           2                                         \n",
       "Covariance Type:            nonrobust                                         \n",
       "================================================================================\n",
       "                   coef    std err          t      P>|t|      [0.025      0.975]\n",
       "--------------------------------------------------------------------------------\n",
       "Intercept    -1580.6879    243.357     -6.495      0.000   -2062.559   -1098.817\n",
       "year             1.6446      0.249      6.609      0.000       1.152       2.137\n",
       "I(year ** 2)    -0.0004   6.36e-05     -6.505      0.000      -0.001      -0.000\n",
       "==============================================================================\n",
       "Omnibus:                        9.573   Durbin-Watson:                   1.456\n",
       "Prob(Omnibus):                  0.008   Jarque-Bera (JB):                9.646\n",
       "Skew:                          -0.592   Prob(JB):                      0.00804\n",
       "Kurtosis:                       3.705   Cond. No.                     1.32e+10\n",
       "==============================================================================\n",
       "\n",
       "Notes:\n",
       "[1] Standard Errors assume that the covariance matrix of the errors is correctly specified.\n",
       "[2] The condition number is large, 1.32e+10. This might indicate that there are\n",
       "strong multicollinearity or other numerical problems.\n",
       "\"\"\""
      ]
     },
     "execution_count": 16,
     "metadata": {},
     "output_type": "execute_result"
    }
   ],
   "source": [
    "lm_quad = smf.ols('speed ~ year + I(year**2)', data = derby).fit()\n",
    "lm_quad.summary()"
   ]
  },
  {
   "cell_type": "code",
   "execution_count": 43,
   "id": "ba0ae469",
   "metadata": {},
   "outputs": [
    {
     "data": {
      "image/png": "[encoded data removed]",
      "text/plain": [
       "<Figure size 640x480 with 1 Axes>"
      ]
     },
     "metadata": {},
     "output_type": "display_data"
    }
   ],
   "source": [
    "derby.plot(x = 'year', y = 'speed', kind = 'scatter')\n",
    "plt.plot(derby['year'], lm_quad.fittedvalues, color = 'yellow');"
   ]
  },
  {
   "cell_type": "code",
   "execution_count": 44,
   "id": "f3f2676b",
   "metadata": {},
   "outputs": [
    {
     "data": {
      "image/png": "[encoded data removed]",
      "text/plain": [
       "<Figure size 640x480 with 1 Axes>"
      ]
     },
     "metadata": {},
     "output_type": "display_data"
    }
   ],
   "source": [
    "plt.scatter(lm_quad.fittedvalues, lm_quad.resid)\n",
    "xmin, xmax = plt.xlim()\n",
    "plt.hlines(y = 0, xmin = xmin, xmax = xmax, color = 'blue')\n",
    "plt.xlim(xmin, xmax);"
   ]
  },
  {
   "cell_type": "markdown",
   "id": "915d18ed",
   "metadata": {},
   "source": [
    "Visually, it appears that the quadratic model is a better fit. However, if we want to check whether the coefficient on the squared term is statistically significant, we can do an [ANOVA test](https://online.stat.psu.edu/stat501/lesson/6/6.2) to compare the two models.\n",
    "\n",
    "The null hypothesis for this test is that the coefficients for any new terms are all equal to zero and the alternative is that at least one is nonzero. In this case, the only new term is the squared term, so the alternative hypothesis says that this term has a nonzero coefficient."
   ]
  },
  {
   "cell_type": "code",
   "execution_count": 19,
   "id": "6af653c9",
   "metadata": {},
   "outputs": [
    {
     "data": {
      "text/html": [
       "<div>\n",
       "<style scoped>\n",
       "    .dataframe tbody tr th:only-of-type {\n",
       "        vertical-align: middle;\n",
       "    }\n",
       "\n",
       "    .dataframe tbody tr th {\n",
       "        vertical-align: top;\n",
       "    }\n",
       "\n",
       "    .dataframe thead th {\n",
       "        text-align: right;\n",
       "    }\n",
       "</style>\n",
       "<table border=\"1\" class=\"dataframe\">\n",
       "  <thead>\n",
       "    <tr style=\"text-align: right;\">\n",
       "      <th></th>\n",
       "      <th>df_resid</th>\n",
       "      <th>ssr</th>\n",
       "      <th>df_diff</th>\n",
       "      <th>ss_diff</th>\n",
       "      <th>F</th>\n",
       "      <th>Pr(&gt;F)</th>\n",
       "    </tr>\n",
       "  </thead>\n",
       "  <tbody>\n",
       "    <tr>\n",
       "      <th>0</th>\n",
       "      <td>120.0</td>\n",
       "      <td>97.899297</td>\n",
       "      <td>0.0</td>\n",
       "      <td>NaN</td>\n",
       "      <td>NaN</td>\n",
       "      <td>NaN</td>\n",
       "    </tr>\n",
       "    <tr>\n",
       "      <th>1</th>\n",
       "      <td>119.0</td>\n",
       "      <td>72.221209</td>\n",
       "      <td>1.0</td>\n",
       "      <td>25.678089</td>\n",
       "      <td>42.310183</td>\n",
       "      <td>1.920684e-09</td>\n",
       "    </tr>\n",
       "  </tbody>\n",
       "</table>\n",
       "</div>"
      ],
      "text/plain": [
       "   df_resid        ssr  df_diff    ss_diff          F        Pr(>F)\n",
       "0     120.0  97.899297      0.0        NaN        NaN           NaN\n",
       "1     119.0  72.221209      1.0  25.678089  42.310183  1.920684e-09"
      ]
     },
     "execution_count": 19,
     "metadata": {},
     "output_type": "execute_result"
    }
   ],
   "source": [
    "sm.stats.anova_lm(lm, lm_quad)"
   ]
  },
  {
   "cell_type": "markdown",
   "id": "c881b9ae",
   "metadata": {},
   "source": [
    "the p-value is the very bottom right value. a lower p-value means more likely to be statistically significant. \n",
    "The very small p-value in the bottom right indicates that there is statistically signicant evidence that the quadratic term has a nonzero coefficient."
   ]
  },
  {
   "cell_type": "markdown",
   "id": "401887f6",
   "metadata": {},
   "source": [
    "You may have noticed that statsmodels issues a warning:\n",
    "```\n",
    "[2] The condition number is large, 1.32e+10. This might indicate that there are\n",
    "strong multicollinearity or other numerical problems.\n",
    "```\n",
    "\n",
    "We can remove this warning by standardizing our predictor variable. To do this, we subtract the mean and divide by the standard deviation. The result is that we have predictor variables with mean 0 and standard deviation 1.\n",
    "\n",
    "This does make it more difficult to interpret the results, but it can help statsmodels to fit the model."
   ]
  },
  {
   "cell_type": "code",
   "execution_count": 20,
   "id": "03c57764",
   "metadata": {},
   "outputs": [],
   "source": [
    "derby['year_z'] = (derby['year'] - derby['year'].mean()) / derby['year'].std()"
   ]
  },
  {
   "cell_type": "code",
   "execution_count": 21,
   "id": "efa45cb1",
   "metadata": {},
   "outputs": [
    {
     "data": {
      "text/html": [
       "<table class=\"simpletable\">\n",
       "<caption>OLS Regression Results</caption>\n",
       "<tr>\n",
       "  <th>Dep. Variable:</th>          <td>speed</td>      <th>  R-squared:         </th> <td>   0.641</td>\n",
       "</tr>\n",
       "<tr>\n",
       "  <th>Model:</th>                   <td>OLS</td>       <th>  Adj. R-squared:    </th> <td>   0.635</td>\n",
       "</tr>\n",
       "<tr>\n",
       "  <th>Method:</th>             <td>Least Squares</td>  <th>  F-statistic:       </th> <td>   106.2</td>\n",
       "</tr>\n",
       "<tr>\n",
       "  <th>Date:</th>             <td>Sat, 19 Oct 2024</td> <th>  Prob (F-statistic):</th> <td>3.37e-27</td>\n",
       "</tr>\n",
       "<tr>\n",
       "  <th>Time:</th>                 <td>08:04:26</td>     <th>  Log-Likelihood:    </th> <td> -141.13</td>\n",
       "</tr>\n",
       "<tr>\n",
       "  <th>No. Observations:</th>      <td>   122</td>      <th>  AIC:               </th> <td>   288.3</td>\n",
       "</tr>\n",
       "<tr>\n",
       "  <th>Df Residuals:</th>          <td>   119</td>      <th>  BIC:               </th> <td>   296.7</td>\n",
       "</tr>\n",
       "<tr>\n",
       "  <th>Df Model:</th>              <td>     2</td>      <th>                     </th>     <td> </td>   \n",
       "</tr>\n",
       "<tr>\n",
       "  <th>Covariance Type:</th>      <td>nonrobust</td>    <th>                     </th>     <td> </td>   \n",
       "</tr>\n",
       "</table>\n",
       "<table class=\"simpletable\">\n",
       "<tr>\n",
       "         <td></td>           <th>coef</th>     <th>std err</th>      <th>t</th>      <th>P>|t|</th>  <th>[0.025</th>    <th>0.975]</th>  \n",
       "</tr>\n",
       "<tr>\n",
       "  <th>Intercept</th>      <td>   53.6820</td> <td>    0.106</td> <td>  507.381</td> <td> 0.000</td> <td>   53.472</td> <td>   53.891</td>\n",
       "</tr>\n",
       "<tr>\n",
       "  <th>year_z</th>         <td>    0.9239</td> <td>    0.071</td> <td>   13.045</td> <td> 0.000</td> <td>    0.784</td> <td>    1.064</td>\n",
       "</tr>\n",
       "<tr>\n",
       "  <th>I(year_z ** 2)</th> <td>   -0.5172</td> <td>    0.080</td> <td>   -6.505</td> <td> 0.000</td> <td>   -0.675</td> <td>   -0.360</td>\n",
       "</tr>\n",
       "</table>\n",
       "<table class=\"simpletable\">\n",
       "<tr>\n",
       "  <th>Omnibus:</th>       <td> 9.573</td> <th>  Durbin-Watson:     </th> <td>   1.456</td>\n",
       "</tr>\n",
       "<tr>\n",
       "  <th>Prob(Omnibus):</th> <td> 0.008</td> <th>  Jarque-Bera (JB):  </th> <td>   9.646</td>\n",
       "</tr>\n",
       "<tr>\n",
       "  <th>Skew:</th>          <td>-0.592</td> <th>  Prob(JB):          </th> <td> 0.00804</td>\n",
       "</tr>\n",
       "<tr>\n",
       "  <th>Kurtosis:</th>      <td> 3.705</td> <th>  Cond. No.          </th> <td>    2.76</td>\n",
       "</tr>\n",
       "</table><br/><br/>Notes:<br/>[1] Standard Errors assume that the covariance matrix of the errors is correctly specified."
      ],
      "text/latex": [
       "\\begin{center}\n",
       "\\begin{tabular}{lclc}\n",
       "\\toprule\n",
       "\\textbf{Dep. Variable:}    &      speed       & \\textbf{  R-squared:         } &     0.641   \\\\\n",
       "\\textbf{Model:}            &       OLS        & \\textbf{  Adj. R-squared:    } &     0.635   \\\\\n",
       "\\textbf{Method:}           &  Least Squares   & \\textbf{  F-statistic:       } &     106.2   \\\\\n",
       "\\textbf{Date:}             & Sat, 19 Oct 2024 & \\textbf{  Prob (F-statistic):} &  3.37e-27   \\\\\n",
       "\\textbf{Time:}             &     08:04:26     & \\textbf{  Log-Likelihood:    } &   -141.13   \\\\\n",
       "\\textbf{No. Observations:} &         122      & \\textbf{  AIC:               } &     288.3   \\\\\n",
       "\\textbf{Df Residuals:}     &         119      & \\textbf{  BIC:               } &     296.7   \\\\\n",
       "\\textbf{Df Model:}         &           2      & \\textbf{                     } &             \\\\\n",
       "\\textbf{Covariance Type:}  &    nonrobust     & \\textbf{                     } &             \\\\\n",
       "\\bottomrule\n",
       "\\end{tabular}\n",
       "\\begin{tabular}{lcccccc}\n",
       "                         & \\textbf{coef} & \\textbf{std err} & \\textbf{t} & \\textbf{P$> |$t$|$} & \\textbf{[0.025} & \\textbf{0.975]}  \\\\\n",
       "\\midrule\n",
       "\\textbf{Intercept}       &      53.6820  &        0.106     &   507.381  &         0.000        &       53.472    &       53.891     \\\\\n",
       "\\textbf{year\\_z}         &       0.9239  &        0.071     &    13.045  &         0.000        &        0.784    &        1.064     \\\\\n",
       "\\textbf{I(year\\_z ** 2)} &      -0.5172  &        0.080     &    -6.505  &         0.000        &       -0.675    &       -0.360     \\\\\n",
       "\\bottomrule\n",
       "\\end{tabular}\n",
       "\\begin{tabular}{lclc}\n",
       "\\textbf{Omnibus:}       &  9.573 & \\textbf{  Durbin-Watson:     } &    1.456  \\\\\n",
       "\\textbf{Prob(Omnibus):} &  0.008 & \\textbf{  Jarque-Bera (JB):  } &    9.646  \\\\\n",
       "\\textbf{Skew:}          & -0.592 & \\textbf{  Prob(JB):          } &  0.00804  \\\\\n",
       "\\textbf{Kurtosis:}      &  3.705 & \\textbf{  Cond. No.          } &     2.76  \\\\\n",
       "\\bottomrule\n",
       "\\end{tabular}\n",
       "%\\caption{OLS Regression Results}\n",
       "\\end{center}\n",
       "\n",
       "Notes: \\newline\n",
       " [1] Standard Errors assume that the covariance matrix of the errors is correctly specified."
      ],
      "text/plain": [
       "<class 'statsmodels.iolib.summary.Summary'>\n",
       "\"\"\"\n",
       "                            OLS Regression Results                            \n",
       "==============================================================================\n",
       "Dep. Variable:                  speed   R-squared:                       0.641\n",
       "Model:                            OLS   Adj. R-squared:                  0.635\n",
       "Method:                 Least Squares   F-statistic:                     106.2\n",
       "Date:                Sat, 19 Oct 2024   Prob (F-statistic):           3.37e-27\n",
       "Time:                        08:04:26   Log-Likelihood:                -141.13\n",
       "No. Observations:                 122   AIC:                             288.3\n",
       "Df Residuals:                     119   BIC:                             296.7\n",
       "Df Model:                           2                                         \n",
       "Covariance Type:            nonrobust                                         \n",
       "==================================================================================\n",
       "                     coef    std err          t      P>|t|      [0.025      0.975]\n",
       "----------------------------------------------------------------------------------\n",
       "Intercept         53.6820      0.106    507.381      0.000      53.472      53.891\n",
       "year_z             0.9239      0.071     13.045      0.000       0.784       1.064\n",
       "I(year_z ** 2)    -0.5172      0.080     -6.505      0.000      -0.675      -0.360\n",
       "==============================================================================\n",
       "Omnibus:                        9.573   Durbin-Watson:                   1.456\n",
       "Prob(Omnibus):                  0.008   Jarque-Bera (JB):                9.646\n",
       "Skew:                          -0.592   Prob(JB):                      0.00804\n",
       "Kurtosis:                       3.705   Cond. No.                         2.76\n",
       "==============================================================================\n",
       "\n",
       "Notes:\n",
       "[1] Standard Errors assume that the covariance matrix of the errors is correctly specified.\n",
       "\"\"\""
      ]
     },
     "execution_count": 21,
     "metadata": {},
     "output_type": "execute_result"
    }
   ],
   "source": [
    "lm_quad = smf.ols('speed ~ year_z + I(year_z**2)', data = derby).fit()\n",
    "lm_quad.summary()"
   ]
  },
  {
   "cell_type": "markdown",
   "id": "ae3dd050",
   "metadata": {},
   "source": [
    "Since we added a squared term, why don't we check a cubed term as well."
   ]
  },
  {
   "cell_type": "code",
   "execution_count": 22,
   "id": "3c8fe7aa",
   "metadata": {},
   "outputs": [
    {
     "data": {
      "text/html": [
       "<table class=\"simpletable\">\n",
       "<caption>OLS Regression Results</caption>\n",
       "<tr>\n",
       "  <th>Dep. Variable:</th>          <td>speed</td>      <th>  R-squared:         </th> <td>   0.643</td>\n",
       "</tr>\n",
       "<tr>\n",
       "  <th>Model:</th>                   <td>OLS</td>       <th>  Adj. R-squared:    </th> <td>   0.633</td>\n",
       "</tr>\n",
       "<tr>\n",
       "  <th>Method:</th>             <td>Least Squares</td>  <th>  F-statistic:       </th> <td>   70.71</td>\n",
       "</tr>\n",
       "<tr>\n",
       "  <th>Date:</th>             <td>Sat, 19 Oct 2024</td> <th>  Prob (F-statistic):</th> <td>3.05e-26</td>\n",
       "</tr>\n",
       "<tr>\n",
       "  <th>Time:</th>                 <td>08:04:26</td>     <th>  Log-Likelihood:    </th> <td> -140.86</td>\n",
       "</tr>\n",
       "<tr>\n",
       "  <th>No. Observations:</th>      <td>   122</td>      <th>  AIC:               </th> <td>   289.7</td>\n",
       "</tr>\n",
       "<tr>\n",
       "  <th>Df Residuals:</th>          <td>   118</td>      <th>  BIC:               </th> <td>   300.9</td>\n",
       "</tr>\n",
       "<tr>\n",
       "  <th>Df Model:</th>              <td>     3</td>      <th>                     </th>     <td> </td>   \n",
       "</tr>\n",
       "<tr>\n",
       "  <th>Covariance Type:</th>      <td>nonrobust</td>    <th>                     </th>     <td> </td>   \n",
       "</tr>\n",
       "</table>\n",
       "<table class=\"simpletable\">\n",
       "<tr>\n",
       "         <td></td>           <th>coef</th>     <th>std err</th>      <th>t</th>      <th>P>|t|</th>  <th>[0.025</th>    <th>0.975]</th>  \n",
       "</tr>\n",
       "<tr>\n",
       "  <th>Intercept</th>      <td>   53.6820</td> <td>    0.106</td> <td>  506.347</td> <td> 0.000</td> <td>   53.472</td> <td>   53.892</td>\n",
       "</tr>\n",
       "<tr>\n",
       "  <th>year_z</th>         <td>    1.0407</td> <td>    0.177</td> <td>    5.864</td> <td> 0.000</td> <td>    0.689</td> <td>    1.392</td>\n",
       "</tr>\n",
       "<tr>\n",
       "  <th>I(year_z ** 2)</th> <td>   -0.5172</td> <td>    0.080</td> <td>   -6.491</td> <td> 0.000</td> <td>   -0.675</td> <td>   -0.359</td>\n",
       "</tr>\n",
       "<tr>\n",
       "  <th>I(year_z ** 3)</th> <td>   -0.0654</td> <td>    0.091</td> <td>   -0.718</td> <td> 0.474</td> <td>   -0.246</td> <td>    0.115</td>\n",
       "</tr>\n",
       "</table>\n",
       "<table class=\"simpletable\">\n",
       "<tr>\n",
       "  <th>Omnibus:</th>       <td> 8.578</td> <th>  Durbin-Watson:     </th> <td>   1.462</td>\n",
       "</tr>\n",
       "<tr>\n",
       "  <th>Prob(Omnibus):</th> <td> 0.014</td> <th>  Jarque-Bera (JB):  </th> <td>   8.426</td>\n",
       "</tr>\n",
       "<tr>\n",
       "  <th>Skew:</th>          <td>-0.556</td> <th>  Prob(JB):          </th> <td>  0.0148</td>\n",
       "</tr>\n",
       "<tr>\n",
       "  <th>Kurtosis:</th>      <td> 3.648</td> <th>  Cond. No.          </th> <td>    5.99</td>\n",
       "</tr>\n",
       "</table><br/><br/>Notes:<br/>[1] Standard Errors assume that the covariance matrix of the errors is correctly specified."
      ],
      "text/latex": [
       "\\begin{center}\n",
       "\\begin{tabular}{lclc}\n",
       "\\toprule\n",
       "\\textbf{Dep. Variable:}    &      speed       & \\textbf{  R-squared:         } &     0.643   \\\\\n",
       "\\textbf{Model:}            &       OLS        & \\textbf{  Adj. R-squared:    } &     0.633   \\\\\n",
       "\\textbf{Method:}           &  Least Squares   & \\textbf{  F-statistic:       } &     70.71   \\\\\n",
       "\\textbf{Date:}             & Sat, 19 Oct 2024 & \\textbf{  Prob (F-statistic):} &  3.05e-26   \\\\\n",
       "\\textbf{Time:}             &     08:04:26     & \\textbf{  Log-Likelihood:    } &   -140.86   \\\\\n",
       "\\textbf{No. Observations:} &         122      & \\textbf{  AIC:               } &     289.7   \\\\\n",
       "\\textbf{Df Residuals:}     &         118      & \\textbf{  BIC:               } &     300.9   \\\\\n",
       "\\textbf{Df Model:}         &           3      & \\textbf{                     } &             \\\\\n",
       "\\textbf{Covariance Type:}  &    nonrobust     & \\textbf{                     } &             \\\\\n",
       "\\bottomrule\n",
       "\\end{tabular}\n",
       "\\begin{tabular}{lcccccc}\n",
       "                         & \\textbf{coef} & \\textbf{std err} & \\textbf{t} & \\textbf{P$> |$t$|$} & \\textbf{[0.025} & \\textbf{0.975]}  \\\\\n",
       "\\midrule\n",
       "\\textbf{Intercept}       &      53.6820  &        0.106     &   506.347  &         0.000        &       53.472    &       53.892     \\\\\n",
       "\\textbf{year\\_z}         &       1.0407  &        0.177     &     5.864  &         0.000        &        0.689    &        1.392     \\\\\n",
       "\\textbf{I(year\\_z ** 2)} &      -0.5172  &        0.080     &    -6.491  &         0.000        &       -0.675    &       -0.359     \\\\\n",
       "\\textbf{I(year\\_z ** 3)} &      -0.0654  &        0.091     &    -0.718  &         0.474        &       -0.246    &        0.115     \\\\\n",
       "\\bottomrule\n",
       "\\end{tabular}\n",
       "\\begin{tabular}{lclc}\n",
       "\\textbf{Omnibus:}       &  8.578 & \\textbf{  Durbin-Watson:     } &    1.462  \\\\\n",
       "\\textbf{Prob(Omnibus):} &  0.014 & \\textbf{  Jarque-Bera (JB):  } &    8.426  \\\\\n",
       "\\textbf{Skew:}          & -0.556 & \\textbf{  Prob(JB):          } &   0.0148  \\\\\n",
       "\\textbf{Kurtosis:}      &  3.648 & \\textbf{  Cond. No.          } &     5.99  \\\\\n",
       "\\bottomrule\n",
       "\\end{tabular}\n",
       "%\\caption{OLS Regression Results}\n",
       "\\end{center}\n",
       "\n",
       "Notes: \\newline\n",
       " [1] Standard Errors assume that the covariance matrix of the errors is correctly specified."
      ],
      "text/plain": [
       "<class 'statsmodels.iolib.summary.Summary'>\n",
       "\"\"\"\n",
       "                            OLS Regression Results                            \n",
       "==============================================================================\n",
       "Dep. Variable:                  speed   R-squared:                       0.643\n",
       "Model:                            OLS   Adj. R-squared:                  0.633\n",
       "Method:                 Least Squares   F-statistic:                     70.71\n",
       "Date:                Sat, 19 Oct 2024   Prob (F-statistic):           3.05e-26\n",
       "Time:                        08:04:26   Log-Likelihood:                -140.86\n",
       "No. Observations:                 122   AIC:                             289.7\n",
       "Df Residuals:                     118   BIC:                             300.9\n",
       "Df Model:                           3                                         \n",
       "Covariance Type:            nonrobust                                         \n",
       "==================================================================================\n",
       "                     coef    std err          t      P>|t|      [0.025      0.975]\n",
       "----------------------------------------------------------------------------------\n",
       "Intercept         53.6820      0.106    506.347      0.000      53.472      53.892\n",
       "year_z             1.0407      0.177      5.864      0.000       0.689       1.392\n",
       "I(year_z ** 2)    -0.5172      0.080     -6.491      0.000      -0.675      -0.359\n",
       "I(year_z ** 3)    -0.0654      0.091     -0.718      0.474      -0.246       0.115\n",
       "==============================================================================\n",
       "Omnibus:                        8.578   Durbin-Watson:                   1.462\n",
       "Prob(Omnibus):                  0.014   Jarque-Bera (JB):                8.426\n",
       "Skew:                          -0.556   Prob(JB):                       0.0148\n",
       "Kurtosis:                       3.648   Cond. No.                         5.99\n",
       "==============================================================================\n",
       "\n",
       "Notes:\n",
       "[1] Standard Errors assume that the covariance matrix of the errors is correctly specified.\n",
       "\"\"\""
      ]
     },
     "execution_count": 22,
     "metadata": {},
     "output_type": "execute_result"
    }
   ],
   "source": [
    "lm_cubic = smf.ols('speed ~ year_z + I(year_z**2) + I(year_z**3)', data = derby).fit()\n",
    "lm_cubic.summary()"
   ]
  },
  {
   "cell_type": "code",
   "execution_count": 23,
   "id": "8f11fbd6",
   "metadata": {},
   "outputs": [
    {
     "data": {
      "image/png": "[encoded data removed]",
      "text/plain": [
       "<Figure size 640x480 with 1 Axes>"
      ]
     },
     "metadata": {},
     "output_type": "display_data"
    }
   ],
   "source": [
    "derby.plot(x = 'year', y = 'speed', kind = 'scatter')\n",
    "plt.plot(derby['year'], lm_quad.fittedvalues, color = 'blue', label = 'quadratic')\n",
    "plt.plot(derby['year'], lm_cubic.fittedvalues, color = 'red', label = 'cubic')\n",
    "plt.legend();"
   ]
  },
  {
   "cell_type": "markdown",
   "id": "3324cafc",
   "metadata": {},
   "source": [
    "Let's see if the coefficient on the cubed term is significant."
   ]
  },
  {
   "cell_type": "code",
   "execution_count": 24,
   "id": "5aeeff4f",
   "metadata": {},
   "outputs": [
    {
     "data": {
      "text/html": [
       "<div>\n",
       "<style scoped>\n",
       "    .dataframe tbody tr th:only-of-type {\n",
       "        vertical-align: middle;\n",
       "    }\n",
       "\n",
       "    .dataframe tbody tr th {\n",
       "        vertical-align: top;\n",
       "    }\n",
       "\n",
       "    .dataframe thead th {\n",
       "        text-align: right;\n",
       "    }\n",
       "</style>\n",
       "<table border=\"1\" class=\"dataframe\">\n",
       "  <thead>\n",
       "    <tr style=\"text-align: right;\">\n",
       "      <th></th>\n",
       "      <th>df_resid</th>\n",
       "      <th>ssr</th>\n",
       "      <th>df_diff</th>\n",
       "      <th>ss_diff</th>\n",
       "      <th>F</th>\n",
       "      <th>Pr(&gt;F)</th>\n",
       "    </tr>\n",
       "  </thead>\n",
       "  <tbody>\n",
       "    <tr>\n",
       "      <th>0</th>\n",
       "      <td>119.0</td>\n",
       "      <td>72.221209</td>\n",
       "      <td>0.0</td>\n",
       "      <td>NaN</td>\n",
       "      <td>NaN</td>\n",
       "      <td>NaN</td>\n",
       "    </tr>\n",
       "    <tr>\n",
       "      <th>1</th>\n",
       "      <td>118.0</td>\n",
       "      <td>71.907071</td>\n",
       "      <td>1.0</td>\n",
       "      <td>0.314138</td>\n",
       "      <td>0.515502</td>\n",
       "      <td>0.474186</td>\n",
       "    </tr>\n",
       "  </tbody>\n",
       "</table>\n",
       "</div>"
      ],
      "text/plain": [
       "   df_resid        ssr  df_diff   ss_diff         F    Pr(>F)\n",
       "0     119.0  72.221209      0.0       NaN       NaN       NaN\n",
       "1     118.0  71.907071      1.0  0.314138  0.515502  0.474186"
      ]
     },
     "execution_count": 24,
     "metadata": {},
     "output_type": "execute_result"
    }
   ],
   "source": [
    "sm.stats.anova_lm(lm_quad, lm_cubic)"
   ]
  },
  {
   "cell_type": "markdown",
   "id": "2f001c7b",
   "metadata": {},
   "source": [
    "**Question:** How do we interpret this output?"
   ]
  },
  {
   "cell_type": "markdown",
   "id": "bf97973e",
   "metadata": {},
   "source": [
    "## Question 1: How does the condition of the track affect the speed of the winner, after controlling for the year?\n",
    "\n",
    "Now, let's add the condition of the track. This is a categorical variable, but statsmodels can recognize this and automatically account for that."
   ]
  },
  {
   "cell_type": "code",
   "execution_count": 25,
   "id": "b7eb27d6",
   "metadata": {},
   "outputs": [
    {
     "data": {
      "text/html": [
       "<table class=\"simpletable\">\n",
       "<caption>OLS Regression Results</caption>\n",
       "<tr>\n",
       "  <th>Dep. Variable:</th>          <td>speed</td>      <th>  R-squared:         </th> <td>   0.822</td>\n",
       "</tr>\n",
       "<tr>\n",
       "  <th>Model:</th>                   <td>OLS</td>       <th>  Adj. R-squared:    </th> <td>   0.815</td>\n",
       "</tr>\n",
       "<tr>\n",
       "  <th>Method:</th>             <td>Least Squares</td>  <th>  F-statistic:       </th> <td>   134.6</td>\n",
       "</tr>\n",
       "<tr>\n",
       "  <th>Date:</th>             <td>Sat, 19 Oct 2024</td> <th>  Prob (F-statistic):</th> <td>8.13e-43</td>\n",
       "</tr>\n",
       "<tr>\n",
       "  <th>Time:</th>                 <td>08:04:26</td>     <th>  Log-Likelihood:    </th> <td> -98.505</td>\n",
       "</tr>\n",
       "<tr>\n",
       "  <th>No. Observations:</th>      <td>   122</td>      <th>  AIC:               </th> <td>   207.0</td>\n",
       "</tr>\n",
       "<tr>\n",
       "  <th>Df Residuals:</th>          <td>   117</td>      <th>  BIC:               </th> <td>   221.0</td>\n",
       "</tr>\n",
       "<tr>\n",
       "  <th>Df Model:</th>              <td>     4</td>      <th>                     </th>     <td> </td>   \n",
       "</tr>\n",
       "<tr>\n",
       "  <th>Covariance Type:</th>      <td>nonrobust</td>    <th>                     </th>     <td> </td>   \n",
       "</tr>\n",
       "</table>\n",
       "<table class=\"simpletable\">\n",
       "<tr>\n",
       "          <td></td>             <th>coef</th>     <th>std err</th>      <th>t</th>      <th>P>|t|</th>  <th>[0.025</th>    <th>0.975]</th>  \n",
       "</tr>\n",
       "<tr>\n",
       "  <th>Intercept</th>         <td>   53.9282</td> <td>    0.080</td> <td>  671.535</td> <td> 0.000</td> <td>   53.769</td> <td>   54.087</td>\n",
       "</tr>\n",
       "<tr>\n",
       "  <th>condition[T.good]</th> <td>   -0.4987</td> <td>    0.187</td> <td>   -2.664</td> <td> 0.009</td> <td>   -0.870</td> <td>   -0.128</td>\n",
       "</tr>\n",
       "<tr>\n",
       "  <th>condition[T.slow]</th> <td>   -1.4205</td> <td>    0.131</td> <td>  -10.843</td> <td> 0.000</td> <td>   -1.680</td> <td>   -1.161</td>\n",
       "</tr>\n",
       "<tr>\n",
       "  <th>year_z</th>            <td>    0.8107</td> <td>    0.052</td> <td>   15.672</td> <td> 0.000</td> <td>    0.708</td> <td>    0.913</td>\n",
       "</tr>\n",
       "<tr>\n",
       "  <th>I(year_z ** 2)</th>    <td>   -0.4425</td> <td>    0.057</td> <td>   -7.751</td> <td> 0.000</td> <td>   -0.556</td> <td>   -0.329</td>\n",
       "</tr>\n",
       "</table>\n",
       "<table class=\"simpletable\">\n",
       "<tr>\n",
       "  <th>Omnibus:</th>       <td> 1.126</td> <th>  Durbin-Watson:     </th> <td>   1.936</td>\n",
       "</tr>\n",
       "<tr>\n",
       "  <th>Prob(Omnibus):</th> <td> 0.570</td> <th>  Jarque-Bera (JB):  </th> <td>   0.749</td>\n",
       "</tr>\n",
       "<tr>\n",
       "  <th>Skew:</th>          <td>-0.171</td> <th>  Prob(JB):          </th> <td>   0.688</td>\n",
       "</tr>\n",
       "<tr>\n",
       "  <th>Kurtosis:</th>      <td> 3.175</td> <th>  Cond. No.          </th> <td>    6.04</td>\n",
       "</tr>\n",
       "</table><br/><br/>Notes:<br/>[1] Standard Errors assume that the covariance matrix of the errors is correctly specified."
      ],
      "text/latex": [
       "\\begin{center}\n",
       "\\begin{tabular}{lclc}\n",
       "\\toprule\n",
       "\\textbf{Dep. Variable:}    &      speed       & \\textbf{  R-squared:         } &     0.822   \\\\\n",
       "\\textbf{Model:}            &       OLS        & \\textbf{  Adj. R-squared:    } &     0.815   \\\\\n",
       "\\textbf{Method:}           &  Least Squares   & \\textbf{  F-statistic:       } &     134.6   \\\\\n",
       "\\textbf{Date:}             & Sat, 19 Oct 2024 & \\textbf{  Prob (F-statistic):} &  8.13e-43   \\\\\n",
       "\\textbf{Time:}             &     08:04:26     & \\textbf{  Log-Likelihood:    } &   -98.505   \\\\\n",
       "\\textbf{No. Observations:} &         122      & \\textbf{  AIC:               } &     207.0   \\\\\n",
       "\\textbf{Df Residuals:}     &         117      & \\textbf{  BIC:               } &     221.0   \\\\\n",
       "\\textbf{Df Model:}         &           4      & \\textbf{                     } &             \\\\\n",
       "\\textbf{Covariance Type:}  &    nonrobust     & \\textbf{                     } &             \\\\\n",
       "\\bottomrule\n",
       "\\end{tabular}\n",
       "\\begin{tabular}{lcccccc}\n",
       "                           & \\textbf{coef} & \\textbf{std err} & \\textbf{t} & \\textbf{P$> |$t$|$} & \\textbf{[0.025} & \\textbf{0.975]}  \\\\\n",
       "\\midrule\n",
       "\\textbf{Intercept}         &      53.9282  &        0.080     &   671.535  &         0.000        &       53.769    &       54.087     \\\\\n",
       "\\textbf{condition[T.good]} &      -0.4987  &        0.187     &    -2.664  &         0.009        &       -0.870    &       -0.128     \\\\\n",
       "\\textbf{condition[T.slow]} &      -1.4205  &        0.131     &   -10.843  &         0.000        &       -1.680    &       -1.161     \\\\\n",
       "\\textbf{year\\_z}           &       0.8107  &        0.052     &    15.672  &         0.000        &        0.708    &        0.913     \\\\\n",
       "\\textbf{I(year\\_z ** 2)}   &      -0.4425  &        0.057     &    -7.751  &         0.000        &       -0.556    &       -0.329     \\\\\n",
       "\\bottomrule\n",
       "\\end{tabular}\n",
       "\\begin{tabular}{lclc}\n",
       "\\textbf{Omnibus:}       &  1.126 & \\textbf{  Durbin-Watson:     } &    1.936  \\\\\n",
       "\\textbf{Prob(Omnibus):} &  0.570 & \\textbf{  Jarque-Bera (JB):  } &    0.749  \\\\\n",
       "\\textbf{Skew:}          & -0.171 & \\textbf{  Prob(JB):          } &    0.688  \\\\\n",
       "\\textbf{Kurtosis:}      &  3.175 & \\textbf{  Cond. No.          } &     6.04  \\\\\n",
       "\\bottomrule\n",
       "\\end{tabular}\n",
       "%\\caption{OLS Regression Results}\n",
       "\\end{center}\n",
       "\n",
       "Notes: \\newline\n",
       " [1] Standard Errors assume that the covariance matrix of the errors is correctly specified."
      ],
      "text/plain": [
       "<class 'statsmodels.iolib.summary.Summary'>\n",
       "\"\"\"\n",
       "                            OLS Regression Results                            \n",
       "==============================================================================\n",
       "Dep. Variable:                  speed   R-squared:                       0.822\n",
       "Model:                            OLS   Adj. R-squared:                  0.815\n",
       "Method:                 Least Squares   F-statistic:                     134.6\n",
       "Date:                Sat, 19 Oct 2024   Prob (F-statistic):           8.13e-43\n",
       "Time:                        08:04:26   Log-Likelihood:                -98.505\n",
       "No. Observations:                 122   AIC:                             207.0\n",
       "Df Residuals:                     117   BIC:                             221.0\n",
       "Df Model:                           4                                         \n",
       "Covariance Type:            nonrobust                                         \n",
       "=====================================================================================\n",
       "                        coef    std err          t      P>|t|      [0.025      0.975]\n",
       "-------------------------------------------------------------------------------------\n",
       "Intercept            53.9282      0.080    671.535      0.000      53.769      54.087\n",
       "condition[T.good]    -0.4987      0.187     -2.664      0.009      -0.870      -0.128\n",
       "condition[T.slow]    -1.4205      0.131    -10.843      0.000      -1.680      -1.161\n",
       "year_z                0.8107      0.052     15.672      0.000       0.708       0.913\n",
       "I(year_z ** 2)       -0.4425      0.057     -7.751      0.000      -0.556      -0.329\n",
       "==============================================================================\n",
       "Omnibus:                        1.126   Durbin-Watson:                   1.936\n",
       "Prob(Omnibus):                  0.570   Jarque-Bera (JB):                0.749\n",
       "Skew:                          -0.171   Prob(JB):                        0.688\n",
       "Kurtosis:                       3.175   Cond. No.                         6.04\n",
       "==============================================================================\n",
       "\n",
       "Notes:\n",
       "[1] Standard Errors assume that the covariance matrix of the errors is correctly specified.\n",
       "\"\"\""
      ]
     },
     "execution_count": 25,
     "metadata": {},
     "output_type": "execute_result"
    }
   ],
   "source": [
    "lm_condition = smf.ols('speed ~ year_z + I(year_z**2) + condition', data = derby).fit()\n",
    "lm_condition.summary()"
   ]
  },
  {
   "cell_type": "markdown",
   "id": "a6d20ffd",
   "metadata": {},
   "source": [
    "*\"fast\" is the reference category, so that's why it's not shown. T.good and T.slow are in reference to the reference category. coefs can be itnterpreted as reference to the reference category.*"
   ]
  },
  {
   "cell_type": "markdown",
   "id": "e08613a7",
   "metadata": {},
   "source": [
    "Let's check and see if any of the new coefficients are statistically significant."
   ]
  },
  {
   "cell_type": "code",
   "execution_count": 26,
   "id": "e7edbe3b",
   "metadata": {},
   "outputs": [
    {
     "data": {
      "text/html": [
       "<div>\n",
       "<style scoped>\n",
       "    .dataframe tbody tr th:only-of-type {\n",
       "        vertical-align: middle;\n",
       "    }\n",
       "\n",
       "    .dataframe tbody tr th {\n",
       "        vertical-align: top;\n",
       "    }\n",
       "\n",
       "    .dataframe thead th {\n",
       "        text-align: right;\n",
       "    }\n",
       "</style>\n",
       "<table border=\"1\" class=\"dataframe\">\n",
       "  <thead>\n",
       "    <tr style=\"text-align: right;\">\n",
       "      <th></th>\n",
       "      <th>df_resid</th>\n",
       "      <th>ssr</th>\n",
       "      <th>df_diff</th>\n",
       "      <th>ss_diff</th>\n",
       "      <th>F</th>\n",
       "      <th>Pr(&gt;F)</th>\n",
       "    </tr>\n",
       "  </thead>\n",
       "  <tbody>\n",
       "    <tr>\n",
       "      <th>0</th>\n",
       "      <td>119.0</td>\n",
       "      <td>72.221209</td>\n",
       "      <td>0.0</td>\n",
       "      <td>NaN</td>\n",
       "      <td>NaN</td>\n",
       "      <td>NaN</td>\n",
       "    </tr>\n",
       "    <tr>\n",
       "      <th>1</th>\n",
       "      <td>117.0</td>\n",
       "      <td>35.908700</td>\n",
       "      <td>2.0</td>\n",
       "      <td>36.312509</td>\n",
       "      <td>59.157858</td>\n",
       "      <td>1.767231e-18</td>\n",
       "    </tr>\n",
       "  </tbody>\n",
       "</table>\n",
       "</div>"
      ],
      "text/plain": [
       "   df_resid        ssr  df_diff    ss_diff          F        Pr(>F)\n",
       "0     119.0  72.221209      0.0        NaN        NaN           NaN\n",
       "1     117.0  35.908700      2.0  36.312509  59.157858  1.767231e-18"
      ]
     },
     "execution_count": 26,
     "metadata": {},
     "output_type": "execute_result"
    }
   ],
   "source": [
    "sm.stats.anova_lm(lm_quad, lm_condition)"
   ]
  },
  {
   "cell_type": "markdown",
   "id": "7292179f",
   "metadata": {},
   "source": [
    "**Questions:** \n",
    "\n",
    "* Can we conclude that the effect of the condition is statistically significant, after accounting for year?\n",
    "* How do we interpret the coefficients?"
   ]
  },
  {
   "cell_type": "markdown",
   "id": "1a711ef9",
   "metadata": {},
   "source": [
    "Let's also see how our fitted model looks against the data."
   ]
  },
  {
   "cell_type": "code",
   "execution_count": 46,
   "id": "6a475789",
   "metadata": {},
   "outputs": [
    {
     "data": {
      "image/png": "[encoded data removed]",
      "text/plain": [
       "<Figure size 640x480 with 1 Axes>"
      ]
     },
     "metadata": {},
     "output_type": "display_data"
    }
   ],
   "source": [
    "yearmin, yearmax = derby['year'].min(), derby['year'].max()\n",
    "yearzmin, yearzmax = derby['year_z'].min(), derby['year_z'].max()\n",
    "\n",
    "colors = ['blue', 'orange', 'red']\n",
    "\n",
    "ax = sns.scatterplot(data = derby,\n",
    "                     x = 'year',\n",
    "                     y = 'speed',\n",
    "                     hue = 'condition',\n",
    "                     palette = colors)\n",
    "for condition, color in zip(['good', 'slow', 'fast'], colors):\n",
    "    pred = pd.DataFrame({\n",
    "            'year': np.linspace(start = yearmin, stop = yearmax, num = 50),\n",
    "            'year_z': np.linspace(start = yearzmin, stop = yearzmax, num = 50),\n",
    "            'condition': condition\n",
    "        })\n",
    "    pred['prediction'] = lm_condition.predict(pred)\n",
    "    \n",
    "    pred.plot(x = 'year', y = 'prediction', color = color, ax = ax, label = '')\n",
    "\n",
    "plt.legend();"
   ]
  },
  {
   "cell_type": "markdown",
   "id": "2b9f00a7",
   "metadata": {},
   "source": [
    "## Interactions\n",
    "\n",
    "\n",
    "You may notice that the curve for slow conditions looks to be a bit low for the higher years.\n",
    "\n",
    "Does the effect of year differ for different track conditions and can we estimate that effect from our data? To check this, we can add interaction terms. These are created by multiplying our variables together."
   ]
  },
  {
   "cell_type": "code",
   "execution_count": 28,
   "id": "69a66e72",
   "metadata": {},
   "outputs": [
    {
     "data": {
      "text/html": [
       "<table class=\"simpletable\">\n",
       "<caption>OLS Regression Results</caption>\n",
       "<tr>\n",
       "  <th>Dep. Variable:</th>          <td>speed</td>      <th>  R-squared:         </th> <td>   0.847</td>\n",
       "</tr>\n",
       "<tr>\n",
       "  <th>Model:</th>                   <td>OLS</td>       <th>  Adj. R-squared:    </th> <td>   0.836</td>\n",
       "</tr>\n",
       "<tr>\n",
       "  <th>Method:</th>             <td>Least Squares</td>  <th>  F-statistic:       </th> <td>   78.26</td>\n",
       "</tr>\n",
       "<tr>\n",
       "  <th>Date:</th>             <td>Sat, 19 Oct 2024</td> <th>  Prob (F-statistic):</th> <td>1.70e-42</td>\n",
       "</tr>\n",
       "<tr>\n",
       "  <th>Time:</th>                 <td>08:04:26</td>     <th>  Log-Likelihood:    </th> <td> -89.064</td>\n",
       "</tr>\n",
       "<tr>\n",
       "  <th>No. Observations:</th>      <td>   122</td>      <th>  AIC:               </th> <td>   196.1</td>\n",
       "</tr>\n",
       "<tr>\n",
       "  <th>Df Residuals:</th>          <td>   113</td>      <th>  BIC:               </th> <td>   221.4</td>\n",
       "</tr>\n",
       "<tr>\n",
       "  <th>Df Model:</th>              <td>     8</td>      <th>                     </th>     <td> </td>   \n",
       "</tr>\n",
       "<tr>\n",
       "  <th>Covariance Type:</th>      <td>nonrobust</td>    <th>                     </th>     <td> </td>   \n",
       "</tr>\n",
       "</table>\n",
       "<table class=\"simpletable\">\n",
       "<tr>\n",
       "                  <td></td>                    <th>coef</th>     <th>std err</th>      <th>t</th>      <th>P>|t|</th>  <th>[0.025</th>    <th>0.975]</th>  \n",
       "</tr>\n",
       "<tr>\n",
       "  <th>Intercept</th>                        <td>   54.0097</td> <td>    0.082</td> <td>  655.815</td> <td> 0.000</td> <td>   53.847</td> <td>   54.173</td>\n",
       "</tr>\n",
       "<tr>\n",
       "  <th>condition[T.good]</th>                <td>   -0.8206</td> <td>    0.227</td> <td>   -3.620</td> <td> 0.000</td> <td>   -1.270</td> <td>   -0.372</td>\n",
       "</tr>\n",
       "<tr>\n",
       "  <th>condition[T.slow]</th>                <td>   -1.5321</td> <td>    0.210</td> <td>   -7.283</td> <td> 0.000</td> <td>   -1.949</td> <td>   -1.115</td>\n",
       "</tr>\n",
       "<tr>\n",
       "  <th>year_z</th>                           <td>    0.7206</td> <td>    0.058</td> <td>   12.430</td> <td> 0.000</td> <td>    0.606</td> <td>    0.835</td>\n",
       "</tr>\n",
       "<tr>\n",
       "  <th>year_z:condition[T.good]</th>         <td>    0.3945</td> <td>    0.309</td> <td>    1.276</td> <td> 0.205</td> <td>   -0.218</td> <td>    1.007</td>\n",
       "</tr>\n",
       "<tr>\n",
       "  <th>year_z:condition[T.slow]</th>         <td>    0.4052</td> <td>    0.117</td> <td>    3.470</td> <td> 0.001</td> <td>    0.174</td> <td>    0.637</td>\n",
       "</tr>\n",
       "<tr>\n",
       "  <th>I(year_z ** 2)</th>                   <td>   -0.5152</td> <td>    0.064</td> <td>   -8.012</td> <td> 0.000</td> <td>   -0.643</td> <td>   -0.388</td>\n",
       "</tr>\n",
       "<tr>\n",
       "  <th>I(year_z ** 2):condition[T.good]</th> <td>    0.5195</td> <td>    0.244</td> <td>    2.128</td> <td> 0.036</td> <td>    0.036</td> <td>    1.003</td>\n",
       "</tr>\n",
       "<tr>\n",
       "  <th>I(year_z ** 2):condition[T.slow]</th> <td>    0.1847</td> <td>    0.142</td> <td>    1.301</td> <td> 0.196</td> <td>   -0.097</td> <td>    0.466</td>\n",
       "</tr>\n",
       "</table>\n",
       "<table class=\"simpletable\">\n",
       "<tr>\n",
       "  <th>Omnibus:</th>       <td> 0.804</td> <th>  Durbin-Watson:     </th> <td>   2.003</td>\n",
       "</tr>\n",
       "<tr>\n",
       "  <th>Prob(Omnibus):</th> <td> 0.669</td> <th>  Jarque-Bera (JB):  </th> <td>   0.460</td>\n",
       "</tr>\n",
       "<tr>\n",
       "  <th>Skew:</th>          <td>-0.125</td> <th>  Prob(JB):          </th> <td>   0.795</td>\n",
       "</tr>\n",
       "<tr>\n",
       "  <th>Kurtosis:</th>      <td> 3.168</td> <th>  Cond. No.          </th> <td>    12.8</td>\n",
       "</tr>\n",
       "</table><br/><br/>Notes:<br/>[1] Standard Errors assume that the covariance matrix of the errors is correctly specified."
      ],
      "text/latex": [
       "\\begin{center}\n",
       "\\begin{tabular}{lclc}\n",
       "\\toprule\n",
       "\\textbf{Dep. Variable:}                    &      speed       & \\textbf{  R-squared:         } &     0.847   \\\\\n",
       "\\textbf{Model:}                            &       OLS        & \\textbf{  Adj. R-squared:    } &     0.836   \\\\\n",
       "\\textbf{Method:}                           &  Least Squares   & \\textbf{  F-statistic:       } &     78.26   \\\\\n",
       "\\textbf{Date:}                             & Sat, 19 Oct 2024 & \\textbf{  Prob (F-statistic):} &  1.70e-42   \\\\\n",
       "\\textbf{Time:}                             &     08:04:26     & \\textbf{  Log-Likelihood:    } &   -89.064   \\\\\n",
       "\\textbf{No. Observations:}                 &         122      & \\textbf{  AIC:               } &     196.1   \\\\\n",
       "\\textbf{Df Residuals:}                     &         113      & \\textbf{  BIC:               } &     221.4   \\\\\n",
       "\\textbf{Df Model:}                         &           8      & \\textbf{                     } &             \\\\\n",
       "\\textbf{Covariance Type:}                  &    nonrobust     & \\textbf{                     } &             \\\\\n",
       "\\bottomrule\n",
       "\\end{tabular}\n",
       "\\begin{tabular}{lcccccc}\n",
       "                                           & \\textbf{coef} & \\textbf{std err} & \\textbf{t} & \\textbf{P$> |$t$|$} & \\textbf{[0.025} & \\textbf{0.975]}  \\\\\n",
       "\\midrule\n",
       "\\textbf{Intercept}                         &      54.0097  &        0.082     &   655.815  &         0.000        &       53.847    &       54.173     \\\\\n",
       "\\textbf{condition[T.good]}                 &      -0.8206  &        0.227     &    -3.620  &         0.000        &       -1.270    &       -0.372     \\\\\n",
       "\\textbf{condition[T.slow]}                 &      -1.5321  &        0.210     &    -7.283  &         0.000        &       -1.949    &       -1.115     \\\\\n",
       "\\textbf{year\\_z}                           &       0.7206  &        0.058     &    12.430  &         0.000        &        0.606    &        0.835     \\\\\n",
       "\\textbf{year\\_z:condition[T.good]}         &       0.3945  &        0.309     &     1.276  &         0.205        &       -0.218    &        1.007     \\\\\n",
       "\\textbf{year\\_z:condition[T.slow]}         &       0.4052  &        0.117     &     3.470  &         0.001        &        0.174    &        0.637     \\\\\n",
       "\\textbf{I(year\\_z ** 2)}                   &      -0.5152  &        0.064     &    -8.012  &         0.000        &       -0.643    &       -0.388     \\\\\n",
       "\\textbf{I(year\\_z ** 2):condition[T.good]} &       0.5195  &        0.244     &     2.128  &         0.036        &        0.036    &        1.003     \\\\\n",
       "\\textbf{I(year\\_z ** 2):condition[T.slow]} &       0.1847  &        0.142     &     1.301  &         0.196        &       -0.097    &        0.466     \\\\\n",
       "\\bottomrule\n",
       "\\end{tabular}\n",
       "\\begin{tabular}{lclc}\n",
       "\\textbf{Omnibus:}       &  0.804 & \\textbf{  Durbin-Watson:     } &    2.003  \\\\\n",
       "\\textbf{Prob(Omnibus):} &  0.669 & \\textbf{  Jarque-Bera (JB):  } &    0.460  \\\\\n",
       "\\textbf{Skew:}          & -0.125 & \\textbf{  Prob(JB):          } &    0.795  \\\\\n",
       "\\textbf{Kurtosis:}      &  3.168 & \\textbf{  Cond. No.          } &     12.8  \\\\\n",
       "\\bottomrule\n",
       "\\end{tabular}\n",
       "%\\caption{OLS Regression Results}\n",
       "\\end{center}\n",
       "\n",
       "Notes: \\newline\n",
       " [1] Standard Errors assume that the covariance matrix of the errors is correctly specified."
      ],
      "text/plain": [
       "<class 'statsmodels.iolib.summary.Summary'>\n",
       "\"\"\"\n",
       "                            OLS Regression Results                            \n",
       "==============================================================================\n",
       "Dep. Variable:                  speed   R-squared:                       0.847\n",
       "Model:                            OLS   Adj. R-squared:                  0.836\n",
       "Method:                 Least Squares   F-statistic:                     78.26\n",
       "Date:                Sat, 19 Oct 2024   Prob (F-statistic):           1.70e-42\n",
       "Time:                        08:04:26   Log-Likelihood:                -89.064\n",
       "No. Observations:                 122   AIC:                             196.1\n",
       "Df Residuals:                     113   BIC:                             221.4\n",
       "Df Model:                           8                                         \n",
       "Covariance Type:            nonrobust                                         \n",
       "====================================================================================================\n",
       "                                       coef    std err          t      P>|t|      [0.025      0.975]\n",
       "----------------------------------------------------------------------------------------------------\n",
       "Intercept                           54.0097      0.082    655.815      0.000      53.847      54.173\n",
       "condition[T.good]                   -0.8206      0.227     -3.620      0.000      -1.270      -0.372\n",
       "condition[T.slow]                   -1.5321      0.210     -7.283      0.000      -1.949      -1.115\n",
       "year_z                               0.7206      0.058     12.430      0.000       0.606       0.835\n",
       "year_z:condition[T.good]             0.3945      0.309      1.276      0.205      -0.218       1.007\n",
       "year_z:condition[T.slow]             0.4052      0.117      3.470      0.001       0.174       0.637\n",
       "I(year_z ** 2)                      -0.5152      0.064     -8.012      0.000      -0.643      -0.388\n",
       "I(year_z ** 2):condition[T.good]     0.5195      0.244      2.128      0.036       0.036       1.003\n",
       "I(year_z ** 2):condition[T.slow]     0.1847      0.142      1.301      0.196      -0.097       0.466\n",
       "==============================================================================\n",
       "Omnibus:                        0.804   Durbin-Watson:                   2.003\n",
       "Prob(Omnibus):                  0.669   Jarque-Bera (JB):                0.460\n",
       "Skew:                          -0.125   Prob(JB):                        0.795\n",
       "Kurtosis:                       3.168   Cond. No.                         12.8\n",
       "==============================================================================\n",
       "\n",
       "Notes:\n",
       "[1] Standard Errors assume that the covariance matrix of the errors is correctly specified.\n",
       "\"\"\""
      ]
     },
     "execution_count": 28,
     "metadata": {},
     "output_type": "execute_result"
    }
   ],
   "source": [
    "lm_interaction = smf.ols('speed ~ year_z + I(year_z**2) + condition + (year_z + I(year_z**2)):condition', data = derby).fit()\n",
    "lm_interaction.summary()"
   ]
  },
  {
   "cell_type": "code",
   "execution_count": 29,
   "id": "d425b1f6",
   "metadata": {},
   "outputs": [
    {
     "data": {
      "text/html": [
       "<div>\n",
       "<style scoped>\n",
       "    .dataframe tbody tr th:only-of-type {\n",
       "        vertical-align: middle;\n",
       "    }\n",
       "\n",
       "    .dataframe tbody tr th {\n",
       "        vertical-align: top;\n",
       "    }\n",
       "\n",
       "    .dataframe thead th {\n",
       "        text-align: right;\n",
       "    }\n",
       "</style>\n",
       "<table border=\"1\" class=\"dataframe\">\n",
       "  <thead>\n",
       "    <tr style=\"text-align: right;\">\n",
       "      <th></th>\n",
       "      <th>df_resid</th>\n",
       "      <th>ssr</th>\n",
       "      <th>df_diff</th>\n",
       "      <th>ss_diff</th>\n",
       "      <th>F</th>\n",
       "      <th>Pr(&gt;F)</th>\n",
       "    </tr>\n",
       "  </thead>\n",
       "  <tbody>\n",
       "    <tr>\n",
       "      <th>0</th>\n",
       "      <td>117.0</td>\n",
       "      <td>35.90870</td>\n",
       "      <td>0.0</td>\n",
       "      <td>NaN</td>\n",
       "      <td>NaN</td>\n",
       "      <td>NaN</td>\n",
       "    </tr>\n",
       "    <tr>\n",
       "      <th>1</th>\n",
       "      <td>113.0</td>\n",
       "      <td>30.75978</td>\n",
       "      <td>4.0</td>\n",
       "      <td>5.14892</td>\n",
       "      <td>4.728804</td>\n",
       "      <td>0.00145</td>\n",
       "    </tr>\n",
       "  </tbody>\n",
       "</table>\n",
       "</div>"
      ],
      "text/plain": [
       "   df_resid       ssr  df_diff  ss_diff         F   Pr(>F)\n",
       "0     117.0  35.90870      0.0      NaN       NaN      NaN\n",
       "1     113.0  30.75978      4.0  5.14892  4.728804  0.00145"
      ]
     },
     "execution_count": 29,
     "metadata": {},
     "output_type": "execute_result"
    }
   ],
   "source": [
    "sm.stats.anova_lm(lm_condition, lm_interaction)"
   ]
  },
  {
   "cell_type": "code",
   "execution_count": 47,
   "id": "89c74816",
   "metadata": {},
   "outputs": [
    {
     "data": {
      "image/png": "[encoded data removed]",
      "text/plain": [
       "<Figure size 640x480 with 1 Axes>"
      ]
     },
     "metadata": {},
     "output_type": "display_data"
    }
   ],
   "source": [
    "yearmin, yearmax = derby['year'].min(), derby['year'].max()\n",
    "yearzmin, yearzmax = derby['year_z'].min(), derby['year_z'].max()\n",
    "\n",
    "colors = ['blue', 'orange', 'red']\n",
    "\n",
    "ax = sns.scatterplot(data = derby,\n",
    "                     x = 'year',\n",
    "                     y = 'speed',\n",
    "                     hue = 'condition',\n",
    "                     palette = colors)\n",
    "\n",
    "for condition, color in zip(['good', 'slow', 'fast'], colors):\n",
    "    pred = pd.DataFrame({\n",
    "            'year': np.linspace(start = yearmin, stop = yearmax, num = 50),\n",
    "            'year_z': np.linspace(start = yearzmin, stop = yearzmax, num = 50),\n",
    "            'condition': condition\n",
    "        })\n",
    "    pred['prediction'] = lm_interaction.predict(pred)\n",
    "    \n",
    "    pred.plot(x = 'year', y = 'prediction', color = color, ax = ax, label = '')\n",
    "\n",
    "plt.legend();"
   ]
  },
  {
   "cell_type": "markdown",
   "id": "21eff477",
   "metadata": {},
   "source": [
    "**Question:** The curve for good tracks looks strange for the more recent years. What is going on there?"
   ]
  },
  {
   "cell_type": "markdown",
   "id": "bcb07f74",
   "metadata": {},
   "source": [
    "## Question 2: Does the number of starters have a statistically significant effect, after controlling for the year and the condition of the track?"
   ]
  },
  {
   "cell_type": "code",
   "execution_count": 31,
   "id": "ae595234",
   "metadata": {},
   "outputs": [
    {
     "data": {
      "text/html": [
       "<table class=\"simpletable\">\n",
       "<caption>OLS Regression Results</caption>\n",
       "<tr>\n",
       "  <th>Dep. Variable:</th>          <td>speed</td>      <th>  R-squared:         </th> <td>   0.850</td>\n",
       "</tr>\n",
       "<tr>\n",
       "  <th>Model:</th>                   <td>OLS</td>       <th>  Adj. R-squared:    </th> <td>   0.838</td>\n",
       "</tr>\n",
       "<tr>\n",
       "  <th>Method:</th>             <td>Least Squares</td>  <th>  F-statistic:       </th> <td>   70.41</td>\n",
       "</tr>\n",
       "<tr>\n",
       "  <th>Date:</th>             <td>Sat, 19 Oct 2024</td> <th>  Prob (F-statistic):</th> <td>5.80e-42</td>\n",
       "</tr>\n",
       "<tr>\n",
       "  <th>Time:</th>                 <td>08:04:26</td>     <th>  Log-Likelihood:    </th> <td> -87.978</td>\n",
       "</tr>\n",
       "<tr>\n",
       "  <th>No. Observations:</th>      <td>   122</td>      <th>  AIC:               </th> <td>   196.0</td>\n",
       "</tr>\n",
       "<tr>\n",
       "  <th>Df Residuals:</th>          <td>   112</td>      <th>  BIC:               </th> <td>   224.0</td>\n",
       "</tr>\n",
       "<tr>\n",
       "  <th>Df Model:</th>              <td>     9</td>      <th>                     </th>     <td> </td>   \n",
       "</tr>\n",
       "<tr>\n",
       "  <th>Covariance Type:</th>      <td>nonrobust</td>    <th>                     </th>     <td> </td>   \n",
       "</tr>\n",
       "</table>\n",
       "<table class=\"simpletable\">\n",
       "<tr>\n",
       "                  <td></td>                    <th>coef</th>     <th>std err</th>      <th>t</th>      <th>P>|t|</th>  <th>[0.025</th>    <th>0.975]</th>  \n",
       "</tr>\n",
       "<tr>\n",
       "  <th>Intercept</th>                        <td>   54.2740</td> <td>    0.204</td> <td>  266.642</td> <td> 0.000</td> <td>   53.871</td> <td>   54.677</td>\n",
       "</tr>\n",
       "<tr>\n",
       "  <th>condition[T.good]</th>                <td>   -0.7841</td> <td>    0.227</td> <td>   -3.453</td> <td> 0.001</td> <td>   -1.234</td> <td>   -0.334</td>\n",
       "</tr>\n",
       "<tr>\n",
       "  <th>condition[T.slow]</th>                <td>   -1.4846</td> <td>    0.212</td> <td>   -7.000</td> <td> 0.000</td> <td>   -1.905</td> <td>   -1.064</td>\n",
       "</tr>\n",
       "<tr>\n",
       "  <th>year_z</th>                           <td>    0.7843</td> <td>    0.073</td> <td>   10.722</td> <td> 0.000</td> <td>    0.639</td> <td>    0.929</td>\n",
       "</tr>\n",
       "<tr>\n",
       "  <th>year_z:condition[T.good]</th>         <td>    0.3442</td> <td>    0.310</td> <td>    1.111</td> <td> 0.269</td> <td>   -0.270</td> <td>    0.958</td>\n",
       "</tr>\n",
       "<tr>\n",
       "  <th>year_z:condition[T.slow]</th>         <td>    0.3983</td> <td>    0.116</td> <td>    3.423</td> <td> 0.001</td> <td>    0.168</td> <td>    0.629</td>\n",
       "</tr>\n",
       "<tr>\n",
       "  <th>I(year_z ** 2)</th>                   <td>   -0.5230</td> <td>    0.064</td> <td>   -8.140</td> <td> 0.000</td> <td>   -0.650</td> <td>   -0.396</td>\n",
       "</tr>\n",
       "<tr>\n",
       "  <th>I(year_z ** 2):condition[T.good]</th> <td>    0.4716</td> <td>    0.245</td> <td>    1.921</td> <td> 0.057</td> <td>   -0.015</td> <td>    0.958</td>\n",
       "</tr>\n",
       "<tr>\n",
       "  <th>I(year_z ** 2):condition[T.slow]</th> <td>    0.1600</td> <td>    0.142</td> <td>    1.124</td> <td> 0.263</td> <td>   -0.122</td> <td>    0.442</td>\n",
       "</tr>\n",
       "<tr>\n",
       "  <th>starters</th>                         <td>   -0.0186</td> <td>    0.013</td> <td>   -1.418</td> <td> 0.159</td> <td>   -0.045</td> <td>    0.007</td>\n",
       "</tr>\n",
       "</table>\n",
       "<table class=\"simpletable\">\n",
       "<tr>\n",
       "  <th>Omnibus:</th>       <td> 1.146</td> <th>  Durbin-Watson:     </th> <td>   1.930</td>\n",
       "</tr>\n",
       "<tr>\n",
       "  <th>Prob(Omnibus):</th> <td> 0.564</td> <th>  Jarque-Bera (JB):  </th> <td>   0.715</td>\n",
       "</tr>\n",
       "<tr>\n",
       "  <th>Skew:</th>          <td>-0.140</td> <th>  Prob(JB):          </th> <td>   0.699</td>\n",
       "</tr>\n",
       "<tr>\n",
       "  <th>Kurtosis:</th>      <td> 3.250</td> <th>  Cond. No.          </th> <td>    120.</td>\n",
       "</tr>\n",
       "</table><br/><br/>Notes:<br/>[1] Standard Errors assume that the covariance matrix of the errors is correctly specified."
      ],
      "text/latex": [
       "\\begin{center}\n",
       "\\begin{tabular}{lclc}\n",
       "\\toprule\n",
       "\\textbf{Dep. Variable:}                    &      speed       & \\textbf{  R-squared:         } &     0.850   \\\\\n",
       "\\textbf{Model:}                            &       OLS        & \\textbf{  Adj. R-squared:    } &     0.838   \\\\\n",
       "\\textbf{Method:}                           &  Least Squares   & \\textbf{  F-statistic:       } &     70.41   \\\\\n",
       "\\textbf{Date:}                             & Sat, 19 Oct 2024 & \\textbf{  Prob (F-statistic):} &  5.80e-42   \\\\\n",
       "\\textbf{Time:}                             &     08:04:26     & \\textbf{  Log-Likelihood:    } &   -87.978   \\\\\n",
       "\\textbf{No. Observations:}                 &         122      & \\textbf{  AIC:               } &     196.0   \\\\\n",
       "\\textbf{Df Residuals:}                     &         112      & \\textbf{  BIC:               } &     224.0   \\\\\n",
       "\\textbf{Df Model:}                         &           9      & \\textbf{                     } &             \\\\\n",
       "\\textbf{Covariance Type:}                  &    nonrobust     & \\textbf{                     } &             \\\\\n",
       "\\bottomrule\n",
       "\\end{tabular}\n",
       "\\begin{tabular}{lcccccc}\n",
       "                                           & \\textbf{coef} & \\textbf{std err} & \\textbf{t} & \\textbf{P$> |$t$|$} & \\textbf{[0.025} & \\textbf{0.975]}  \\\\\n",
       "\\midrule\n",
       "\\textbf{Intercept}                         &      54.2740  &        0.204     &   266.642  &         0.000        &       53.871    &       54.677     \\\\\n",
       "\\textbf{condition[T.good]}                 &      -0.7841  &        0.227     &    -3.453  &         0.001        &       -1.234    &       -0.334     \\\\\n",
       "\\textbf{condition[T.slow]}                 &      -1.4846  &        0.212     &    -7.000  &         0.000        &       -1.905    &       -1.064     \\\\\n",
       "\\textbf{year\\_z}                           &       0.7843  &        0.073     &    10.722  &         0.000        &        0.639    &        0.929     \\\\\n",
       "\\textbf{year\\_z:condition[T.good]}         &       0.3442  &        0.310     &     1.111  &         0.269        &       -0.270    &        0.958     \\\\\n",
       "\\textbf{year\\_z:condition[T.slow]}         &       0.3983  &        0.116     &     3.423  &         0.001        &        0.168    &        0.629     \\\\\n",
       "\\textbf{I(year\\_z ** 2)}                   &      -0.5230  &        0.064     &    -8.140  &         0.000        &       -0.650    &       -0.396     \\\\\n",
       "\\textbf{I(year\\_z ** 2):condition[T.good]} &       0.4716  &        0.245     &     1.921  &         0.057        &       -0.015    &        0.958     \\\\\n",
       "\\textbf{I(year\\_z ** 2):condition[T.slow]} &       0.1600  &        0.142     &     1.124  &         0.263        &       -0.122    &        0.442     \\\\\n",
       "\\textbf{starters}                          &      -0.0186  &        0.013     &    -1.418  &         0.159        &       -0.045    &        0.007     \\\\\n",
       "\\bottomrule\n",
       "\\end{tabular}\n",
       "\\begin{tabular}{lclc}\n",
       "\\textbf{Omnibus:}       &  1.146 & \\textbf{  Durbin-Watson:     } &    1.930  \\\\\n",
       "\\textbf{Prob(Omnibus):} &  0.564 & \\textbf{  Jarque-Bera (JB):  } &    0.715  \\\\\n",
       "\\textbf{Skew:}          & -0.140 & \\textbf{  Prob(JB):          } &    0.699  \\\\\n",
       "\\textbf{Kurtosis:}      &  3.250 & \\textbf{  Cond. No.          } &     120.  \\\\\n",
       "\\bottomrule\n",
       "\\end{tabular}\n",
       "%\\caption{OLS Regression Results}\n",
       "\\end{center}\n",
       "\n",
       "Notes: \\newline\n",
       " [1] Standard Errors assume that the covariance matrix of the errors is correctly specified."
      ],
      "text/plain": [
       "<class 'statsmodels.iolib.summary.Summary'>\n",
       "\"\"\"\n",
       "                            OLS Regression Results                            \n",
       "==============================================================================\n",
       "Dep. Variable:                  speed   R-squared:                       0.850\n",
       "Model:                            OLS   Adj. R-squared:                  0.838\n",
       "Method:                 Least Squares   F-statistic:                     70.41\n",
       "Date:                Sat, 19 Oct 2024   Prob (F-statistic):           5.80e-42\n",
       "Time:                        08:04:26   Log-Likelihood:                -87.978\n",
       "No. Observations:                 122   AIC:                             196.0\n",
       "Df Residuals:                     112   BIC:                             224.0\n",
       "Df Model:                           9                                         \n",
       "Covariance Type:            nonrobust                                         \n",
       "====================================================================================================\n",
       "                                       coef    std err          t      P>|t|      [0.025      0.975]\n",
       "----------------------------------------------------------------------------------------------------\n",
       "Intercept                           54.2740      0.204    266.642      0.000      53.871      54.677\n",
       "condition[T.good]                   -0.7841      0.227     -3.453      0.001      -1.234      -0.334\n",
       "condition[T.slow]                   -1.4846      0.212     -7.000      0.000      -1.905      -1.064\n",
       "year_z                               0.7843      0.073     10.722      0.000       0.639       0.929\n",
       "year_z:condition[T.good]             0.3442      0.310      1.111      0.269      -0.270       0.958\n",
       "year_z:condition[T.slow]             0.3983      0.116      3.423      0.001       0.168       0.629\n",
       "I(year_z ** 2)                      -0.5230      0.064     -8.140      0.000      -0.650      -0.396\n",
       "I(year_z ** 2):condition[T.good]     0.4716      0.245      1.921      0.057      -0.015       0.958\n",
       "I(year_z ** 2):condition[T.slow]     0.1600      0.142      1.124      0.263      -0.122       0.442\n",
       "starters                            -0.0186      0.013     -1.418      0.159      -0.045       0.007\n",
       "==============================================================================\n",
       "Omnibus:                        1.146   Durbin-Watson:                   1.930\n",
       "Prob(Omnibus):                  0.564   Jarque-Bera (JB):                0.715\n",
       "Skew:                          -0.140   Prob(JB):                        0.699\n",
       "Kurtosis:                       3.250   Cond. No.                         120.\n",
       "==============================================================================\n",
       "\n",
       "Notes:\n",
       "[1] Standard Errors assume that the covariance matrix of the errors is correctly specified.\n",
       "\"\"\""
      ]
     },
     "execution_count": 31,
     "metadata": {},
     "output_type": "execute_result"
    }
   ],
   "source": [
    "lm_starters = smf.ols('speed ~ year_z + I(year_z**2) + condition + starters + (year_z + I(year_z**2)):condition', data = derby).fit()\n",
    "lm_starters.summary()"
   ]
  },
  {
   "cell_type": "code",
   "execution_count": 32,
   "id": "e93d894f",
   "metadata": {},
   "outputs": [
    {
     "data": {
      "text/html": [
       "<div>\n",
       "<style scoped>\n",
       "    .dataframe tbody tr th:only-of-type {\n",
       "        vertical-align: middle;\n",
       "    }\n",
       "\n",
       "    .dataframe tbody tr th {\n",
       "        vertical-align: top;\n",
       "    }\n",
       "\n",
       "    .dataframe thead th {\n",
       "        text-align: right;\n",
       "    }\n",
       "</style>\n",
       "<table border=\"1\" class=\"dataframe\">\n",
       "  <thead>\n",
       "    <tr style=\"text-align: right;\">\n",
       "      <th></th>\n",
       "      <th>df_resid</th>\n",
       "      <th>ssr</th>\n",
       "      <th>df_diff</th>\n",
       "      <th>ss_diff</th>\n",
       "      <th>F</th>\n",
       "      <th>Pr(&gt;F)</th>\n",
       "    </tr>\n",
       "  </thead>\n",
       "  <tbody>\n",
       "    <tr>\n",
       "      <th>0</th>\n",
       "      <td>113.0</td>\n",
       "      <td>30.759780</td>\n",
       "      <td>0.0</td>\n",
       "      <td>NaN</td>\n",
       "      <td>NaN</td>\n",
       "      <td>NaN</td>\n",
       "    </tr>\n",
       "    <tr>\n",
       "      <th>1</th>\n",
       "      <td>112.0</td>\n",
       "      <td>30.216958</td>\n",
       "      <td>1.0</td>\n",
       "      <td>0.542822</td>\n",
       "      <td>2.011984</td>\n",
       "      <td>0.158838</td>\n",
       "    </tr>\n",
       "  </tbody>\n",
       "</table>\n",
       "</div>"
      ],
      "text/plain": [
       "   df_resid        ssr  df_diff   ss_diff         F    Pr(>F)\n",
       "0     113.0  30.759780      0.0       NaN       NaN       NaN\n",
       "1     112.0  30.216958      1.0  0.542822  2.011984  0.158838"
      ]
     },
     "execution_count": 32,
     "metadata": {},
     "output_type": "execute_result"
    }
   ],
   "source": [
    "sm.stats.anova_lm(lm_interaction, lm_starters)"
   ]
  },
  {
   "cell_type": "markdown",
   "id": "37a50154",
   "metadata": {},
   "source": [
    "**Question:** What conclusion can we draw from this test?"
   ]
  },
  {
   "cell_type": "markdown",
   "id": "252a0f34",
   "metadata": {},
   "source": [
    "Recall that originally, it appeared that there might be a quadratic relationship. Let's check the residuals of our interaction model vs. the number of starters and see if that quadratic trend still appears."
   ]
  },
  {
   "cell_type": "code",
   "execution_count": 33,
   "id": "d7c2fc4c",
   "metadata": {},
   "outputs": [
    {
     "data": {
      "image/png": "[encoded data removed]",
      "text/plain": [
       "<Figure size 640x480 with 1 Axes>"
      ]
     },
     "metadata": {},
     "output_type": "display_data"
    }
   ],
   "source": [
    "plt.scatter(x = derby['starters'], y = lm_interaction.resid);"
   ]
  },
  {
   "cell_type": "markdown",
   "id": "2ed8ac3d",
   "metadata": {},
   "source": [
    "Let's see what happens if we add this to our model."
   ]
  },
  {
   "cell_type": "code",
   "execution_count": 34,
   "id": "8ae2ec02",
   "metadata": {},
   "outputs": [
    {
     "data": {
      "text/html": [
       "<table class=\"simpletable\">\n",
       "<caption>OLS Regression Results</caption>\n",
       "<tr>\n",
       "  <th>Dep. Variable:</th>          <td>speed</td>      <th>  R-squared:         </th> <td>   0.864</td>\n",
       "</tr>\n",
       "<tr>\n",
       "  <th>Model:</th>                   <td>OLS</td>       <th>  Adj. R-squared:    </th> <td>   0.852</td>\n",
       "</tr>\n",
       "<tr>\n",
       "  <th>Method:</th>             <td>Least Squares</td>  <th>  F-statistic:       </th> <td>   70.54</td>\n",
       "</tr>\n",
       "<tr>\n",
       "  <th>Date:</th>             <td>Sat, 19 Oct 2024</td> <th>  Prob (F-statistic):</th> <td>2.13e-43</td>\n",
       "</tr>\n",
       "<tr>\n",
       "  <th>Time:</th>                 <td>08:04:26</td>     <th>  Log-Likelihood:    </th> <td> -81.900</td>\n",
       "</tr>\n",
       "<tr>\n",
       "  <th>No. Observations:</th>      <td>   122</td>      <th>  AIC:               </th> <td>   185.8</td>\n",
       "</tr>\n",
       "<tr>\n",
       "  <th>Df Residuals:</th>          <td>   111</td>      <th>  BIC:               </th> <td>   216.6</td>\n",
       "</tr>\n",
       "<tr>\n",
       "  <th>Df Model:</th>              <td>    10</td>      <th>                     </th>     <td> </td>   \n",
       "</tr>\n",
       "<tr>\n",
       "  <th>Covariance Type:</th>      <td>nonrobust</td>    <th>                     </th>     <td> </td>   \n",
       "</tr>\n",
       "</table>\n",
       "<table class=\"simpletable\">\n",
       "<tr>\n",
       "                  <td></td>                    <th>coef</th>     <th>std err</th>      <th>t</th>      <th>P>|t|</th>  <th>[0.025</th>    <th>0.975]</th>  \n",
       "</tr>\n",
       "<tr>\n",
       "  <th>Intercept</th>                        <td>   52.7740</td> <td>    0.481</td> <td>  109.729</td> <td> 0.000</td> <td>   51.821</td> <td>   53.727</td>\n",
       "</tr>\n",
       "<tr>\n",
       "  <th>condition[T.good]</th>                <td>   -0.8846</td> <td>    0.219</td> <td>   -4.038</td> <td> 0.000</td> <td>   -1.319</td> <td>   -0.451</td>\n",
       "</tr>\n",
       "<tr>\n",
       "  <th>condition[T.slow]</th>                <td>   -1.5052</td> <td>    0.203</td> <td>   -7.423</td> <td> 0.000</td> <td>   -1.907</td> <td>   -1.103</td>\n",
       "</tr>\n",
       "<tr>\n",
       "  <th>year_z</th>                           <td>    0.7174</td> <td>    0.073</td> <td>    9.881</td> <td> 0.000</td> <td>    0.574</td> <td>    0.861</td>\n",
       "</tr>\n",
       "<tr>\n",
       "  <th>year_z:condition[T.good]</th>         <td>    0.3524</td> <td>    0.296</td> <td>    1.190</td> <td> 0.237</td> <td>   -0.234</td> <td>    0.939</td>\n",
       "</tr>\n",
       "<tr>\n",
       "  <th>year_z:condition[T.slow]</th>         <td>    0.3701</td> <td>    0.111</td> <td>    3.319</td> <td> 0.001</td> <td>    0.149</td> <td>    0.591</td>\n",
       "</tr>\n",
       "<tr>\n",
       "  <th>I(year_z ** 2)</th>                   <td>   -0.4058</td> <td>    0.070</td> <td>   -5.766</td> <td> 0.000</td> <td>   -0.545</td> <td>   -0.266</td>\n",
       "</tr>\n",
       "<tr>\n",
       "  <th>I(year_z ** 2):condition[T.good]</th> <td>    0.5054</td> <td>    0.235</td> <td>    2.153</td> <td> 0.033</td> <td>    0.040</td> <td>    0.971</td>\n",
       "</tr>\n",
       "<tr>\n",
       "  <th>I(year_z ** 2):condition[T.slow]</th> <td>    0.1629</td> <td>    0.136</td> <td>    1.197</td> <td> 0.234</td> <td>   -0.107</td> <td>    0.432</td>\n",
       "</tr>\n",
       "<tr>\n",
       "  <th>starters</th>                         <td>    0.2102</td> <td>    0.068</td> <td>    3.080</td> <td> 0.003</td> <td>    0.075</td> <td>    0.345</td>\n",
       "</tr>\n",
       "<tr>\n",
       "  <th>I(starters ** 2)</th>                 <td>   -0.0082</td> <td>    0.002</td> <td>   -3.410</td> <td> 0.001</td> <td>   -0.013</td> <td>   -0.003</td>\n",
       "</tr>\n",
       "</table>\n",
       "<table class=\"simpletable\">\n",
       "<tr>\n",
       "  <th>Omnibus:</th>       <td> 3.271</td> <th>  Durbin-Watson:     </th> <td>   2.046</td>\n",
       "</tr>\n",
       "<tr>\n",
       "  <th>Prob(Omnibus):</th> <td> 0.195</td> <th>  Jarque-Bera (JB):  </th> <td>   2.707</td>\n",
       "</tr>\n",
       "<tr>\n",
       "  <th>Skew:</th>          <td>-0.289</td> <th>  Prob(JB):          </th> <td>   0.258</td>\n",
       "</tr>\n",
       "<tr>\n",
       "  <th>Kurtosis:</th>      <td> 3.445</td> <th>  Cond. No.          </th> <td>2.82e+03</td>\n",
       "</tr>\n",
       "</table><br/><br/>Notes:<br/>[1] Standard Errors assume that the covariance matrix of the errors is correctly specified.<br/>[2] The condition number is large, 2.82e+03. This might indicate that there are<br/>strong multicollinearity or other numerical problems."
      ],
      "text/latex": [
       "\\begin{center}\n",
       "\\begin{tabular}{lclc}\n",
       "\\toprule\n",
       "\\textbf{Dep. Variable:}                    &      speed       & \\textbf{  R-squared:         } &     0.864   \\\\\n",
       "\\textbf{Model:}                            &       OLS        & \\textbf{  Adj. R-squared:    } &     0.852   \\\\\n",
       "\\textbf{Method:}                           &  Least Squares   & \\textbf{  F-statistic:       } &     70.54   \\\\\n",
       "\\textbf{Date:}                             & Sat, 19 Oct 2024 & \\textbf{  Prob (F-statistic):} &  2.13e-43   \\\\\n",
       "\\textbf{Time:}                             &     08:04:26     & \\textbf{  Log-Likelihood:    } &   -81.900   \\\\\n",
       "\\textbf{No. Observations:}                 &         122      & \\textbf{  AIC:               } &     185.8   \\\\\n",
       "\\textbf{Df Residuals:}                     &         111      & \\textbf{  BIC:               } &     216.6   \\\\\n",
       "\\textbf{Df Model:}                         &          10      & \\textbf{                     } &             \\\\\n",
       "\\textbf{Covariance Type:}                  &    nonrobust     & \\textbf{                     } &             \\\\\n",
       "\\bottomrule\n",
       "\\end{tabular}\n",
       "\\begin{tabular}{lcccccc}\n",
       "                                           & \\textbf{coef} & \\textbf{std err} & \\textbf{t} & \\textbf{P$> |$t$|$} & \\textbf{[0.025} & \\textbf{0.975]}  \\\\\n",
       "\\midrule\n",
       "\\textbf{Intercept}                         &      52.7740  &        0.481     &   109.729  &         0.000        &       51.821    &       53.727     \\\\\n",
       "\\textbf{condition[T.good]}                 &      -0.8846  &        0.219     &    -4.038  &         0.000        &       -1.319    &       -0.451     \\\\\n",
       "\\textbf{condition[T.slow]}                 &      -1.5052  &        0.203     &    -7.423  &         0.000        &       -1.907    &       -1.103     \\\\\n",
       "\\textbf{year\\_z}                           &       0.7174  &        0.073     &     9.881  &         0.000        &        0.574    &        0.861     \\\\\n",
       "\\textbf{year\\_z:condition[T.good]}         &       0.3524  &        0.296     &     1.190  &         0.237        &       -0.234    &        0.939     \\\\\n",
       "\\textbf{year\\_z:condition[T.slow]}         &       0.3701  &        0.111     &     3.319  &         0.001        &        0.149    &        0.591     \\\\\n",
       "\\textbf{I(year\\_z ** 2)}                   &      -0.4058  &        0.070     &    -5.766  &         0.000        &       -0.545    &       -0.266     \\\\\n",
       "\\textbf{I(year\\_z ** 2):condition[T.good]} &       0.5054  &        0.235     &     2.153  &         0.033        &        0.040    &        0.971     \\\\\n",
       "\\textbf{I(year\\_z ** 2):condition[T.slow]} &       0.1629  &        0.136     &     1.197  &         0.234        &       -0.107    &        0.432     \\\\\n",
       "\\textbf{starters}                          &       0.2102  &        0.068     &     3.080  &         0.003        &        0.075    &        0.345     \\\\\n",
       "\\textbf{I(starters ** 2)}                  &      -0.0082  &        0.002     &    -3.410  &         0.001        &       -0.013    &       -0.003     \\\\\n",
       "\\bottomrule\n",
       "\\end{tabular}\n",
       "\\begin{tabular}{lclc}\n",
       "\\textbf{Omnibus:}       &  3.271 & \\textbf{  Durbin-Watson:     } &    2.046  \\\\\n",
       "\\textbf{Prob(Omnibus):} &  0.195 & \\textbf{  Jarque-Bera (JB):  } &    2.707  \\\\\n",
       "\\textbf{Skew:}          & -0.289 & \\textbf{  Prob(JB):          } &    0.258  \\\\\n",
       "\\textbf{Kurtosis:}      &  3.445 & \\textbf{  Cond. No.          } & 2.82e+03  \\\\\n",
       "\\bottomrule\n",
       "\\end{tabular}\n",
       "%\\caption{OLS Regression Results}\n",
       "\\end{center}\n",
       "\n",
       "Notes: \\newline\n",
       " [1] Standard Errors assume that the covariance matrix of the errors is correctly specified. \\newline\n",
       " [2] The condition number is large, 2.82e+03. This might indicate that there are \\newline\n",
       " strong multicollinearity or other numerical problems."
      ],
      "text/plain": [
       "<class 'statsmodels.iolib.summary.Summary'>\n",
       "\"\"\"\n",
       "                            OLS Regression Results                            \n",
       "==============================================================================\n",
       "Dep. Variable:                  speed   R-squared:                       0.864\n",
       "Model:                            OLS   Adj. R-squared:                  0.852\n",
       "Method:                 Least Squares   F-statistic:                     70.54\n",
       "Date:                Sat, 19 Oct 2024   Prob (F-statistic):           2.13e-43\n",
       "Time:                        08:04:26   Log-Likelihood:                -81.900\n",
       "No. Observations:                 122   AIC:                             185.8\n",
       "Df Residuals:                     111   BIC:                             216.6\n",
       "Df Model:                          10                                         \n",
       "Covariance Type:            nonrobust                                         \n",
       "====================================================================================================\n",
       "                                       coef    std err          t      P>|t|      [0.025      0.975]\n",
       "----------------------------------------------------------------------------------------------------\n",
       "Intercept                           52.7740      0.481    109.729      0.000      51.821      53.727\n",
       "condition[T.good]                   -0.8846      0.219     -4.038      0.000      -1.319      -0.451\n",
       "condition[T.slow]                   -1.5052      0.203     -7.423      0.000      -1.907      -1.103\n",
       "year_z                               0.7174      0.073      9.881      0.000       0.574       0.861\n",
       "year_z:condition[T.good]             0.3524      0.296      1.190      0.237      -0.234       0.939\n",
       "year_z:condition[T.slow]             0.3701      0.111      3.319      0.001       0.149       0.591\n",
       "I(year_z ** 2)                      -0.4058      0.070     -5.766      0.000      -0.545      -0.266\n",
       "I(year_z ** 2):condition[T.good]     0.5054      0.235      2.153      0.033       0.040       0.971\n",
       "I(year_z ** 2):condition[T.slow]     0.1629      0.136      1.197      0.234      -0.107       0.432\n",
       "starters                             0.2102      0.068      3.080      0.003       0.075       0.345\n",
       "I(starters ** 2)                    -0.0082      0.002     -3.410      0.001      -0.013      -0.003\n",
       "==============================================================================\n",
       "Omnibus:                        3.271   Durbin-Watson:                   2.046\n",
       "Prob(Omnibus):                  0.195   Jarque-Bera (JB):                2.707\n",
       "Skew:                          -0.289   Prob(JB):                        0.258\n",
       "Kurtosis:                       3.445   Cond. No.                     2.82e+03\n",
       "==============================================================================\n",
       "\n",
       "Notes:\n",
       "[1] Standard Errors assume that the covariance matrix of the errors is correctly specified.\n",
       "[2] The condition number is large, 2.82e+03. This might indicate that there are\n",
       "strong multicollinearity or other numerical problems.\n",
       "\"\"\""
      ]
     },
     "execution_count": 34,
     "metadata": {},
     "output_type": "execute_result"
    }
   ],
   "source": [
    "lm_starters_quad = smf.ols('speed ~ year_z + I(year_z**2) + condition + starters + I(starters**2) + (year_z + I(year_z**2)):condition', data = derby).fit()\n",
    "lm_starters_quad.summary()"
   ]
  },
  {
   "cell_type": "code",
   "execution_count": 35,
   "id": "543099b7",
   "metadata": {},
   "outputs": [
    {
     "data": {
      "text/html": [
       "<div>\n",
       "<style scoped>\n",
       "    .dataframe tbody tr th:only-of-type {\n",
       "        vertical-align: middle;\n",
       "    }\n",
       "\n",
       "    .dataframe tbody tr th {\n",
       "        vertical-align: top;\n",
       "    }\n",
       "\n",
       "    .dataframe thead th {\n",
       "        text-align: right;\n",
       "    }\n",
       "</style>\n",
       "<table border=\"1\" class=\"dataframe\">\n",
       "  <thead>\n",
       "    <tr style=\"text-align: right;\">\n",
       "      <th></th>\n",
       "      <th>df_resid</th>\n",
       "      <th>ssr</th>\n",
       "      <th>df_diff</th>\n",
       "      <th>ss_diff</th>\n",
       "      <th>F</th>\n",
       "      <th>Pr(&gt;F)</th>\n",
       "    </tr>\n",
       "  </thead>\n",
       "  <tbody>\n",
       "    <tr>\n",
       "      <th>0</th>\n",
       "      <td>113.0</td>\n",
       "      <td>30.759780</td>\n",
       "      <td>0.0</td>\n",
       "      <td>NaN</td>\n",
       "      <td>NaN</td>\n",
       "      <td>NaN</td>\n",
       "    </tr>\n",
       "    <tr>\n",
       "      <th>1</th>\n",
       "      <td>111.0</td>\n",
       "      <td>27.351575</td>\n",
       "      <td>2.0</td>\n",
       "      <td>3.408205</td>\n",
       "      <td>6.915704</td>\n",
       "      <td>0.001477</td>\n",
       "    </tr>\n",
       "  </tbody>\n",
       "</table>\n",
       "</div>"
      ],
      "text/plain": [
       "   df_resid        ssr  df_diff   ss_diff         F    Pr(>F)\n",
       "0     113.0  30.759780      0.0       NaN       NaN       NaN\n",
       "1     111.0  27.351575      2.0  3.408205  6.915704  0.001477"
      ]
     },
     "execution_count": 35,
     "metadata": {},
     "output_type": "execute_result"
    }
   ],
   "source": [
    "sm.stats.anova_lm(lm_interaction, lm_starters_quad)"
   ]
  },
  {
   "cell_type": "markdown",
   "id": "45f4199b",
   "metadata": {},
   "source": [
    "How can we interpret these coefficients?\n",
    "\n",
    "A negative coefficient on the squared term says that the estimated mean will increase as the number of starters increases up to a point and then decrease. If we want to find the maximum, we can use a little bit of algebra."
   ]
  },
  {
   "cell_type": "code",
   "execution_count": 36,
   "id": "fe6e3139",
   "metadata": {},
   "outputs": [
    {
     "name": "stdout",
     "output_type": "stream",
     "text": [
      "12.775296401370035\n"
     ]
    }
   ],
   "source": [
    "a = lm_starters_quad.params['I(starters ** 2)']\n",
    "b = lm_starters_quad.params['starters']\n",
    "\n",
    "print(-b/(2*a))"
   ]
  }
 ],
 "metadata": {
  "kernelspec": {
   "display_name": "base",
   "language": "python",
   "name": "python3"
  },
  "language_info": {
   "codemirror_mode": {
    "name": "ipython",
    "version": 3
   },
   "file_extension": ".py",
   "mimetype": "text/x-python",
   "name": "python",
   "nbconvert_exporter": "python",
   "pygments_lexer": "ipython3",
   "version": "3.12.4"
  }
 },
 "nbformat": 4,
 "nbformat_minor": 5
}
