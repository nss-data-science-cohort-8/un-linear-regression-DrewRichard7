{
 "cells": [
  {
   "cell_type": "markdown",
   "metadata": {},
   "source": [
    "# Linear Regression Practice"
   ]
  },
  {
   "cell_type": "markdown",
   "metadata": {},
   "source": [
    "##### For this exercise, you've been provided with a csv file, gdp_le.csv, which contains the gdp per capita and life expectancy values that you were working with on the UN data exercise.\n"
   ]
  },
  {
   "cell_type": "code",
   "execution_count": 1,
   "metadata": {},
   "outputs": [],
   "source": [
    "import pandas as pd\n",
    "import numpy as np\n",
    "import matplotlib.pyplot as plt\n",
    "import statsmodels as sm\n",
    "from statsmodels.tsa import stattools\n",
    "import statsmodels.formula.api as smf\n",
    "import statsmodels.stats.api as sms\n",
    "import scipy as sp\n",
    "from scipy.stats import probplot"
   ]
  },
  {
   "cell_type": "markdown",
   "metadata": {},
   "source": [
    "### 1. Start by fitting a linear regression model with target being life expectancy and predictor variable year.  "
   ]
  },
  {
   "cell_type": "markdown",
   "metadata": {},
   "source": [
    "To specify our model, we need to use a [patsy formula](https://patsy.readthedocs.io/en/latest/formulas.html). The recipe is `target variable ~ predictor variables`.\n",
    "\n",
    "We'll use the `ols` function and go ahead and fit the model. (ols = ordinary least squares)"
   ]
  },
  {
   "cell_type": "code",
   "execution_count": 2,
   "metadata": {},
   "outputs": [],
   "source": [
    "gdp_le = pd.DataFrame(pd.read_csv('../data/gdp_le.csv'))\n",
    "year_vs_le = smf.ols(\"Life_Expectancy ~ Year\", data=gdp_le).fit()"
   ]
  },
  {
   "cell_type": "markdown",
   "metadata": {},
   "source": [
    "####    a. What coefficients do you get? Interpret the meaning of these coefficents.  "
   ]
  },
  {
   "cell_type": "code",
   "execution_count": 3,
   "metadata": {},
   "outputs": [
    {
     "data": {
      "text/plain": [
       "Intercept   -468.138140\n",
       "Year           0.267722\n",
       "dtype: float64"
      ]
     },
     "execution_count": 3,
     "metadata": {},
     "output_type": "execute_result"
    }
   ],
   "source": [
    "year_vs_le.params"
   ]
  },
  {
   "cell_type": "markdown",
   "metadata": {},
   "source": [
    "- the formula would fill as: $$Mean(Life\\_Expectancy) = -468.138140 + 0.267722(Year)$$ meaning each increase in one unit on average the Life Expectancy increases by ~0.267722 years.  \n",
    "the intercept is the output value when the input value is 0, so at year 0 there is an estimated life expectancy of -468 years"
   ]
  },
  {
   "cell_type": "markdown",
   "metadata": {},
   "source": [
    "####    b. Using just the year makes the intercept term difficult to interpret. Create a new model, but this time use years since 1990 as your predictor variable. Hint: You can use the [patsy identity function](https://patsy.readthedocs.io/en/latest/builtins-reference.html#patsy.builtins.I) to modify your predictors in your model formula. Inspect the new coefficients and interpret the meaning of them. Are they statistically significant?  "
   ]
  },
  {
   "cell_type": "code",
   "execution_count": 4,
   "metadata": {},
   "outputs": [
    {
     "data": {
      "text/plain": [
       "Intercept         64.628889\n",
       "I(Year - 1990)     0.267722\n",
       "dtype: float64"
      ]
     },
     "execution_count": 4,
     "metadata": {},
     "output_type": "execute_result"
    }
   ],
   "source": [
    "lm= smf.ols(\"Life_Expectancy ~ I(Year-1990)\", data=gdp_le).fit() # makes the year 1990 correspond to the value of 0\n",
    "lm.params"
   ]
  },
  {
   "cell_type": "markdown",
   "metadata": {},
   "source": [
    "- the estimated average life expectancy for the year 1990 which now corresponds to the value 0 is 64.63 years, and for every unit increase in year there is a 0.268 increase in life expectancy. "
   ]
  },
  {
   "cell_type": "code",
   "execution_count": 5,
   "metadata": {},
   "outputs": [
    {
     "name": "stdout",
     "output_type": "stream",
     "text": [
      "                            OLS Regression Results                            \n",
      "==============================================================================\n",
      "Dep. Variable:        Life_Expectancy   R-squared:                       0.072\n",
      "Model:                            OLS   Adj. R-squared:                  0.071\n",
      "Method:                 Least Squares   F-statistic:                     424.0\n",
      "Date:                Fri, 25 Oct 2024   Prob (F-statistic):           8.13e-91\n",
      "Time:                        17:23:31   Log-Likelihood:                -19950.\n",
      "No. Observations:                5504   AIC:                         3.990e+04\n",
      "Df Residuals:                    5502   BIC:                         3.992e+04\n",
      "Df Model:                           1                                         \n",
      "Covariance Type:            nonrobust                                         \n",
      "==================================================================================\n",
      "                     coef    std err          t      P>|t|      [0.025      0.975]\n",
      "----------------------------------------------------------------------------------\n",
      "Intercept         64.6289      0.245    263.308      0.000      64.148      65.110\n",
      "I(Year - 1990)     0.2677      0.013     20.591      0.000       0.242       0.293\n",
      "==============================================================================\n",
      "Omnibus:                      387.409   Durbin-Watson:                   0.058\n",
      "Prob(Omnibus):                  0.000   Jarque-Bera (JB):              469.138\n",
      "Skew:                          -0.709   Prob(JB):                    1.34e-102\n",
      "Kurtosis:                       2.820   Cond. No.                         37.9\n",
      "==============================================================================\n",
      "\n",
      "Notes:\n",
      "[1] Standard Errors assume that the covariance matrix of the errors is correctly specified.\n",
      "Breusch-Pagan: (99.8681407755768, 1.6288853146583354e-23, 101.67674010568682, 1.0491108967179602e-23)\n",
      "Jarque-Bera: (469.1375542245723, 1.3429952398328023e-102, -0.7094491570127864, 2.820040242309246)\n",
      "Durbin-Watson: 0.05840127346389549\n",
      "Omnibus: NormaltestResult(statistic=387.4094967923115, pvalue=7.500611183370674e-85)\n"
     ]
    }
   ],
   "source": [
    "print(lm.summary())\n",
    "print(f'Breusch-Pagan: {sms.het_breuschpagan(lm.resid, lm.model.exog)}')\n",
    "print(f'Jarque-Bera: {sms.jarque_bera(lm.resid)}')\n",
    "print(f'Durbin-Watson: {sms.durbin_watson(lm.resid)}')\n",
    "print(f'Omnibus: {sms.omni_normtest(lm.resid)}')"
   ]
  },
  {
   "cell_type": "markdown",
   "metadata": {},
   "source": [
    "**Requirements for ols regression** \n",
    "\n",
    "- **L**inear relationship between predictors and target mean\n",
    "- **I**ndependent errors\n",
    "- **N**ormally distributed residuals\n",
    "- **E**qual variance in residuals"
   ]
  },
  {
   "cell_type": "markdown",
   "metadata": {},
   "source": [
    "**Interpretations**  \n",
    "\n",
    "- because the new model is essentially the same model but shifted so that the year 1990 corresponds with the value of 0, the only difference in the two models is a transposition. The slope coefficient is the same in both models, the intercept is different based on whether the model takes the year 1990 as the value of 1990 or the value of 0.  \n",
    "- The p-value for the coefficients is near zero which indicates that the coefficients are statistically significant.   \n",
    "\n",
    "Durbin-Watson = 0.058  \n",
    "\n",
    "**p-values**  \n",
    "Breusch-Pagan = 1.62e-23  \n",
    "Jarque-Bera = 1.34e-102   \n",
    "Omnibus = 7.5e-85    \n",
    "\n",
    "- all of the notable statistics' p-values are very near zero, indicating that the residuals does not come from a normal distribution, violating our **L-I-N-E** assumptions for linear regression, meaning we should use caution when interpreting whether the coefficients are statistically significant. "
   ]
  },
  {
   "cell_type": "markdown",
   "metadata": {},
   "source": [
    "####    c. Compare the actual mean life expectancy per year to the model's estimate. How well does it do?  "
   ]
  },
  {
   "cell_type": "code",
   "execution_count": 6,
   "metadata": {},
   "outputs": [
    {
     "data": {
      "text/html": [
       "<div>\n",
       "<style scoped>\n",
       "    .dataframe tbody tr th:only-of-type {\n",
       "        vertical-align: middle;\n",
       "    }\n",
       "\n",
       "    .dataframe tbody tr th {\n",
       "        vertical-align: top;\n",
       "    }\n",
       "\n",
       "    .dataframe thead th {\n",
       "        text-align: right;\n",
       "    }\n",
       "</style>\n",
       "<table border=\"1\" class=\"dataframe\">\n",
       "  <thead>\n",
       "    <tr style=\"text-align: right;\">\n",
       "      <th></th>\n",
       "      <th>Year</th>\n",
       "      <th>Life_Expectancy</th>\n",
       "      <th>mean_estimate</th>\n",
       "    </tr>\n",
       "  </thead>\n",
       "  <tbody>\n",
       "    <tr>\n",
       "      <th>0</th>\n",
       "      <td>1990</td>\n",
       "      <td>64.745253</td>\n",
       "      <td>64.628889</td>\n",
       "    </tr>\n",
       "    <tr>\n",
       "      <th>1</th>\n",
       "      <td>1991</td>\n",
       "      <td>65.021276</td>\n",
       "      <td>64.896612</td>\n",
       "    </tr>\n",
       "    <tr>\n",
       "      <th>2</th>\n",
       "      <td>1992</td>\n",
       "      <td>65.217845</td>\n",
       "      <td>65.164334</td>\n",
       "    </tr>\n",
       "    <tr>\n",
       "      <th>3</th>\n",
       "      <td>1993</td>\n",
       "      <td>65.218031</td>\n",
       "      <td>65.432056</td>\n",
       "    </tr>\n",
       "    <tr>\n",
       "      <th>4</th>\n",
       "      <td>1994</td>\n",
       "      <td>65.339539</td>\n",
       "      <td>65.699778</td>\n",
       "    </tr>\n",
       "  </tbody>\n",
       "</table>\n",
       "</div>"
      ],
      "text/plain": [
       "   Year  Life_Expectancy  mean_estimate\n",
       "0  1990        64.745253      64.628889\n",
       "1  1991        65.021276      64.896612\n",
       "2  1992        65.217845      65.164334\n",
       "3  1993        65.218031      65.432056\n",
       "4  1994        65.339539      65.699778"
      ]
     },
     "execution_count": 6,
     "metadata": {},
     "output_type": "execute_result"
    }
   ],
   "source": [
    "means_per_year = gdp_le.groupby('Year')['Life_Expectancy'].mean().reset_index()\n",
    "means_per_year['mean_estimate'] = lm.predict(means_per_year)\n",
    "means_per_year.head(5)"
   ]
  },
  {
   "cell_type": "markdown",
   "metadata": {},
   "source": [
    "- The model is very close. Values predicted by the model are off by less than a year in most instances. "
   ]
  },
  {
   "cell_type": "markdown",
   "metadata": {},
   "source": [
    "####    d. Plot the actual values against your model's estimates for the mean life expectancy.  "
   ]
  },
  {
   "cell_type": "code",
   "execution_count": 7,
   "metadata": {},
   "outputs": [
    {
     "data": {
      "image/png": "[encoded data removed]",
      "text/plain": [
       "<Figure size 640x480 with 1 Axes>"
      ]
     },
     "metadata": {},
     "output_type": "display_data"
    }
   ],
   "source": [
    "means_per_year.plot(kind = 'line', x= 'Year', y = 'Life_Expectancy', color = 'blue')\n",
    "plt.plot(gdp_le['Year'], lm.fittedvalues, color = 'red')\n",
    "plt.ylabel('Age (Years)')\n",
    "plt.legend(['life expectancy', 'prediction']);"
   ]
  },
  {
   "cell_type": "code",
   "execution_count": 8,
   "metadata": {},
   "outputs": [
    {
     "data": {
      "image/png": "[encoded data removed]",
      "text/plain": [
       "<Figure size 640x480 with 1 Axes>"
      ]
     },
     "metadata": {},
     "output_type": "display_data"
    }
   ],
   "source": [
    "fig, ax = plt.subplots()\n",
    "gdp_le.plot(kind='scatter', x='Year', y='Life_Expectancy', ax=ax)\n",
    "means_per_year.plot(x='Year', y='mean_estimate', ax=ax, color='red')\n",
    "plt.legend(['countries', 'mean_estimate']);"
   ]
  },
  {
   "cell_type": "markdown",
   "metadata": {},
   "source": [
    "####    e. Inspect the R-squared value for the model. does it make sense, given the plot?  "
   ]
  },
  {
   "cell_type": "code",
   "execution_count": 9,
   "metadata": {},
   "outputs": [
    {
     "data": {
      "text/html": [
       "<table class=\"simpletable\">\n",
       "<caption>OLS Regression Results</caption>\n",
       "<tr>\n",
       "  <th>Dep. Variable:</th>     <td>Life_Expectancy</td> <th>  R-squared:         </th> <td>   0.072</td> \n",
       "</tr>\n",
       "<tr>\n",
       "  <th>Model:</th>                   <td>OLS</td>       <th>  Adj. R-squared:    </th> <td>   0.071</td> \n",
       "</tr>\n",
       "<tr>\n",
       "  <th>Method:</th>             <td>Least Squares</td>  <th>  F-statistic:       </th> <td>   424.0</td> \n",
       "</tr>\n",
       "<tr>\n",
       "  <th>Date:</th>             <td>Fri, 25 Oct 2024</td> <th>  Prob (F-statistic):</th> <td>8.13e-91</td> \n",
       "</tr>\n",
       "<tr>\n",
       "  <th>Time:</th>                 <td>17:23:32</td>     <th>  Log-Likelihood:    </th> <td> -19950.</td> \n",
       "</tr>\n",
       "<tr>\n",
       "  <th>No. Observations:</th>      <td>  5504</td>      <th>  AIC:               </th> <td>3.990e+04</td>\n",
       "</tr>\n",
       "<tr>\n",
       "  <th>Df Residuals:</th>          <td>  5502</td>      <th>  BIC:               </th> <td>3.992e+04</td>\n",
       "</tr>\n",
       "<tr>\n",
       "  <th>Df Model:</th>              <td>     1</td>      <th>                     </th>     <td> </td>    \n",
       "</tr>\n",
       "<tr>\n",
       "  <th>Covariance Type:</th>      <td>nonrobust</td>    <th>                     </th>     <td> </td>    \n",
       "</tr>\n",
       "</table>\n",
       "<table class=\"simpletable\">\n",
       "<tr>\n",
       "         <td></td>           <th>coef</th>     <th>std err</th>      <th>t</th>      <th>P>|t|</th>  <th>[0.025</th>    <th>0.975]</th>  \n",
       "</tr>\n",
       "<tr>\n",
       "  <th>Intercept</th>      <td>   64.6289</td> <td>    0.245</td> <td>  263.308</td> <td> 0.000</td> <td>   64.148</td> <td>   65.110</td>\n",
       "</tr>\n",
       "<tr>\n",
       "  <th>I(Year - 1990)</th> <td>    0.2677</td> <td>    0.013</td> <td>   20.591</td> <td> 0.000</td> <td>    0.242</td> <td>    0.293</td>\n",
       "</tr>\n",
       "</table>\n",
       "<table class=\"simpletable\">\n",
       "<tr>\n",
       "  <th>Omnibus:</th>       <td>387.409</td> <th>  Durbin-Watson:     </th> <td>   0.058</td> \n",
       "</tr>\n",
       "<tr>\n",
       "  <th>Prob(Omnibus):</th> <td> 0.000</td>  <th>  Jarque-Bera (JB):  </th> <td> 469.138</td> \n",
       "</tr>\n",
       "<tr>\n",
       "  <th>Skew:</th>          <td>-0.709</td>  <th>  Prob(JB):          </th> <td>1.34e-102</td>\n",
       "</tr>\n",
       "<tr>\n",
       "  <th>Kurtosis:</th>      <td> 2.820</td>  <th>  Cond. No.          </th> <td>    37.9</td> \n",
       "</tr>\n",
       "</table><br/><br/>Notes:<br/>[1] Standard Errors assume that the covariance matrix of the errors is correctly specified."
      ],
      "text/latex": [
       "\\begin{center}\n",
       "\\begin{tabular}{lclc}\n",
       "\\toprule\n",
       "\\textbf{Dep. Variable:}    & Life\\_Expectancy & \\textbf{  R-squared:         } &     0.072   \\\\\n",
       "\\textbf{Model:}            &       OLS        & \\textbf{  Adj. R-squared:    } &     0.071   \\\\\n",
       "\\textbf{Method:}           &  Least Squares   & \\textbf{  F-statistic:       } &     424.0   \\\\\n",
       "\\textbf{Date:}             & Fri, 25 Oct 2024 & \\textbf{  Prob (F-statistic):} &  8.13e-91   \\\\\n",
       "\\textbf{Time:}             &     17:23:32     & \\textbf{  Log-Likelihood:    } &   -19950.   \\\\\n",
       "\\textbf{No. Observations:} &        5504      & \\textbf{  AIC:               } & 3.990e+04   \\\\\n",
       "\\textbf{Df Residuals:}     &        5502      & \\textbf{  BIC:               } & 3.992e+04   \\\\\n",
       "\\textbf{Df Model:}         &           1      & \\textbf{                     } &             \\\\\n",
       "\\textbf{Covariance Type:}  &    nonrobust     & \\textbf{                     } &             \\\\\n",
       "\\bottomrule\n",
       "\\end{tabular}\n",
       "\\begin{tabular}{lcccccc}\n",
       "                        & \\textbf{coef} & \\textbf{std err} & \\textbf{t} & \\textbf{P$> |$t$|$} & \\textbf{[0.025} & \\textbf{0.975]}  \\\\\n",
       "\\midrule\n",
       "\\textbf{Intercept}      &      64.6289  &        0.245     &   263.308  &         0.000        &       64.148    &       65.110     \\\\\n",
       "\\textbf{I(Year - 1990)} &       0.2677  &        0.013     &    20.591  &         0.000        &        0.242    &        0.293     \\\\\n",
       "\\bottomrule\n",
       "\\end{tabular}\n",
       "\\begin{tabular}{lclc}\n",
       "\\textbf{Omnibus:}       & 387.409 & \\textbf{  Durbin-Watson:     } &     0.058  \\\\\n",
       "\\textbf{Prob(Omnibus):} &   0.000 & \\textbf{  Jarque-Bera (JB):  } &   469.138  \\\\\n",
       "\\textbf{Skew:}          &  -0.709 & \\textbf{  Prob(JB):          } & 1.34e-102  \\\\\n",
       "\\textbf{Kurtosis:}      &   2.820 & \\textbf{  Cond. No.          } &      37.9  \\\\\n",
       "\\bottomrule\n",
       "\\end{tabular}\n",
       "%\\caption{OLS Regression Results}\n",
       "\\end{center}\n",
       "\n",
       "Notes: \\newline\n",
       " [1] Standard Errors assume that the covariance matrix of the errors is correctly specified."
      ],
      "text/plain": [
       "<class 'statsmodels.iolib.summary.Summary'>\n",
       "\"\"\"\n",
       "                            OLS Regression Results                            \n",
       "==============================================================================\n",
       "Dep. Variable:        Life_Expectancy   R-squared:                       0.072\n",
       "Model:                            OLS   Adj. R-squared:                  0.071\n",
       "Method:                 Least Squares   F-statistic:                     424.0\n",
       "Date:                Fri, 25 Oct 2024   Prob (F-statistic):           8.13e-91\n",
       "Time:                        17:23:32   Log-Likelihood:                -19950.\n",
       "No. Observations:                5504   AIC:                         3.990e+04\n",
       "Df Residuals:                    5502   BIC:                         3.992e+04\n",
       "Df Model:                           1                                         \n",
       "Covariance Type:            nonrobust                                         \n",
       "==================================================================================\n",
       "                     coef    std err          t      P>|t|      [0.025      0.975]\n",
       "----------------------------------------------------------------------------------\n",
       "Intercept         64.6289      0.245    263.308      0.000      64.148      65.110\n",
       "I(Year - 1990)     0.2677      0.013     20.591      0.000       0.242       0.293\n",
       "==============================================================================\n",
       "Omnibus:                      387.409   Durbin-Watson:                   0.058\n",
       "Prob(Omnibus):                  0.000   Jarque-Bera (JB):              469.138\n",
       "Skew:                          -0.709   Prob(JB):                    1.34e-102\n",
       "Kurtosis:                       2.820   Cond. No.                         37.9\n",
       "==============================================================================\n",
       "\n",
       "Notes:\n",
       "[1] Standard Errors assume that the covariance matrix of the errors is correctly specified.\n",
       "\"\"\""
      ]
     },
     "execution_count": 9,
     "metadata": {},
     "output_type": "execute_result"
    }
   ],
   "source": [
    "lm.summary()"
   ]
  },
  {
   "cell_type": "code",
   "execution_count": 10,
   "metadata": {},
   "outputs": [
    {
     "name": "stdout",
     "output_type": "stream",
     "text": [
      "variance of residuals = 82.39711252241113\n",
      "vairance of Life_Expectancy = 88.74671724809251\n"
     ]
    }
   ],
   "source": [
    "print(f'variance of residuals = {lm.resid.var()}')\n",
    "print(f'vairance of Life_Expectancy = {gdp_le['Life_Expectancy'].var()}')"
   ]
  },
  {
   "cell_type": "markdown",
   "metadata": {},
   "source": [
    "**Interpretations**\n",
    "\n",
    "- The $R^2$ value represents how much of the variability in life epectancy can be explained by the `Year` variable. It's very low because the model is making it's prediction based on the average life expectancy for each year, not all values  for each year. \n",
    "- The variance of the residuals is slightly less than the total variance of the dataset, meaning the model does have some predictive power, but it is leaving a great deal of variation unexplained. "
   ]
  },
  {
   "cell_type": "markdown",
   "metadata": {},
   "source": [
    "### 2. Filter the full dataset down to just the year 2021. Fit a linear regression model with target being life expectancy and predictor variable gdp per capita.  "
   ]
  },
  {
   "cell_type": "code",
   "execution_count": 11,
   "metadata": {},
   "outputs": [],
   "source": [
    "gdp_le_2021 = gdp_le[gdp_le['Year'] == 2021].copy()\n",
    "lm_2021=smf.ols('Life_Expectancy ~ GDP_Per_Capita', data=gdp_le_2021).fit()"
   ]
  },
  {
   "cell_type": "markdown",
   "metadata": {},
   "source": [
    "   #### a. What coefficients do you get? Interpret the meaning of those coefficients.  "
   ]
  },
  {
   "cell_type": "code",
   "execution_count": 12,
   "metadata": {},
   "outputs": [
    {
     "data": {
      "text/plain": [
       "Intercept         65.949870\n",
       "GDP_Per_Capita     0.000257\n",
       "dtype: float64"
      ]
     },
     "execution_count": 12,
     "metadata": {},
     "output_type": "execute_result"
    }
   ],
   "source": [
    "lm_2021.params"
   ]
  },
  {
   "cell_type": "markdown",
   "metadata": {},
   "source": [
    "**Interpretation**\n",
    "\n",
    "For every unit increase ($1) in GDP per capita by an increase in GDP per capita of 1 correspondes to an increase in Life Expectancy of 0.000257 years or ~ 2.25 hours, and when GDP per capita is 0 the life expectancy is approximately 65.95 "
   ]
  },
  {
   "cell_type": "markdown",
   "metadata": {},
   "source": [
    "####    b. Refit your model, but this time use thousands of dollars of gdp per capita as your predictor. How does this change your coefficients?  "
   ]
  },
  {
   "cell_type": "code",
   "execution_count": 13,
   "metadata": {},
   "outputs": [
    {
     "data": {
      "text/plain": [
       "Intercept                   65.949870\n",
       "I(GDP_Per_Capita / 1000)     0.256892\n",
       "dtype: float64"
      ]
     },
     "execution_count": 13,
     "metadata": {},
     "output_type": "execute_result"
    }
   ],
   "source": [
    "lm_2021_adjusted = smf.ols('Life_Expectancy ~ I(GDP_Per_Capita/1000)', data=gdp_le_2021).fit()\n",
    "lm_2021_adjusted.params"
   ]
  },
  {
   "cell_type": "markdown",
   "metadata": {},
   "source": [
    "**Interpretation**\n",
    "\n",
    "Using a log transformation essentially changes the magnitude of our units, meaning one unit increase ($1000) in GDP per capita results in a 0.256892 increase in mean life expectancy. "
   ]
  },
  {
   "cell_type": "markdown",
   "metadata": {},
   "source": [
    "####    c. Are the coefficients statistically significant?  "
   ]
  },
  {
   "cell_type": "code",
   "execution_count": 14,
   "metadata": {},
   "outputs": [
    {
     "data": {
      "text/html": [
       "<table class=\"simpletable\">\n",
       "<caption>OLS Regression Results</caption>\n",
       "<tr>\n",
       "  <th>Dep. Variable:</th>     <td>Life_Expectancy</td> <th>  R-squared:         </th> <td>   0.555</td>\n",
       "</tr>\n",
       "<tr>\n",
       "  <th>Model:</th>                   <td>OLS</td>       <th>  Adj. R-squared:    </th> <td>   0.553</td>\n",
       "</tr>\n",
       "<tr>\n",
       "  <th>Method:</th>             <td>Least Squares</td>  <th>  F-statistic:       </th> <td>   213.4</td>\n",
       "</tr>\n",
       "<tr>\n",
       "  <th>Date:</th>             <td>Fri, 25 Oct 2024</td> <th>  Prob (F-statistic):</th> <td>6.81e-32</td>\n",
       "</tr>\n",
       "<tr>\n",
       "  <th>Time:</th>                 <td>17:23:32</td>     <th>  Log-Likelihood:    </th> <td> -529.25</td>\n",
       "</tr>\n",
       "<tr>\n",
       "  <th>No. Observations:</th>      <td>   173</td>      <th>  AIC:               </th> <td>   1062.</td>\n",
       "</tr>\n",
       "<tr>\n",
       "  <th>Df Residuals:</th>          <td>   171</td>      <th>  BIC:               </th> <td>   1069.</td>\n",
       "</tr>\n",
       "<tr>\n",
       "  <th>Df Model:</th>              <td>     1</td>      <th>                     </th>     <td> </td>   \n",
       "</tr>\n",
       "<tr>\n",
       "  <th>Covariance Type:</th>      <td>nonrobust</td>    <th>                     </th>     <td> </td>   \n",
       "</tr>\n",
       "</table>\n",
       "<table class=\"simpletable\">\n",
       "<tr>\n",
       "              <td></td>                <th>coef</th>     <th>std err</th>      <th>t</th>      <th>P>|t|</th>  <th>[0.025</th>    <th>0.975]</th>  \n",
       "</tr>\n",
       "<tr>\n",
       "  <th>Intercept</th>                <td>   65.9499</td> <td>    0.549</td> <td>  120.225</td> <td> 0.000</td> <td>   64.867</td> <td>   67.033</td>\n",
       "</tr>\n",
       "<tr>\n",
       "  <th>I(GDP_Per_Capita / 1000)</th> <td>    0.2569</td> <td>    0.018</td> <td>   14.608</td> <td> 0.000</td> <td>    0.222</td> <td>    0.292</td>\n",
       "</tr>\n",
       "</table>\n",
       "<table class=\"simpletable\">\n",
       "<tr>\n",
       "  <th>Omnibus:</th>       <td>11.676</td> <th>  Durbin-Watson:     </th> <td>   1.887</td>\n",
       "</tr>\n",
       "<tr>\n",
       "  <th>Prob(Omnibus):</th> <td> 0.003</td> <th>  Jarque-Bera (JB):  </th> <td>  12.725</td>\n",
       "</tr>\n",
       "<tr>\n",
       "  <th>Skew:</th>          <td>-0.664</td> <th>  Prob(JB):          </th> <td> 0.00173</td>\n",
       "</tr>\n",
       "<tr>\n",
       "  <th>Kurtosis:</th>      <td> 2.946</td> <th>  Cond. No.          </th> <td>    43.4</td>\n",
       "</tr>\n",
       "</table><br/><br/>Notes:<br/>[1] Standard Errors assume that the covariance matrix of the errors is correctly specified."
      ],
      "text/latex": [
       "\\begin{center}\n",
       "\\begin{tabular}{lclc}\n",
       "\\toprule\n",
       "\\textbf{Dep. Variable:}             & Life\\_Expectancy & \\textbf{  R-squared:         } &     0.555   \\\\\n",
       "\\textbf{Model:}                     &       OLS        & \\textbf{  Adj. R-squared:    } &     0.553   \\\\\n",
       "\\textbf{Method:}                    &  Least Squares   & \\textbf{  F-statistic:       } &     213.4   \\\\\n",
       "\\textbf{Date:}                      & Fri, 25 Oct 2024 & \\textbf{  Prob (F-statistic):} &  6.81e-32   \\\\\n",
       "\\textbf{Time:}                      &     17:23:32     & \\textbf{  Log-Likelihood:    } &   -529.25   \\\\\n",
       "\\textbf{No. Observations:}          &         173      & \\textbf{  AIC:               } &     1062.   \\\\\n",
       "\\textbf{Df Residuals:}              &         171      & \\textbf{  BIC:               } &     1069.   \\\\\n",
       "\\textbf{Df Model:}                  &           1      & \\textbf{                     } &             \\\\\n",
       "\\textbf{Covariance Type:}           &    nonrobust     & \\textbf{                     } &             \\\\\n",
       "\\bottomrule\n",
       "\\end{tabular}\n",
       "\\begin{tabular}{lcccccc}\n",
       "                                    & \\textbf{coef} & \\textbf{std err} & \\textbf{t} & \\textbf{P$> |$t$|$} & \\textbf{[0.025} & \\textbf{0.975]}  \\\\\n",
       "\\midrule\n",
       "\\textbf{Intercept}                  &      65.9499  &        0.549     &   120.225  &         0.000        &       64.867    &       67.033     \\\\\n",
       "\\textbf{I(GDP\\_Per\\_Capita / 1000)} &       0.2569  &        0.018     &    14.608  &         0.000        &        0.222    &        0.292     \\\\\n",
       "\\bottomrule\n",
       "\\end{tabular}\n",
       "\\begin{tabular}{lclc}\n",
       "\\textbf{Omnibus:}       & 11.676 & \\textbf{  Durbin-Watson:     } &    1.887  \\\\\n",
       "\\textbf{Prob(Omnibus):} &  0.003 & \\textbf{  Jarque-Bera (JB):  } &   12.725  \\\\\n",
       "\\textbf{Skew:}          & -0.664 & \\textbf{  Prob(JB):          } &  0.00173  \\\\\n",
       "\\textbf{Kurtosis:}      &  2.946 & \\textbf{  Cond. No.          } &     43.4  \\\\\n",
       "\\bottomrule\n",
       "\\end{tabular}\n",
       "%\\caption{OLS Regression Results}\n",
       "\\end{center}\n",
       "\n",
       "Notes: \\newline\n",
       " [1] Standard Errors assume that the covariance matrix of the errors is correctly specified."
      ],
      "text/plain": [
       "<class 'statsmodels.iolib.summary.Summary'>\n",
       "\"\"\"\n",
       "                            OLS Regression Results                            \n",
       "==============================================================================\n",
       "Dep. Variable:        Life_Expectancy   R-squared:                       0.555\n",
       "Model:                            OLS   Adj. R-squared:                  0.553\n",
       "Method:                 Least Squares   F-statistic:                     213.4\n",
       "Date:                Fri, 25 Oct 2024   Prob (F-statistic):           6.81e-32\n",
       "Time:                        17:23:32   Log-Likelihood:                -529.25\n",
       "No. Observations:                 173   AIC:                             1062.\n",
       "Df Residuals:                     171   BIC:                             1069.\n",
       "Df Model:                           1                                         \n",
       "Covariance Type:            nonrobust                                         \n",
       "============================================================================================\n",
       "                               coef    std err          t      P>|t|      [0.025      0.975]\n",
       "--------------------------------------------------------------------------------------------\n",
       "Intercept                   65.9499      0.549    120.225      0.000      64.867      67.033\n",
       "I(GDP_Per_Capita / 1000)     0.2569      0.018     14.608      0.000       0.222       0.292\n",
       "==============================================================================\n",
       "Omnibus:                       11.676   Durbin-Watson:                   1.887\n",
       "Prob(Omnibus):                  0.003   Jarque-Bera (JB):               12.725\n",
       "Skew:                          -0.664   Prob(JB):                      0.00173\n",
       "Kurtosis:                       2.946   Cond. No.                         43.4\n",
       "==============================================================================\n",
       "\n",
       "Notes:\n",
       "[1] Standard Errors assume that the covariance matrix of the errors is correctly specified.\n",
       "\"\"\""
      ]
     },
     "execution_count": 14,
     "metadata": {},
     "output_type": "execute_result"
    }
   ],
   "source": [
    "lm_2021_adjusted.summary()"
   ]
  },
  {
   "cell_type": "markdown",
   "metadata": {},
   "source": [
    "- The p-values near zero and the confidence intervals not including 0 indicate that these coefficients are statistically significant, but we'll continue to investigate our assumptions for linear regression."
   ]
  },
  {
   "cell_type": "markdown",
   "metadata": {},
   "source": [
    "**QQplot (quantile-quantile plot) - Probplot** \n",
    "\n",
    "\"Generates a probability plot of sample data against the quantiles of a specified theoretical distribution - normal distribution by default\"  \n",
    "\n",
    "- a straight line (along the red line) represents a perfect fit to the theoretical distribution. \n",
    "- what we see in ours appears to be the tails falling short of the theoretical normal distribution, indicating a slight left skew. "
   ]
  },
  {
   "cell_type": "code",
   "execution_count": 15,
   "metadata": {},
   "outputs": [
    {
     "data": {
      "image/png": "[encoded data removed]",
      "text/plain": [
       "<Figure size 640x480 with 1 Axes>"
      ]
     },
     "metadata": {},
     "output_type": "display_data"
    }
   ],
   "source": [
    "probplot(lm_2021_adjusted.resid, plot=plt);"
   ]
  },
  {
   "cell_type": "markdown",
   "metadata": {},
   "source": [
    "**Durbin-Watson**\n",
    "\n",
    "This tests for independence in the data. A value = 2 indicates that the data are independet of eachother. A value < 2 indicates positive autocorrelation of residuals, and a value > 2 indicates negative autocorrelation. Our value of 1.887... indicates slight positive autocorrelation, meaning that if a residual is high, the following residual will likely also be high. "
   ]
  },
  {
   "cell_type": "code",
   "execution_count": 16,
   "metadata": {},
   "outputs": [
    {
     "data": {
      "text/plain": [
       "1.8871562368426693"
      ]
     },
     "execution_count": 16,
     "metadata": {},
     "output_type": "execute_result"
    }
   ],
   "source": [
    "# are the erros independent? \n",
    "sms.durbin_watson(lm_2021_adjusted.resid)"
   ]
  },
  {
   "cell_type": "markdown",
   "metadata": {},
   "source": [
    "**Normally distributed residuals**\n",
    "\n",
    "This distribution does not look normal because there is a slight left skew, so that should be cause for concern or adjustment of our data inputs. We can confirm this further by running a Jarque-Bera test for normality on the residuals"
   ]
  },
  {
   "cell_type": "code",
   "execution_count": 17,
   "metadata": {},
   "outputs": [
    {
     "data": {
      "image/png": "[encoded data removed]",
      "text/plain": [
       "<Figure size 640x480 with 1 Axes>"
      ]
     },
     "metadata": {},
     "output_type": "display_data"
    }
   ],
   "source": [
    "# are the residuals normally distributed? \n",
    "plt.hist(lm_2021_adjusted.resid)\n",
    "plt.xlabel('residuals')\n",
    "plt.ylabel('Count');"
   ]
  },
  {
   "cell_type": "markdown",
   "metadata": {},
   "source": [
    "**Jarque-Bera**\n",
    "\n",
    "A test statistic of 12.7245..., p-value of 0.0017..., skewness of -0.66..., and kurtosis of 2.95... indicate that we should reject the null hypothesis and that the residuals are normally distributed."
   ]
  },
  {
   "cell_type": "code",
   "execution_count": 18,
   "metadata": {},
   "outputs": [
    {
     "data": {
      "text/plain": [
       "(12.724842533019256,\n",
       " 0.0017251845192994466,\n",
       " -0.6637725985434982,\n",
       " 2.9459646075602697)"
      ]
     },
     "execution_count": 18,
     "metadata": {},
     "output_type": "execute_result"
    }
   ],
   "source": [
    "# Jarque-Bera test on residuals; output (JBstatistic, p-value, skewness, kurtosis)\n",
    "sms.jarque_bera(lm_2021_adjusted.resid)"
   ]
  },
  {
   "cell_type": "markdown",
   "metadata": {},
   "source": [
    "**Breusch-Pagan Test** \n",
    "\n",
    "This tests for constant variance in the residuals. The p-value of 0.3097... is relatively high and indicates that we should fail to reject the null hypothesis that the residuals are homoskedastic, and that there is no significant evidence of heteroscedasticity. This in turn means that the variance of the residuals is non-constant, which violates the assumption of constant or equal variance needed for linear regression. "
   ]
  },
  {
   "cell_type": "code",
   "execution_count": 19,
   "metadata": {},
   "outputs": [
    {
     "data": {
      "text/plain": [
       "(1.032162718064626,\n",
       " 0.30965124816744033,\n",
       " 1.0263536925203447,\n",
       " 0.3124479407320225)"
      ]
     },
     "execution_count": 19,
     "metadata": {},
     "output_type": "execute_result"
    }
   ],
   "source": [
    "sms.het_breuschpagan(lm_2021_adjusted.resid, lm_2021_adjusted.model.exog)"
   ]
  },
  {
   "cell_type": "markdown",
   "metadata": {},
   "source": [
    "**Conclusions**\n",
    "\n",
    "All of these results (except the histogram and breusch-pagan test) are shown in the .summary() method from sms. While the p-values for the coefficients indicate statistical significance, the other statistics indicate that the data violates the assumptions that must be made in order to use linear regression. "
   ]
  },
  {
   "cell_type": "markdown",
   "metadata": {},
   "source": [
    "####    d. What does your model estimate for the mean life expectancy for a country whose gdp per capita is $50,000? What about one whose gdp per capita is $100,000?"
   ]
  },
  {
   "cell_type": "code",
   "execution_count": 20,
   "metadata": {},
   "outputs": [
    {
     "data": {
      "text/plain": [
       "[78.7944572464132, 91.63904465544813, 1.163013844601609]"
      ]
     },
     "execution_count": 20,
     "metadata": {},
     "output_type": "execute_result"
    }
   ],
   "source": [
    "predictor = lm_2021_adjusted.params['I(GDP_Per_Capita / 1000)']\n",
    "intercept = lm_2021_adjusted.params['Intercept']\n",
    "mean_le_50k = predictor * 50 + intercept\n",
    "mean_le_100k = predictor * 100 + intercept\n",
    "[mean_le_50k, mean_le_100k, (mean_le_100k/mean_le_50k)]"
   ]
  },
  {
   "cell_type": "markdown",
   "metadata": {},
   "source": [
    "- The country with GDP per capita of $100000 has more than 10 years life expectancy of a country with GDP per Capita of $50000"
   ]
  },
  {
   "cell_type": "markdown",
   "metadata": {},
   "source": [
    "   #### e. Plot the actual values compared to your model's estimates for mean life expectancy. How would you assess the model's fit"
   ]
  },
  {
   "cell_type": "code",
   "execution_count": 21,
   "metadata": {},
   "outputs": [
    {
     "data": {
      "text/html": [
       "<div>\n",
       "<style scoped>\n",
       "    .dataframe tbody tr th:only-of-type {\n",
       "        vertical-align: middle;\n",
       "    }\n",
       "\n",
       "    .dataframe tbody tr th {\n",
       "        vertical-align: top;\n",
       "    }\n",
       "\n",
       "    .dataframe thead th {\n",
       "        text-align: right;\n",
       "    }\n",
       "</style>\n",
       "<table border=\"1\" class=\"dataframe\">\n",
       "  <thead>\n",
       "    <tr style=\"text-align: right;\">\n",
       "      <th></th>\n",
       "      <th>Country</th>\n",
       "      <th>Year</th>\n",
       "      <th>GDP_Per_Capita</th>\n",
       "      <th>Continent</th>\n",
       "      <th>Life_Expectancy</th>\n",
       "    </tr>\n",
       "  </thead>\n",
       "  <tbody>\n",
       "    <tr>\n",
       "      <th>0</th>\n",
       "      <td>Afghanistan</td>\n",
       "      <td>2021</td>\n",
       "      <td>1517.016266</td>\n",
       "      <td>Asia</td>\n",
       "      <td>61.982</td>\n",
       "    </tr>\n",
       "    <tr>\n",
       "      <th>21</th>\n",
       "      <td>Albania</td>\n",
       "      <td>2021</td>\n",
       "      <td>14595.944386</td>\n",
       "      <td>Europe</td>\n",
       "      <td>76.463</td>\n",
       "    </tr>\n",
       "    <tr>\n",
       "      <th>54</th>\n",
       "      <td>Algeria</td>\n",
       "      <td>2021</td>\n",
       "      <td>11029.138782</td>\n",
       "      <td>Africa</td>\n",
       "      <td>76.377</td>\n",
       "    </tr>\n",
       "    <tr>\n",
       "      <th>87</th>\n",
       "      <td>Angola</td>\n",
       "      <td>2021</td>\n",
       "      <td>5911.835657</td>\n",
       "      <td>Africa</td>\n",
       "      <td>61.643</td>\n",
       "    </tr>\n",
       "    <tr>\n",
       "      <th>120</th>\n",
       "      <td>Antigua and Barbuda</td>\n",
       "      <td>2021</td>\n",
       "      <td>19899.882425</td>\n",
       "      <td>North America</td>\n",
       "      <td>78.497</td>\n",
       "    </tr>\n",
       "    <tr>\n",
       "      <th>...</th>\n",
       "      <td>...</td>\n",
       "      <td>...</td>\n",
       "      <td>...</td>\n",
       "      <td>...</td>\n",
       "      <td>...</td>\n",
       "    </tr>\n",
       "    <tr>\n",
       "      <th>5344</th>\n",
       "      <td>Uzbekistan</td>\n",
       "      <td>2021</td>\n",
       "      <td>7800.501501</td>\n",
       "      <td>Asia</td>\n",
       "      <td>70.862</td>\n",
       "    </tr>\n",
       "    <tr>\n",
       "      <th>5377</th>\n",
       "      <td>Vanuatu</td>\n",
       "      <td>2021</td>\n",
       "      <td>2800.493866</td>\n",
       "      <td>Oceania</td>\n",
       "      <td>70.449</td>\n",
       "    </tr>\n",
       "    <tr>\n",
       "      <th>5410</th>\n",
       "      <td>West Bank and Gaza</td>\n",
       "      <td>2021</td>\n",
       "      <td>5641.044400</td>\n",
       "      <td>Asia</td>\n",
       "      <td>73.473</td>\n",
       "    </tr>\n",
       "    <tr>\n",
       "      <th>5439</th>\n",
       "      <td>Zambia</td>\n",
       "      <td>2021</td>\n",
       "      <td>3236.788981</td>\n",
       "      <td>Africa</td>\n",
       "      <td>61.223</td>\n",
       "    </tr>\n",
       "    <tr>\n",
       "      <th>5472</th>\n",
       "      <td>Zimbabwe</td>\n",
       "      <td>2021</td>\n",
       "      <td>2115.144555</td>\n",
       "      <td>Africa</td>\n",
       "      <td>59.253</td>\n",
       "    </tr>\n",
       "  </tbody>\n",
       "</table>\n",
       "<p>173 rows × 5 columns</p>\n",
       "</div>"
      ],
      "text/plain": [
       "                  Country  Year  GDP_Per_Capita      Continent  \\\n",
       "0             Afghanistan  2021     1517.016266           Asia   \n",
       "21                Albania  2021    14595.944386         Europe   \n",
       "54                Algeria  2021    11029.138782         Africa   \n",
       "87                 Angola  2021     5911.835657         Africa   \n",
       "120   Antigua and Barbuda  2021    19899.882425  North America   \n",
       "...                   ...   ...             ...            ...   \n",
       "5344           Uzbekistan  2021     7800.501501           Asia   \n",
       "5377              Vanuatu  2021     2800.493866        Oceania   \n",
       "5410   West Bank and Gaza  2021     5641.044400           Asia   \n",
       "5439               Zambia  2021     3236.788981         Africa   \n",
       "5472             Zimbabwe  2021     2115.144555         Africa   \n",
       "\n",
       "      Life_Expectancy  \n",
       "0              61.982  \n",
       "21             76.463  \n",
       "54             76.377  \n",
       "87             61.643  \n",
       "120            78.497  \n",
       "...               ...  \n",
       "5344           70.862  \n",
       "5377           70.449  \n",
       "5410           73.473  \n",
       "5439           61.223  \n",
       "5472           59.253  \n",
       "\n",
       "[173 rows x 5 columns]"
      ]
     },
     "metadata": {},
     "output_type": "display_data"
    },
    {
     "data": {
      "image/png": "[encoded data removed]",
      "text/plain": [
       "<Figure size 640x480 with 1 Axes>"
      ]
     },
     "metadata": {},
     "output_type": "display_data"
    }
   ],
   "source": [
    "display(gdp_le_2021)\n",
    "gdp_le_2021.plot(kind = 'scatter', x= 'GDP_Per_Capita', y = 'Life_Expectancy', color = 'blue')\n",
    "plt.plot(gdp_le_2021['GDP_Per_Capita'], lm_2021_adjusted.fittedvalues, color = 'red')\n",
    "plt.legend(['Actual_Values', 'Linear_Model_est_mean']);"
   ]
  },
  {
   "cell_type": "markdown",
   "metadata": {},
   "source": [
    "**Interpretation** \n",
    "\n",
    "This model captures the general trend of a positive association between GDP_Per_Capita and Life_Expectancy, but it a very poor fit in its current form. "
   ]
  },
  {
   "cell_type": "markdown",
   "metadata": {},
   "source": [
    "### 3. Now, fit a model for life expectancy based on the log of gdp per capita.  "
   ]
  },
  {
   "cell_type": "code",
   "execution_count": 22,
   "metadata": {},
   "outputs": [],
   "source": [
    "lm_2021_log = smf.ols('Life_Expectancy ~ I(np.log(GDP_Per_Capita))', data=gdp_le_2021).fit()"
   ]
  },
  {
   "cell_type": "markdown",
   "metadata": {},
   "source": [
    "####    a. Inspect the coefficients for this model. Are they statistically significant?"
   ]
  },
  {
   "cell_type": "code",
   "execution_count": 23,
   "metadata": {},
   "outputs": [
    {
     "data": {
      "text/plain": [
       "Intercept                    18.946970\n",
       "I(np.log(GDP_Per_Capita))     5.589014\n",
       "dtype: float64"
      ]
     },
     "execution_count": 23,
     "metadata": {},
     "output_type": "execute_result"
    }
   ],
   "source": [
    "lm_2021_log.params"
   ]
  },
  {
   "cell_type": "code",
   "execution_count": 24,
   "metadata": {},
   "outputs": [
    {
     "name": "stdout",
     "output_type": "stream",
     "text": [
      "                            OLS Regression Results                            \n",
      "==============================================================================\n",
      "Dep. Variable:        Life_Expectancy   R-squared:                       0.717\n",
      "Model:                            OLS   Adj. R-squared:                  0.715\n",
      "Method:                 Least Squares   F-statistic:                     432.6\n",
      "Date:                Fri, 25 Oct 2024   Prob (F-statistic):           1.06e-48\n",
      "Time:                        17:23:32   Log-Likelihood:                -490.22\n",
      "No. Observations:                 173   AIC:                             984.4\n",
      "Df Residuals:                     171   BIC:                             990.7\n",
      "Df Model:                           1                                         \n",
      "Covariance Type:            nonrobust                                         \n",
      "=============================================================================================\n",
      "                                coef    std err          t      P>|t|      [0.025      0.975]\n",
      "---------------------------------------------------------------------------------------------\n",
      "Intercept                    18.9470      2.547      7.438      0.000      13.919      23.975\n",
      "I(np.log(GDP_Per_Capita))     5.5890      0.269     20.798      0.000       5.059       6.119\n",
      "==============================================================================\n",
      "Omnibus:                       16.862   Durbin-Watson:                   1.974\n",
      "Prob(Omnibus):                  0.000   Jarque-Bera (JB):               18.922\n",
      "Skew:                          -0.725   Prob(JB):                     7.78e-05\n",
      "Kurtosis:                       3.725   Cond. No.                         77.6\n",
      "==============================================================================\n",
      "\n",
      "Notes:\n",
      "[1] Standard Errors assume that the covariance matrix of the errors is correctly specified.\n"
     ]
    }
   ],
   "source": [
    "print(lm_2021_log.summary())"
   ]
  },
  {
   "cell_type": "markdown",
   "metadata": {},
   "source": [
    "**Interpretations** \n",
    "\n",
    "The p-value is near zero meaning the coefficients are statistically significant; therefore it is unlikely that the relationship between GDP per capita and life expectancy shown is due to chance. However we will again check out assumptions for linear regression. \n",
    "\n",
    "**Requirements for ols regression** \n",
    "\n",
    "- **L**inear relationship between predictors and target mean\n",
    "- **I**ndependent errors\n",
    "- **N**ormally distributed residuals\n",
    "- **E**qual variance in residuals   \n",
    "\n",
    "**Notable Statistics**  \n",
    "- **Durbin-Watson** = 1.974  *a value near 2 indicates very little autocorrelation in the residuals, indicating independence in errors*  \n",
    "- **Jarque-Bera** = 18.922, **JB p-value** = 7.78e-05  *a high JB and a near zero p-value indicate that this data did not come from a normal distribution, meaning we'll need to further investigate.  \n",
    "- **Skew** = -0.725  *this indicates a slight left skew, which is not indicative of a normal distribution*  \n",
    "- **Kurtosis** = 3.725  *this indicates a leptokurtic distribution, meaning there is an increased likelihood that outliers are impacting the shape of the distribution* "
   ]
  },
  {
   "cell_type": "markdown",
   "metadata": {},
   "source": [
    "####    b. Interpret these coefficients. What does the model estimate for the average life expectancy for countries with a gdp per capita of $50,000? What about for those with a gdp per capita of $100,000?"
   ]
  },
  {
   "cell_type": "markdown",
   "metadata": {},
   "source": [
    "- the predicted model is: $$Mean(Life\\_Expectancy) = 18.946970 + 5.589014(log(GDP\\_Per\\_Capita))$$   The intercept of `18.946970` indicates that for a country with zero GDP per capita the life expectancy might be around 19 years, but this doesn't make mathematical sense with a log, and is not very useful to us in determining the relationship between the two variables. What is more useful is seeing that as GDP per capita increases by an order of magnitude so too does the life expectancy: a one unit increase in log(GDP per capita) corresponds to around `5.589014` years increase in Life Expectancy. this is more akin to a percent change in gdp per capita corresponding to life expectancy change. "
   ]
  },
  {
   "cell_type": "code",
   "execution_count": 25,
   "metadata": {},
   "outputs": [
    {
     "data": {
      "text/plain": [
       "[79.41886072606525, 83.29286991695194, 1.048779460640327]"
      ]
     },
     "execution_count": 25,
     "metadata": {},
     "output_type": "execute_result"
    }
   ],
   "source": [
    "predictor = lm_2021_log.params['I(np.log(GDP_Per_Capita))']\n",
    "intercept = lm_2021_log.params['Intercept']\n",
    "mean_le_50k_log = predictor * np.log(50000) + intercept\n",
    "mean_le_100k_log = predictor * np.log(100000) + intercept\n",
    "[mean_le_50k_log, mean_le_100k_log, (mean_le_100k_log/mean_le_50k_log)]"
   ]
  },
  {
   "cell_type": "markdown",
   "metadata": {},
   "source": [
    "- Using the log of GDP per capita, the model predicts a life expectancy of around 79.42 years for a country with a GDP per capita of $50000, and a life expectancy of around 83.3 years for a country with a GDP per capita of $100000. This is around a 5% increase in life expectancy with a doubled GDP per capita"
   ]
  },
  {
   "cell_type": "markdown",
   "metadata": {},
   "source": [
    "####    c. Plot the actual values compared to your models' estimates for the mean life expectancy. How does this compare to the non-logged model?"
   ]
  },
  {
   "cell_type": "code",
   "execution_count": 26,
   "metadata": {},
   "outputs": [
    {
     "data": {
      "image/png": "[encoded data removed]",
      "text/plain": [
       "<Figure size 640x480 with 1 Axes>"
      ]
     },
     "metadata": {},
     "output_type": "display_data"
    }
   ],
   "source": [
    "mean_estimates_df = pd.DataFrame({'GDP_Per_Capita' : np.linspace(gdp_le_2021['GDP_Per_Capita'].min(), gdp_le_2021['GDP_Per_Capita'].max())})\n",
    "mean_estimates_df['Estimated_Mean'] = lm_2021_log.predict(mean_estimates_df)\n",
    "\n",
    "fig, ax = plt.subplots()\n",
    "gdp_le_2021.plot(kind = 'scatter', x= 'GDP_Per_Capita', y = 'Life_Expectancy', color = 'blue', ax=ax)\n",
    "mean_estimates_df.plot(x='GDP_Per_Capita', y='Estimated_Mean', ax=ax, color='red');"
   ]
  },
  {
   "cell_type": "code",
   "execution_count": 27,
   "metadata": {},
   "outputs": [
    {
     "data": {
      "image/png": "[encoded data removed]",
      "text/plain": [
       "<Figure size 640x480 with 1 Axes>"
      ]
     },
     "metadata": {},
     "output_type": "display_data"
    }
   ],
   "source": [
    "fig, ax = plt.subplots()\n",
    "gdp_le_2021.plot(kind = 'scatter', x= 'GDP_Per_Capita', y = 'Life_Expectancy', color = 'blue', ax=ax, logx=True)\n",
    "mean_estimates_df.plot(x='GDP_Per_Capita', y='Estimated_Mean', ax=ax, color='red', logx=True);"
   ]
  },
  {
   "cell_type": "markdown",
   "metadata": {},
   "source": [
    "- this plot looks much better than that of the fit to the non-log-transformed dataset. There is a clear positive association between log(GDP per capita) and life expectancy. "
   ]
  },
  {
   "cell_type": "code",
   "execution_count": 28,
   "metadata": {},
   "outputs": [
    {
     "data": {
      "image/png": "[encoded data removed]",
      "text/plain": [
       "<Figure size 640x480 with 1 Axes>"
      ]
     },
     "metadata": {},
     "output_type": "display_data"
    }
   ],
   "source": [
    "plt.scatter(lm_2021_log.fittedvalues, lm_2021_log.resid)\n",
    "plt.xlabel('fitted values')\n",
    "plt.ylabel('residuals');"
   ]
  },
  {
   "cell_type": "markdown",
   "metadata": {},
   "source": [
    "- no clear pattern in the residuals and a Durbin-Watson score of 1.974 indicates that the errors are nearly independent. "
   ]
  },
  {
   "cell_type": "markdown",
   "metadata": {},
   "source": [
    "### 4. Finally, return to the full dataset. "
   ]
  },
  {
   "cell_type": "markdown",
   "metadata": {},
   "source": [
    "####    a. First, fit a linear regression model for life expectancy based on the log of gdp per capita."
   ]
  },
  {
   "cell_type": "code",
   "execution_count": 29,
   "metadata": {},
   "outputs": [],
   "source": [
    "gdp_le['log_GDP_Per_Capita'] = np.log(gdp_le['GDP_Per_Capita'])\n",
    "log_gdp_lm= smf.ols(\"Life_Expectancy ~ log_GDP_Per_Capita\", data=gdp_le).fit()"
   ]
  },
  {
   "cell_type": "markdown",
   "metadata": {},
   "source": [
    "####    b. Then, add the year variable to your model. How can you interpret the coefficient associated with year? What limitations or weaknesses might this model have?"
   ]
  },
  {
   "cell_type": "code",
   "execution_count": 30,
   "metadata": {},
   "outputs": [],
   "source": [
    "# adding 'Year' to model \n",
    "log_gdp_lm_year= smf.ols(\"Life_Expectancy ~ log_GDP_Per_Capita + I(Year-1990)\", data=gdp_le).fit()"
   ]
  },
  {
   "cell_type": "code",
   "execution_count": 31,
   "metadata": {},
   "outputs": [
    {
     "data": {
      "text/plain": [
       "Intercept             9.194102\n",
       "log_GDP_Per_Capita    6.531130\n",
       "dtype: float64"
      ]
     },
     "execution_count": 31,
     "metadata": {},
     "output_type": "execute_result"
    }
   ],
   "source": [
    "log_gdp_lm.params"
   ]
  },
  {
   "cell_type": "code",
   "execution_count": 32,
   "metadata": {},
   "outputs": [
    {
     "data": {
      "text/plain": [
       "Intercept             8.561151\n",
       "log_GDP_Per_Capita    6.359936\n",
       "I(Year - 1990)        0.134487\n",
       "dtype: float64"
      ]
     },
     "execution_count": 32,
     "metadata": {},
     "output_type": "execute_result"
    }
   ],
   "source": [
    "log_gdp_lm_year.params"
   ]
  },
  {
   "cell_type": "code",
   "execution_count": 33,
   "metadata": {},
   "outputs": [
    {
     "data": {
      "text/html": [
       "<table class=\"simpletable\">\n",
       "<caption>OLS Regression Results</caption>\n",
       "<tr>\n",
       "  <th>Dep. Variable:</th>     <td>Life_Expectancy</td> <th>  R-squared:         </th> <td>   0.701</td> \n",
       "</tr>\n",
       "<tr>\n",
       "  <th>Model:</th>                   <td>OLS</td>       <th>  Adj. R-squared:    </th> <td>   0.701</td> \n",
       "</tr>\n",
       "<tr>\n",
       "  <th>Method:</th>             <td>Least Squares</td>  <th>  F-statistic:       </th> <td>1.288e+04</td>\n",
       "</tr>\n",
       "<tr>\n",
       "  <th>Date:</th>             <td>Fri, 25 Oct 2024</td> <th>  Prob (F-statistic):</th>  <td>  0.00</td>  \n",
       "</tr>\n",
       "<tr>\n",
       "  <th>Time:</th>                 <td>17:23:33</td>     <th>  Log-Likelihood:    </th> <td> -16834.</td> \n",
       "</tr>\n",
       "<tr>\n",
       "  <th>No. Observations:</th>      <td>  5504</td>      <th>  AIC:               </th> <td>3.367e+04</td>\n",
       "</tr>\n",
       "<tr>\n",
       "  <th>Df Residuals:</th>          <td>  5502</td>      <th>  BIC:               </th> <td>3.369e+04</td>\n",
       "</tr>\n",
       "<tr>\n",
       "  <th>Df Model:</th>              <td>     1</td>      <th>                     </th>     <td> </td>    \n",
       "</tr>\n",
       "<tr>\n",
       "  <th>Covariance Type:</th>      <td>nonrobust</td>    <th>                     </th>     <td> </td>    \n",
       "</tr>\n",
       "</table>\n",
       "<table class=\"simpletable\">\n",
       "<tr>\n",
       "           <td></td>             <th>coef</th>     <th>std err</th>      <th>t</th>      <th>P>|t|</th>  <th>[0.025</th>    <th>0.975]</th>  \n",
       "</tr>\n",
       "<tr>\n",
       "  <th>Intercept</th>          <td>    9.1941</td> <td>    0.532</td> <td>   17.297</td> <td> 0.000</td> <td>    8.152</td> <td>   10.236</td>\n",
       "</tr>\n",
       "<tr>\n",
       "  <th>log_GDP_Per_Capita</th> <td>    6.5311</td> <td>    0.058</td> <td>  113.506</td> <td> 0.000</td> <td>    6.418</td> <td>    6.644</td>\n",
       "</tr>\n",
       "</table>\n",
       "<table class=\"simpletable\">\n",
       "<tr>\n",
       "  <th>Omnibus:</th>       <td>1066.762</td> <th>  Durbin-Watson:     </th> <td>   0.096</td>\n",
       "</tr>\n",
       "<tr>\n",
       "  <th>Prob(Omnibus):</th>  <td> 0.000</td>  <th>  Jarque-Bera (JB):  </th> <td>2391.301</td>\n",
       "</tr>\n",
       "<tr>\n",
       "  <th>Skew:</th>           <td>-1.108</td>  <th>  Prob(JB):          </th> <td>    0.00</td>\n",
       "</tr>\n",
       "<tr>\n",
       "  <th>Kurtosis:</th>       <td> 5.349</td>  <th>  Cond. No.          </th> <td>    71.5</td>\n",
       "</tr>\n",
       "</table><br/><br/>Notes:<br/>[1] Standard Errors assume that the covariance matrix of the errors is correctly specified."
      ],
      "text/latex": [
       "\\begin{center}\n",
       "\\begin{tabular}{lclc}\n",
       "\\toprule\n",
       "\\textbf{Dep. Variable:}        & Life\\_Expectancy & \\textbf{  R-squared:         } &     0.701   \\\\\n",
       "\\textbf{Model:}                &       OLS        & \\textbf{  Adj. R-squared:    } &     0.701   \\\\\n",
       "\\textbf{Method:}               &  Least Squares   & \\textbf{  F-statistic:       } & 1.288e+04   \\\\\n",
       "\\textbf{Date:}                 & Fri, 25 Oct 2024 & \\textbf{  Prob (F-statistic):} &     0.00    \\\\\n",
       "\\textbf{Time:}                 &     17:23:33     & \\textbf{  Log-Likelihood:    } &   -16834.   \\\\\n",
       "\\textbf{No. Observations:}     &        5504      & \\textbf{  AIC:               } & 3.367e+04   \\\\\n",
       "\\textbf{Df Residuals:}         &        5502      & \\textbf{  BIC:               } & 3.369e+04   \\\\\n",
       "\\textbf{Df Model:}             &           1      & \\textbf{                     } &             \\\\\n",
       "\\textbf{Covariance Type:}      &    nonrobust     & \\textbf{                     } &             \\\\\n",
       "\\bottomrule\n",
       "\\end{tabular}\n",
       "\\begin{tabular}{lcccccc}\n",
       "                               & \\textbf{coef} & \\textbf{std err} & \\textbf{t} & \\textbf{P$> |$t$|$} & \\textbf{[0.025} & \\textbf{0.975]}  \\\\\n",
       "\\midrule\n",
       "\\textbf{Intercept}             &       9.1941  &        0.532     &    17.297  &         0.000        &        8.152    &       10.236     \\\\\n",
       "\\textbf{log\\_GDP\\_Per\\_Capita} &       6.5311  &        0.058     &   113.506  &         0.000        &        6.418    &        6.644     \\\\\n",
       "\\bottomrule\n",
       "\\end{tabular}\n",
       "\\begin{tabular}{lclc}\n",
       "\\textbf{Omnibus:}       & 1066.762 & \\textbf{  Durbin-Watson:     } &    0.096  \\\\\n",
       "\\textbf{Prob(Omnibus):} &   0.000  & \\textbf{  Jarque-Bera (JB):  } & 2391.301  \\\\\n",
       "\\textbf{Skew:}          &  -1.108  & \\textbf{  Prob(JB):          } &     0.00  \\\\\n",
       "\\textbf{Kurtosis:}      &   5.349  & \\textbf{  Cond. No.          } &     71.5  \\\\\n",
       "\\bottomrule\n",
       "\\end{tabular}\n",
       "%\\caption{OLS Regression Results}\n",
       "\\end{center}\n",
       "\n",
       "Notes: \\newline\n",
       " [1] Standard Errors assume that the covariance matrix of the errors is correctly specified."
      ],
      "text/plain": [
       "<class 'statsmodels.iolib.summary.Summary'>\n",
       "\"\"\"\n",
       "                            OLS Regression Results                            \n",
       "==============================================================================\n",
       "Dep. Variable:        Life_Expectancy   R-squared:                       0.701\n",
       "Model:                            OLS   Adj. R-squared:                  0.701\n",
       "Method:                 Least Squares   F-statistic:                 1.288e+04\n",
       "Date:                Fri, 25 Oct 2024   Prob (F-statistic):               0.00\n",
       "Time:                        17:23:33   Log-Likelihood:                -16834.\n",
       "No. Observations:                5504   AIC:                         3.367e+04\n",
       "Df Residuals:                    5502   BIC:                         3.369e+04\n",
       "Df Model:                           1                                         \n",
       "Covariance Type:            nonrobust                                         \n",
       "======================================================================================\n",
       "                         coef    std err          t      P>|t|      [0.025      0.975]\n",
       "--------------------------------------------------------------------------------------\n",
       "Intercept              9.1941      0.532     17.297      0.000       8.152      10.236\n",
       "log_GDP_Per_Capita     6.5311      0.058    113.506      0.000       6.418       6.644\n",
       "==============================================================================\n",
       "Omnibus:                     1066.762   Durbin-Watson:                   0.096\n",
       "Prob(Omnibus):                  0.000   Jarque-Bera (JB):             2391.301\n",
       "Skew:                          -1.108   Prob(JB):                         0.00\n",
       "Kurtosis:                       5.349   Cond. No.                         71.5\n",
       "==============================================================================\n",
       "\n",
       "Notes:\n",
       "[1] Standard Errors assume that the covariance matrix of the errors is correctly specified.\n",
       "\"\"\""
      ]
     },
     "execution_count": 33,
     "metadata": {},
     "output_type": "execute_result"
    }
   ],
   "source": [
    "log_gdp_lm.summary()"
   ]
  },
  {
   "cell_type": "code",
   "execution_count": 34,
   "metadata": {},
   "outputs": [
    {
     "data": {
      "text/html": [
       "<table class=\"simpletable\">\n",
       "<caption>OLS Regression Results</caption>\n",
       "<tr>\n",
       "  <th>Dep. Variable:</th>     <td>Life_Expectancy</td> <th>  R-squared:         </th> <td>   0.718</td> \n",
       "</tr>\n",
       "<tr>\n",
       "  <th>Model:</th>                   <td>OLS</td>       <th>  Adj. R-squared:    </th> <td>   0.718</td> \n",
       "</tr>\n",
       "<tr>\n",
       "  <th>Method:</th>             <td>Least Squares</td>  <th>  F-statistic:       </th> <td>   7014.</td> \n",
       "</tr>\n",
       "<tr>\n",
       "  <th>Date:</th>             <td>Fri, 25 Oct 2024</td> <th>  Prob (F-statistic):</th>  <td>  0.00</td>  \n",
       "</tr>\n",
       "<tr>\n",
       "  <th>Time:</th>                 <td>17:23:33</td>     <th>  Log-Likelihood:    </th> <td> -16668.</td> \n",
       "</tr>\n",
       "<tr>\n",
       "  <th>No. Observations:</th>      <td>  5504</td>      <th>  AIC:               </th> <td>3.334e+04</td>\n",
       "</tr>\n",
       "<tr>\n",
       "  <th>Df Residuals:</th>          <td>  5501</td>      <th>  BIC:               </th> <td>3.336e+04</td>\n",
       "</tr>\n",
       "<tr>\n",
       "  <th>Df Model:</th>              <td>     2</td>      <th>                     </th>     <td> </td>    \n",
       "</tr>\n",
       "<tr>\n",
       "  <th>Covariance Type:</th>      <td>nonrobust</td>    <th>                     </th>     <td> </td>    \n",
       "</tr>\n",
       "</table>\n",
       "<table class=\"simpletable\">\n",
       "<tr>\n",
       "           <td></td>             <th>coef</th>     <th>std err</th>      <th>t</th>      <th>P>|t|</th>  <th>[0.025</th>    <th>0.975]</th>  \n",
       "</tr>\n",
       "<tr>\n",
       "  <th>Intercept</th>          <td>    8.5612</td> <td>    0.517</td> <td>   16.563</td> <td> 0.000</td> <td>    7.548</td> <td>    9.574</td>\n",
       "</tr>\n",
       "<tr>\n",
       "  <th>log_GDP_Per_Capita</th> <td>    6.3599</td> <td>    0.057</td> <td>  112.387</td> <td> 0.000</td> <td>    6.249</td> <td>    6.471</td>\n",
       "</tr>\n",
       "<tr>\n",
       "  <th>I(Year - 1990)</th>     <td>    0.1345</td> <td>    0.007</td> <td>   18.525</td> <td> 0.000</td> <td>    0.120</td> <td>    0.149</td>\n",
       "</tr>\n",
       "</table>\n",
       "<table class=\"simpletable\">\n",
       "<tr>\n",
       "  <th>Omnibus:</th>       <td>1096.440</td> <th>  Durbin-Watson:     </th> <td>   0.088</td>\n",
       "</tr>\n",
       "<tr>\n",
       "  <th>Prob(Omnibus):</th>  <td> 0.000</td>  <th>  Jarque-Bera (JB):  </th> <td>2582.760</td>\n",
       "</tr>\n",
       "<tr>\n",
       "  <th>Skew:</th>           <td>-1.116</td>  <th>  Prob(JB):          </th> <td>    0.00</td>\n",
       "</tr>\n",
       "<tr>\n",
       "  <th>Kurtosis:</th>       <td> 5.506</td>  <th>  Cond. No.          </th> <td>    159.</td>\n",
       "</tr>\n",
       "</table><br/><br/>Notes:<br/>[1] Standard Errors assume that the covariance matrix of the errors is correctly specified."
      ],
      "text/latex": [
       "\\begin{center}\n",
       "\\begin{tabular}{lclc}\n",
       "\\toprule\n",
       "\\textbf{Dep. Variable:}        & Life\\_Expectancy & \\textbf{  R-squared:         } &     0.718   \\\\\n",
       "\\textbf{Model:}                &       OLS        & \\textbf{  Adj. R-squared:    } &     0.718   \\\\\n",
       "\\textbf{Method:}               &  Least Squares   & \\textbf{  F-statistic:       } &     7014.   \\\\\n",
       "\\textbf{Date:}                 & Fri, 25 Oct 2024 & \\textbf{  Prob (F-statistic):} &     0.00    \\\\\n",
       "\\textbf{Time:}                 &     17:23:33     & \\textbf{  Log-Likelihood:    } &   -16668.   \\\\\n",
       "\\textbf{No. Observations:}     &        5504      & \\textbf{  AIC:               } & 3.334e+04   \\\\\n",
       "\\textbf{Df Residuals:}         &        5501      & \\textbf{  BIC:               } & 3.336e+04   \\\\\n",
       "\\textbf{Df Model:}             &           2      & \\textbf{                     } &             \\\\\n",
       "\\textbf{Covariance Type:}      &    nonrobust     & \\textbf{                     } &             \\\\\n",
       "\\bottomrule\n",
       "\\end{tabular}\n",
       "\\begin{tabular}{lcccccc}\n",
       "                               & \\textbf{coef} & \\textbf{std err} & \\textbf{t} & \\textbf{P$> |$t$|$} & \\textbf{[0.025} & \\textbf{0.975]}  \\\\\n",
       "\\midrule\n",
       "\\textbf{Intercept}             &       8.5612  &        0.517     &    16.563  &         0.000        &        7.548    &        9.574     \\\\\n",
       "\\textbf{log\\_GDP\\_Per\\_Capita} &       6.3599  &        0.057     &   112.387  &         0.000        &        6.249    &        6.471     \\\\\n",
       "\\textbf{I(Year - 1990)}        &       0.1345  &        0.007     &    18.525  &         0.000        &        0.120    &        0.149     \\\\\n",
       "\\bottomrule\n",
       "\\end{tabular}\n",
       "\\begin{tabular}{lclc}\n",
       "\\textbf{Omnibus:}       & 1096.440 & \\textbf{  Durbin-Watson:     } &    0.088  \\\\\n",
       "\\textbf{Prob(Omnibus):} &   0.000  & \\textbf{  Jarque-Bera (JB):  } & 2582.760  \\\\\n",
       "\\textbf{Skew:}          &  -1.116  & \\textbf{  Prob(JB):          } &     0.00  \\\\\n",
       "\\textbf{Kurtosis:}      &   5.506  & \\textbf{  Cond. No.          } &     159.  \\\\\n",
       "\\bottomrule\n",
       "\\end{tabular}\n",
       "%\\caption{OLS Regression Results}\n",
       "\\end{center}\n",
       "\n",
       "Notes: \\newline\n",
       " [1] Standard Errors assume that the covariance matrix of the errors is correctly specified."
      ],
      "text/plain": [
       "<class 'statsmodels.iolib.summary.Summary'>\n",
       "\"\"\"\n",
       "                            OLS Regression Results                            \n",
       "==============================================================================\n",
       "Dep. Variable:        Life_Expectancy   R-squared:                       0.718\n",
       "Model:                            OLS   Adj. R-squared:                  0.718\n",
       "Method:                 Least Squares   F-statistic:                     7014.\n",
       "Date:                Fri, 25 Oct 2024   Prob (F-statistic):               0.00\n",
       "Time:                        17:23:33   Log-Likelihood:                -16668.\n",
       "No. Observations:                5504   AIC:                         3.334e+04\n",
       "Df Residuals:                    5501   BIC:                         3.336e+04\n",
       "Df Model:                           2                                         \n",
       "Covariance Type:            nonrobust                                         \n",
       "======================================================================================\n",
       "                         coef    std err          t      P>|t|      [0.025      0.975]\n",
       "--------------------------------------------------------------------------------------\n",
       "Intercept              8.5612      0.517     16.563      0.000       7.548       9.574\n",
       "log_GDP_Per_Capita     6.3599      0.057    112.387      0.000       6.249       6.471\n",
       "I(Year - 1990)         0.1345      0.007     18.525      0.000       0.120       0.149\n",
       "==============================================================================\n",
       "Omnibus:                     1096.440   Durbin-Watson:                   0.088\n",
       "Prob(Omnibus):                  0.000   Jarque-Bera (JB):             2582.760\n",
       "Skew:                          -1.116   Prob(JB):                         0.00\n",
       "Kurtosis:                       5.506   Cond. No.                         159.\n",
       "==============================================================================\n",
       "\n",
       "Notes:\n",
       "[1] Standard Errors assume that the covariance matrix of the errors is correctly specified.\n",
       "\"\"\""
      ]
     },
     "execution_count": 34,
     "metadata": {},
     "output_type": "execute_result"
    }
   ],
   "source": [
    "log_gdp_lm_year.summary()"
   ]
  },
  {
   "cell_type": "code",
   "execution_count": 35,
   "metadata": {},
   "outputs": [
    {
     "data": {
      "text/html": [
       "<div>\n",
       "<style scoped>\n",
       "    .dataframe tbody tr th:only-of-type {\n",
       "        vertical-align: middle;\n",
       "    }\n",
       "\n",
       "    .dataframe tbody tr th {\n",
       "        vertical-align: top;\n",
       "    }\n",
       "\n",
       "    .dataframe thead th {\n",
       "        text-align: right;\n",
       "    }\n",
       "</style>\n",
       "<table border=\"1\" class=\"dataframe\">\n",
       "  <thead>\n",
       "    <tr style=\"text-align: right;\">\n",
       "      <th></th>\n",
       "      <th>Year</th>\n",
       "      <th>Life_Expectancy</th>\n",
       "      <th>log_GDP_Per_Capita</th>\n",
       "    </tr>\n",
       "  </thead>\n",
       "  <tbody>\n",
       "    <tr>\n",
       "      <th>0</th>\n",
       "      <td>1990</td>\n",
       "      <td>64.745253</td>\n",
       "      <td>8.837510</td>\n",
       "    </tr>\n",
       "    <tr>\n",
       "      <th>1</th>\n",
       "      <td>1991</td>\n",
       "      <td>65.021276</td>\n",
       "      <td>8.834962</td>\n",
       "    </tr>\n",
       "    <tr>\n",
       "      <th>2</th>\n",
       "      <td>1992</td>\n",
       "      <td>65.217845</td>\n",
       "      <td>8.844434</td>\n",
       "    </tr>\n",
       "    <tr>\n",
       "      <th>3</th>\n",
       "      <td>1993</td>\n",
       "      <td>65.218031</td>\n",
       "      <td>8.838053</td>\n",
       "    </tr>\n",
       "    <tr>\n",
       "      <th>4</th>\n",
       "      <td>1994</td>\n",
       "      <td>65.339539</td>\n",
       "      <td>8.828003</td>\n",
       "    </tr>\n",
       "  </tbody>\n",
       "</table>\n",
       "</div>"
      ],
      "text/plain": [
       "   Year  Life_Expectancy  log_GDP_Per_Capita\n",
       "0  1990        64.745253            8.837510\n",
       "1  1991        65.021276            8.834962\n",
       "2  1992        65.217845            8.844434\n",
       "3  1993        65.218031            8.838053\n",
       "4  1994        65.339539            8.828003"
      ]
     },
     "execution_count": 35,
     "metadata": {},
     "output_type": "execute_result"
    }
   ],
   "source": [
    "means = gdp_le.groupby('Year')[['Life_Expectancy', 'log_GDP_Per_Capita']].mean().reset_index()\n",
    "means.head(5)"
   ]
  },
  {
   "cell_type": "code",
   "execution_count": 36,
   "metadata": {},
   "outputs": [
    {
     "data": {
      "text/html": [
       "<div>\n",
       "<style scoped>\n",
       "    .dataframe tbody tr th:only-of-type {\n",
       "        vertical-align: middle;\n",
       "    }\n",
       "\n",
       "    .dataframe tbody tr th {\n",
       "        vertical-align: top;\n",
       "    }\n",
       "\n",
       "    .dataframe thead th {\n",
       "        text-align: right;\n",
       "    }\n",
       "</style>\n",
       "<table border=\"1\" class=\"dataframe\">\n",
       "  <thead>\n",
       "    <tr style=\"text-align: right;\">\n",
       "      <th></th>\n",
       "      <th>sum_sq</th>\n",
       "      <th>df</th>\n",
       "      <th>F</th>\n",
       "      <th>PR(&gt;F)</th>\n",
       "    </tr>\n",
       "  </thead>\n",
       "  <tbody>\n",
       "    <tr>\n",
       "      <th>log_GDP_Per_Capita</th>\n",
       "      <td>315865.086680</td>\n",
       "      <td>1.0</td>\n",
       "      <td>12630.817342</td>\n",
       "      <td>0.000000e+00</td>\n",
       "    </tr>\n",
       "    <tr>\n",
       "      <th>I(Year - 1990)</th>\n",
       "      <td>8582.183604</td>\n",
       "      <td>1.0</td>\n",
       "      <td>343.184474</td>\n",
       "      <td>2.273290e-74</td>\n",
       "    </tr>\n",
       "    <tr>\n",
       "      <th>Residual</th>\n",
       "      <td>137566.223531</td>\n",
       "      <td>5501.0</td>\n",
       "      <td>NaN</td>\n",
       "      <td>NaN</td>\n",
       "    </tr>\n",
       "  </tbody>\n",
       "</table>\n",
       "</div>"
      ],
      "text/plain": [
       "                           sum_sq      df             F        PR(>F)\n",
       "log_GDP_Per_Capita  315865.086680     1.0  12630.817342  0.000000e+00\n",
       "I(Year - 1990)        8582.183604     1.0    343.184474  2.273290e-74\n",
       "Residual            137566.223531  5501.0           NaN           NaN"
      ]
     },
     "metadata": {},
     "output_type": "display_data"
    },
    {
     "data": {
      "text/html": [
       "<div>\n",
       "<style scoped>\n",
       "    .dataframe tbody tr th:only-of-type {\n",
       "        vertical-align: middle;\n",
       "    }\n",
       "\n",
       "    .dataframe tbody tr th {\n",
       "        vertical-align: top;\n",
       "    }\n",
       "\n",
       "    .dataframe thead th {\n",
       "        text-align: right;\n",
       "    }\n",
       "</style>\n",
       "<table border=\"1\" class=\"dataframe\">\n",
       "  <thead>\n",
       "    <tr style=\"text-align: right;\">\n",
       "      <th></th>\n",
       "      <th>df_resid</th>\n",
       "      <th>ssr</th>\n",
       "      <th>df_diff</th>\n",
       "      <th>ss_diff</th>\n",
       "      <th>F</th>\n",
       "      <th>Pr(&gt;F)</th>\n",
       "    </tr>\n",
       "  </thead>\n",
       "  <tbody>\n",
       "    <tr>\n",
       "      <th>0</th>\n",
       "      <td>5502.0</td>\n",
       "      <td>146148.407135</td>\n",
       "      <td>0.0</td>\n",
       "      <td>NaN</td>\n",
       "      <td>NaN</td>\n",
       "      <td>NaN</td>\n",
       "    </tr>\n",
       "    <tr>\n",
       "      <th>1</th>\n",
       "      <td>5501.0</td>\n",
       "      <td>137566.223531</td>\n",
       "      <td>1.0</td>\n",
       "      <td>8582.183604</td>\n",
       "      <td>343.184474</td>\n",
       "      <td>2.273290e-74</td>\n",
       "    </tr>\n",
       "  </tbody>\n",
       "</table>\n",
       "</div>"
      ],
      "text/plain": [
       "   df_resid            ssr  df_diff      ss_diff           F        Pr(>F)\n",
       "0    5502.0  146148.407135      0.0          NaN         NaN           NaN\n",
       "1    5501.0  137566.223531      1.0  8582.183604  343.184474  2.273290e-74"
      ]
     },
     "metadata": {},
     "output_type": "display_data"
    }
   ],
   "source": [
    "display(sms.anova_lm(log_gdp_lm_year, typ=2))\n",
    "display(sms.anova_lm(log_gdp_lm, log_gdp_lm_year))"
   ]
  },
  {
   "cell_type": "markdown",
   "metadata": {},
   "source": [
    "- the p-value very near zero in the lower right hand corner indicates that the 'Year' term has a non-zero coefficient, and that the relationship between that predictor variable and the target variable is statistically significant. This means that there is unlikely that the relationship between year and life expectancy is due to chance, though it does not mean direct causation.  \n",
    "- some limitations this model might have:  \n",
    "    - the 'Year' as a variable doesn't give us much useful information to use. It is a variable that changes, but does not directly cause anything, but rather serves as an indicator for changes in other variables. So although as years change so does life expectancy, there is really only that observation that can be inferred from the 'Year' predictor.   \n",
    "    - the 'Year' variable also makes it difficult to determine whether the other predictors are independent, because the data collected is for the same variable changes over time. \n",
    "    - this is also not a simple random sample: our observations are not independent of each other. "
   ]
  },
  {
   "cell_type": "markdown",
   "metadata": {},
   "source": [
    "# Linear Regression Practice Stretch Questions"
   ]
  },
  {
   "cell_type": "markdown",
   "metadata": {},
   "source": [
    "### 1. So far, we've looked at the effect of gdp per capita alone on life expectancy. Let's see what happens if we also consider the continent variable. For this question, return to the 2021 subset. "
   ]
  },
  {
   "cell_type": "code",
   "execution_count": 37,
   "metadata": {},
   "outputs": [
    {
     "data": {
      "text/html": [
       "<div>\n",
       "<style scoped>\n",
       "    .dataframe tbody tr th:only-of-type {\n",
       "        vertical-align: middle;\n",
       "    }\n",
       "\n",
       "    .dataframe tbody tr th {\n",
       "        vertical-align: top;\n",
       "    }\n",
       "\n",
       "    .dataframe thead th {\n",
       "        text-align: right;\n",
       "    }\n",
       "</style>\n",
       "<table border=\"1\" class=\"dataframe\">\n",
       "  <thead>\n",
       "    <tr style=\"text-align: right;\">\n",
       "      <th></th>\n",
       "      <th>Country</th>\n",
       "      <th>Year</th>\n",
       "      <th>GDP_Per_Capita</th>\n",
       "      <th>Continent</th>\n",
       "      <th>Life_Expectancy</th>\n",
       "    </tr>\n",
       "  </thead>\n",
       "  <tbody>\n",
       "    <tr>\n",
       "      <th>0</th>\n",
       "      <td>Afghanistan</td>\n",
       "      <td>2021</td>\n",
       "      <td>1517.016266</td>\n",
       "      <td>Asia</td>\n",
       "      <td>61.982</td>\n",
       "    </tr>\n",
       "    <tr>\n",
       "      <th>21</th>\n",
       "      <td>Albania</td>\n",
       "      <td>2021</td>\n",
       "      <td>14595.944386</td>\n",
       "      <td>Europe</td>\n",
       "      <td>76.463</td>\n",
       "    </tr>\n",
       "    <tr>\n",
       "      <th>54</th>\n",
       "      <td>Algeria</td>\n",
       "      <td>2021</td>\n",
       "      <td>11029.138782</td>\n",
       "      <td>Africa</td>\n",
       "      <td>76.377</td>\n",
       "    </tr>\n",
       "    <tr>\n",
       "      <th>87</th>\n",
       "      <td>Angola</td>\n",
       "      <td>2021</td>\n",
       "      <td>5911.835657</td>\n",
       "      <td>Africa</td>\n",
       "      <td>61.643</td>\n",
       "    </tr>\n",
       "    <tr>\n",
       "      <th>120</th>\n",
       "      <td>Antigua and Barbuda</td>\n",
       "      <td>2021</td>\n",
       "      <td>19899.882425</td>\n",
       "      <td>North America</td>\n",
       "      <td>78.497</td>\n",
       "    </tr>\n",
       "    <tr>\n",
       "      <th>...</th>\n",
       "      <td>...</td>\n",
       "      <td>...</td>\n",
       "      <td>...</td>\n",
       "      <td>...</td>\n",
       "      <td>...</td>\n",
       "    </tr>\n",
       "    <tr>\n",
       "      <th>5344</th>\n",
       "      <td>Uzbekistan</td>\n",
       "      <td>2021</td>\n",
       "      <td>7800.501501</td>\n",
       "      <td>Asia</td>\n",
       "      <td>70.862</td>\n",
       "    </tr>\n",
       "    <tr>\n",
       "      <th>5377</th>\n",
       "      <td>Vanuatu</td>\n",
       "      <td>2021</td>\n",
       "      <td>2800.493866</td>\n",
       "      <td>Oceania</td>\n",
       "      <td>70.449</td>\n",
       "    </tr>\n",
       "    <tr>\n",
       "      <th>5410</th>\n",
       "      <td>West Bank and Gaza</td>\n",
       "      <td>2021</td>\n",
       "      <td>5641.044400</td>\n",
       "      <td>Asia</td>\n",
       "      <td>73.473</td>\n",
       "    </tr>\n",
       "    <tr>\n",
       "      <th>5439</th>\n",
       "      <td>Zambia</td>\n",
       "      <td>2021</td>\n",
       "      <td>3236.788981</td>\n",
       "      <td>Africa</td>\n",
       "      <td>61.223</td>\n",
       "    </tr>\n",
       "    <tr>\n",
       "      <th>5472</th>\n",
       "      <td>Zimbabwe</td>\n",
       "      <td>2021</td>\n",
       "      <td>2115.144555</td>\n",
       "      <td>Africa</td>\n",
       "      <td>59.253</td>\n",
       "    </tr>\n",
       "  </tbody>\n",
       "</table>\n",
       "<p>173 rows × 5 columns</p>\n",
       "</div>"
      ],
      "text/plain": [
       "                  Country  Year  GDP_Per_Capita      Continent  \\\n",
       "0             Afghanistan  2021     1517.016266           Asia   \n",
       "21                Albania  2021    14595.944386         Europe   \n",
       "54                Algeria  2021    11029.138782         Africa   \n",
       "87                 Angola  2021     5911.835657         Africa   \n",
       "120   Antigua and Barbuda  2021    19899.882425  North America   \n",
       "...                   ...   ...             ...            ...   \n",
       "5344           Uzbekistan  2021     7800.501501           Asia   \n",
       "5377              Vanuatu  2021     2800.493866        Oceania   \n",
       "5410   West Bank and Gaza  2021     5641.044400           Asia   \n",
       "5439               Zambia  2021     3236.788981         Africa   \n",
       "5472             Zimbabwe  2021     2115.144555         Africa   \n",
       "\n",
       "      Life_Expectancy  \n",
       "0              61.982  \n",
       "21             76.463  \n",
       "54             76.377  \n",
       "87             61.643  \n",
       "120            78.497  \n",
       "...               ...  \n",
       "5344           70.862  \n",
       "5377           70.449  \n",
       "5410           73.473  \n",
       "5439           61.223  \n",
       "5472           59.253  \n",
       "\n",
       "[173 rows x 5 columns]"
      ]
     },
     "execution_count": 37,
     "metadata": {},
     "output_type": "execute_result"
    }
   ],
   "source": [
    "gdp_le_2021"
   ]
  },
  {
   "cell_type": "markdown",
   "metadata": {},
   "source": [
    " ####    a. Fit a model for life expectancy using log of gdp per capita and continent. How does this compare to the model that just used log of gdp per capita? Interpret the meaning of the coefficients you get with this new model.  "
   ]
  },
  {
   "cell_type": "code",
   "execution_count": 38,
   "metadata": {},
   "outputs": [
    {
     "ename": "PatsyError",
     "evalue": "Error evaluating factor: NameError: name 'log_GDP_Per_Capita' is not defined\n    Life_Expectancy ~ log_GDP_Per_Capita + Continent\n                      ^^^^^^^^^^^^^^^^^^",
     "output_type": "error",
     "traceback": [
      "\u001b[0;31m---------------------------------------------------------------------------\u001b[0m",
      "\u001b[0;31mNameError\u001b[0m                                 Traceback (most recent call last)",
      "File \u001b[0;32m/opt/anaconda3/lib/python3.12/site-packages/patsy/compat.py:36\u001b[0m, in \u001b[0;36mcall_and_wrap_exc\u001b[0;34m(msg, origin, f, *args, **kwargs)\u001b[0m\n\u001b[1;32m     35\u001b[0m \u001b[38;5;28;01mtry\u001b[39;00m:\n\u001b[0;32m---> 36\u001b[0m     \u001b[38;5;28;01mreturn\u001b[39;00m f(\u001b[38;5;241m*\u001b[39margs, \u001b[38;5;241m*\u001b[39m\u001b[38;5;241m*\u001b[39mkwargs)\n\u001b[1;32m     37\u001b[0m \u001b[38;5;28;01mexcept\u001b[39;00m \u001b[38;5;167;01mException\u001b[39;00m \u001b[38;5;28;01mas\u001b[39;00m e:\n",
      "File \u001b[0;32m/opt/anaconda3/lib/python3.12/site-packages/patsy/eval.py:169\u001b[0m, in \u001b[0;36mEvalEnvironment.eval\u001b[0;34m(self, expr, source_name, inner_namespace)\u001b[0m\n\u001b[1;32m    168\u001b[0m code \u001b[38;5;241m=\u001b[39m \u001b[38;5;28mcompile\u001b[39m(expr, source_name, \u001b[38;5;124m\"\u001b[39m\u001b[38;5;124meval\u001b[39m\u001b[38;5;124m\"\u001b[39m, \u001b[38;5;28mself\u001b[39m\u001b[38;5;241m.\u001b[39mflags, \u001b[38;5;28;01mFalse\u001b[39;00m)\n\u001b[0;32m--> 169\u001b[0m \u001b[38;5;28;01mreturn\u001b[39;00m \u001b[38;5;28meval\u001b[39m(code, {}, VarLookupDict([inner_namespace]\n\u001b[1;32m    170\u001b[0m                                     \u001b[38;5;241m+\u001b[39m \u001b[38;5;28mself\u001b[39m\u001b[38;5;241m.\u001b[39m_namespaces))\n",
      "File \u001b[0;32m<string>:1\u001b[0m\n",
      "\u001b[0;31mNameError\u001b[0m: name 'log_GDP_Per_Capita' is not defined",
      "\nThe above exception was the direct cause of the following exception:\n",
      "\u001b[0;31mPatsyError\u001b[0m                                Traceback (most recent call last)",
      "Cell \u001b[0;32mIn[38], line 1\u001b[0m\n\u001b[0;32m----> 1\u001b[0m lm_loggdp_continent \u001b[38;5;241m=\u001b[39m smf\u001b[38;5;241m.\u001b[39mols(\u001b[38;5;124m'\u001b[39m\u001b[38;5;124mLife_Expectancy ~ log_GDP_Per_Capita + Continent\u001b[39m\u001b[38;5;124m'\u001b[39m, data\u001b[38;5;241m=\u001b[39mgdp_le_2021)\u001b[38;5;241m.\u001b[39mfit()\n\u001b[1;32m      2\u001b[0m lm_loggdp_continent\u001b[38;5;241m.\u001b[39mparams\n",
      "File \u001b[0;32m/opt/anaconda3/lib/python3.12/site-packages/statsmodels/base/model.py:203\u001b[0m, in \u001b[0;36mModel.from_formula\u001b[0;34m(cls, formula, data, subset, drop_cols, *args, **kwargs)\u001b[0m\n\u001b[1;32m    200\u001b[0m \u001b[38;5;28;01mif\u001b[39;00m missing \u001b[38;5;241m==\u001b[39m \u001b[38;5;124m'\u001b[39m\u001b[38;5;124mnone\u001b[39m\u001b[38;5;124m'\u001b[39m:  \u001b[38;5;66;03m# with patsy it's drop or raise. let's raise.\u001b[39;00m\n\u001b[1;32m    201\u001b[0m     missing \u001b[38;5;241m=\u001b[39m \u001b[38;5;124m'\u001b[39m\u001b[38;5;124mraise\u001b[39m\u001b[38;5;124m'\u001b[39m\n\u001b[0;32m--> 203\u001b[0m tmp \u001b[38;5;241m=\u001b[39m handle_formula_data(data, \u001b[38;5;28;01mNone\u001b[39;00m, formula, depth\u001b[38;5;241m=\u001b[39meval_env,\n\u001b[1;32m    204\u001b[0m                           missing\u001b[38;5;241m=\u001b[39mmissing)\n\u001b[1;32m    205\u001b[0m ((endog, exog), missing_idx, design_info) \u001b[38;5;241m=\u001b[39m tmp\n\u001b[1;32m    206\u001b[0m max_endog \u001b[38;5;241m=\u001b[39m \u001b[38;5;28mcls\u001b[39m\u001b[38;5;241m.\u001b[39m_formula_max_endog\n",
      "File \u001b[0;32m/opt/anaconda3/lib/python3.12/site-packages/statsmodels/formula/formulatools.py:63\u001b[0m, in \u001b[0;36mhandle_formula_data\u001b[0;34m(Y, X, formula, depth, missing)\u001b[0m\n\u001b[1;32m     61\u001b[0m \u001b[38;5;28;01melse\u001b[39;00m:\n\u001b[1;32m     62\u001b[0m     \u001b[38;5;28;01mif\u001b[39;00m data_util\u001b[38;5;241m.\u001b[39m_is_using_pandas(Y, \u001b[38;5;28;01mNone\u001b[39;00m):\n\u001b[0;32m---> 63\u001b[0m         result \u001b[38;5;241m=\u001b[39m dmatrices(formula, Y, depth, return_type\u001b[38;5;241m=\u001b[39m\u001b[38;5;124m'\u001b[39m\u001b[38;5;124mdataframe\u001b[39m\u001b[38;5;124m'\u001b[39m,\n\u001b[1;32m     64\u001b[0m                            NA_action\u001b[38;5;241m=\u001b[39mna_action)\n\u001b[1;32m     65\u001b[0m     \u001b[38;5;28;01melse\u001b[39;00m:\n\u001b[1;32m     66\u001b[0m         result \u001b[38;5;241m=\u001b[39m dmatrices(formula, Y, depth, return_type\u001b[38;5;241m=\u001b[39m\u001b[38;5;124m'\u001b[39m\u001b[38;5;124mdataframe\u001b[39m\u001b[38;5;124m'\u001b[39m,\n\u001b[1;32m     67\u001b[0m                            NA_action\u001b[38;5;241m=\u001b[39mna_action)\n",
      "File \u001b[0;32m/opt/anaconda3/lib/python3.12/site-packages/patsy/highlevel.py:309\u001b[0m, in \u001b[0;36mdmatrices\u001b[0;34m(formula_like, data, eval_env, NA_action, return_type)\u001b[0m\n\u001b[1;32m    299\u001b[0m \u001b[38;5;250m\u001b[39m\u001b[38;5;124;03m\"\"\"Construct two design matrices given a formula_like and data.\u001b[39;00m\n\u001b[1;32m    300\u001b[0m \n\u001b[1;32m    301\u001b[0m \u001b[38;5;124;03mThis function is identical to :func:`dmatrix`, except that it requires\u001b[39;00m\n\u001b[0;32m   (...)\u001b[0m\n\u001b[1;32m    306\u001b[0m \u001b[38;5;124;03mSee :func:`dmatrix` for details.\u001b[39;00m\n\u001b[1;32m    307\u001b[0m \u001b[38;5;124;03m\"\"\"\u001b[39;00m\n\u001b[1;32m    308\u001b[0m eval_env \u001b[38;5;241m=\u001b[39m EvalEnvironment\u001b[38;5;241m.\u001b[39mcapture(eval_env, reference\u001b[38;5;241m=\u001b[39m\u001b[38;5;241m1\u001b[39m)\n\u001b[0;32m--> 309\u001b[0m (lhs, rhs) \u001b[38;5;241m=\u001b[39m _do_highlevel_design(formula_like, data, eval_env,\n\u001b[1;32m    310\u001b[0m                                   NA_action, return_type)\n\u001b[1;32m    311\u001b[0m \u001b[38;5;28;01mif\u001b[39;00m lhs\u001b[38;5;241m.\u001b[39mshape[\u001b[38;5;241m1\u001b[39m] \u001b[38;5;241m==\u001b[39m \u001b[38;5;241m0\u001b[39m:\n\u001b[1;32m    312\u001b[0m     \u001b[38;5;28;01mraise\u001b[39;00m PatsyError(\u001b[38;5;124m\"\u001b[39m\u001b[38;5;124mmodel is missing required outcome variables\u001b[39m\u001b[38;5;124m\"\u001b[39m)\n",
      "File \u001b[0;32m/opt/anaconda3/lib/python3.12/site-packages/patsy/highlevel.py:164\u001b[0m, in \u001b[0;36m_do_highlevel_design\u001b[0;34m(formula_like, data, eval_env, NA_action, return_type)\u001b[0m\n\u001b[1;32m    162\u001b[0m \u001b[38;5;28;01mdef\u001b[39;00m \u001b[38;5;21mdata_iter_maker\u001b[39m():\n\u001b[1;32m    163\u001b[0m     \u001b[38;5;28;01mreturn\u001b[39;00m \u001b[38;5;28miter\u001b[39m([data])\n\u001b[0;32m--> 164\u001b[0m design_infos \u001b[38;5;241m=\u001b[39m _try_incr_builders(formula_like, data_iter_maker, eval_env,\n\u001b[1;32m    165\u001b[0m                                   NA_action)\n\u001b[1;32m    166\u001b[0m \u001b[38;5;28;01mif\u001b[39;00m design_infos \u001b[38;5;129;01mis\u001b[39;00m \u001b[38;5;129;01mnot\u001b[39;00m \u001b[38;5;28;01mNone\u001b[39;00m:\n\u001b[1;32m    167\u001b[0m     \u001b[38;5;28;01mreturn\u001b[39;00m build_design_matrices(design_infos, data,\n\u001b[1;32m    168\u001b[0m                                  NA_action\u001b[38;5;241m=\u001b[39mNA_action,\n\u001b[1;32m    169\u001b[0m                                  return_type\u001b[38;5;241m=\u001b[39mreturn_type)\n",
      "File \u001b[0;32m/opt/anaconda3/lib/python3.12/site-packages/patsy/highlevel.py:66\u001b[0m, in \u001b[0;36m_try_incr_builders\u001b[0;34m(formula_like, data_iter_maker, eval_env, NA_action)\u001b[0m\n\u001b[1;32m     64\u001b[0m \u001b[38;5;28;01mif\u001b[39;00m \u001b[38;5;28misinstance\u001b[39m(formula_like, ModelDesc):\n\u001b[1;32m     65\u001b[0m     \u001b[38;5;28;01massert\u001b[39;00m \u001b[38;5;28misinstance\u001b[39m(eval_env, EvalEnvironment)\n\u001b[0;32m---> 66\u001b[0m     \u001b[38;5;28;01mreturn\u001b[39;00m design_matrix_builders([formula_like\u001b[38;5;241m.\u001b[39mlhs_termlist,\n\u001b[1;32m     67\u001b[0m                                    formula_like\u001b[38;5;241m.\u001b[39mrhs_termlist],\n\u001b[1;32m     68\u001b[0m                                   data_iter_maker,\n\u001b[1;32m     69\u001b[0m                                   eval_env,\n\u001b[1;32m     70\u001b[0m                                   NA_action)\n\u001b[1;32m     71\u001b[0m \u001b[38;5;28;01melse\u001b[39;00m:\n\u001b[1;32m     72\u001b[0m     \u001b[38;5;28;01mreturn\u001b[39;00m \u001b[38;5;28;01mNone\u001b[39;00m\n",
      "File \u001b[0;32m/opt/anaconda3/lib/python3.12/site-packages/patsy/build.py:693\u001b[0m, in \u001b[0;36mdesign_matrix_builders\u001b[0;34m(termlists, data_iter_maker, eval_env, NA_action)\u001b[0m\n\u001b[1;32m    689\u001b[0m factor_states \u001b[38;5;241m=\u001b[39m _factors_memorize(all_factors, data_iter_maker, eval_env)\n\u001b[1;32m    690\u001b[0m \u001b[38;5;66;03m# Now all the factors have working eval methods, so we can evaluate them\u001b[39;00m\n\u001b[1;32m    691\u001b[0m \u001b[38;5;66;03m# on some data to find out what type of data they return.\u001b[39;00m\n\u001b[1;32m    692\u001b[0m (num_column_counts,\n\u001b[0;32m--> 693\u001b[0m  cat_levels_contrasts) \u001b[38;5;241m=\u001b[39m _examine_factor_types(all_factors,\n\u001b[1;32m    694\u001b[0m                                                factor_states,\n\u001b[1;32m    695\u001b[0m                                                data_iter_maker,\n\u001b[1;32m    696\u001b[0m                                                NA_action)\n\u001b[1;32m    697\u001b[0m \u001b[38;5;66;03m# Now we need the factor infos, which encapsulate the knowledge of\u001b[39;00m\n\u001b[1;32m    698\u001b[0m \u001b[38;5;66;03m# how to turn any given factor into a chunk of data:\u001b[39;00m\n\u001b[1;32m    699\u001b[0m factor_infos \u001b[38;5;241m=\u001b[39m {}\n",
      "File \u001b[0;32m/opt/anaconda3/lib/python3.12/site-packages/patsy/build.py:443\u001b[0m, in \u001b[0;36m_examine_factor_types\u001b[0;34m(factors, factor_states, data_iter_maker, NA_action)\u001b[0m\n\u001b[1;32m    441\u001b[0m \u001b[38;5;28;01mfor\u001b[39;00m data \u001b[38;5;129;01min\u001b[39;00m data_iter_maker():\n\u001b[1;32m    442\u001b[0m     \u001b[38;5;28;01mfor\u001b[39;00m factor \u001b[38;5;129;01min\u001b[39;00m \u001b[38;5;28mlist\u001b[39m(examine_needed):\n\u001b[0;32m--> 443\u001b[0m         value \u001b[38;5;241m=\u001b[39m factor\u001b[38;5;241m.\u001b[39meval(factor_states[factor], data)\n\u001b[1;32m    444\u001b[0m         \u001b[38;5;28;01mif\u001b[39;00m factor \u001b[38;5;129;01min\u001b[39;00m cat_sniffers \u001b[38;5;129;01mor\u001b[39;00m guess_categorical(value):\n\u001b[1;32m    445\u001b[0m             \u001b[38;5;28;01mif\u001b[39;00m factor \u001b[38;5;129;01mnot\u001b[39;00m \u001b[38;5;129;01min\u001b[39;00m cat_sniffers:\n",
      "File \u001b[0;32m/opt/anaconda3/lib/python3.12/site-packages/patsy/eval.py:568\u001b[0m, in \u001b[0;36mEvalFactor.eval\u001b[0;34m(self, memorize_state, data)\u001b[0m\n\u001b[1;32m    567\u001b[0m \u001b[38;5;28;01mdef\u001b[39;00m \u001b[38;5;21meval\u001b[39m(\u001b[38;5;28mself\u001b[39m, memorize_state, data):\n\u001b[0;32m--> 568\u001b[0m     \u001b[38;5;28;01mreturn\u001b[39;00m \u001b[38;5;28mself\u001b[39m\u001b[38;5;241m.\u001b[39m_eval(memorize_state[\u001b[38;5;124m\"\u001b[39m\u001b[38;5;124meval_code\u001b[39m\u001b[38;5;124m\"\u001b[39m],\n\u001b[1;32m    569\u001b[0m                       memorize_state,\n\u001b[1;32m    570\u001b[0m                       data)\n",
      "File \u001b[0;32m/opt/anaconda3/lib/python3.12/site-packages/patsy/eval.py:551\u001b[0m, in \u001b[0;36mEvalFactor._eval\u001b[0;34m(self, code, memorize_state, data)\u001b[0m\n\u001b[1;32m    549\u001b[0m \u001b[38;5;28;01mdef\u001b[39;00m \u001b[38;5;21m_eval\u001b[39m(\u001b[38;5;28mself\u001b[39m, code, memorize_state, data):\n\u001b[1;32m    550\u001b[0m     inner_namespace \u001b[38;5;241m=\u001b[39m VarLookupDict([data, memorize_state[\u001b[38;5;124m\"\u001b[39m\u001b[38;5;124mtransforms\u001b[39m\u001b[38;5;124m\"\u001b[39m]])\n\u001b[0;32m--> 551\u001b[0m     \u001b[38;5;28;01mreturn\u001b[39;00m call_and_wrap_exc(\u001b[38;5;124m\"\u001b[39m\u001b[38;5;124mError evaluating factor\u001b[39m\u001b[38;5;124m\"\u001b[39m,\n\u001b[1;32m    552\u001b[0m                              \u001b[38;5;28mself\u001b[39m,\n\u001b[1;32m    553\u001b[0m                              memorize_state[\u001b[38;5;124m\"\u001b[39m\u001b[38;5;124meval_env\u001b[39m\u001b[38;5;124m\"\u001b[39m]\u001b[38;5;241m.\u001b[39meval,\n\u001b[1;32m    554\u001b[0m                              code,\n\u001b[1;32m    555\u001b[0m                              inner_namespace\u001b[38;5;241m=\u001b[39minner_namespace)\n",
      "File \u001b[0;32m/opt/anaconda3/lib/python3.12/site-packages/patsy/compat.py:43\u001b[0m, in \u001b[0;36mcall_and_wrap_exc\u001b[0;34m(msg, origin, f, *args, **kwargs)\u001b[0m\n\u001b[1;32m     39\u001b[0m     new_exc \u001b[38;5;241m=\u001b[39m PatsyError(\u001b[38;5;124m\"\u001b[39m\u001b[38;5;132;01m%s\u001b[39;00m\u001b[38;5;124m: \u001b[39m\u001b[38;5;132;01m%s\u001b[39;00m\u001b[38;5;124m: \u001b[39m\u001b[38;5;132;01m%s\u001b[39;00m\u001b[38;5;124m\"\u001b[39m\n\u001b[1;32m     40\u001b[0m                          \u001b[38;5;241m%\u001b[39m (msg, e\u001b[38;5;241m.\u001b[39m\u001b[38;5;18m__class__\u001b[39m\u001b[38;5;241m.\u001b[39m\u001b[38;5;18m__name__\u001b[39m, e),\n\u001b[1;32m     41\u001b[0m                          origin)\n\u001b[1;32m     42\u001b[0m     \u001b[38;5;66;03m# Use 'exec' to hide this syntax from the Python 2 parser:\u001b[39;00m\n\u001b[0;32m---> 43\u001b[0m     exec(\u001b[38;5;124m\"\u001b[39m\u001b[38;5;124mraise new_exc from e\u001b[39m\u001b[38;5;124m\"\u001b[39m)\n\u001b[1;32m     44\u001b[0m \u001b[38;5;28;01melse\u001b[39;00m:\n\u001b[1;32m     45\u001b[0m     \u001b[38;5;66;03m# In python 2, we just let the original exception escape -- better\u001b[39;00m\n\u001b[1;32m     46\u001b[0m     \u001b[38;5;66;03m# than destroying the traceback. But if it's a PatsyError, we can\u001b[39;00m\n\u001b[1;32m     47\u001b[0m     \u001b[38;5;66;03m# at least set the origin properly.\u001b[39;00m\n\u001b[1;32m     48\u001b[0m     \u001b[38;5;28;01mif\u001b[39;00m \u001b[38;5;28misinstance\u001b[39m(e, PatsyError):\n",
      "File \u001b[0;32m<string>:1\u001b[0m\n",
      "\u001b[0;31mPatsyError\u001b[0m: Error evaluating factor: NameError: name 'log_GDP_Per_Capita' is not defined\n    Life_Expectancy ~ log_GDP_Per_Capita + Continent\n                      ^^^^^^^^^^^^^^^^^^"
     ]
    }
   ],
   "source": [
    "lm_loggdp_continent = smf.ols('Life_Expectancy ~ log_GDP_Per_Capita + Continent', data=gdp_le_2021).fit()\n",
    "lm_loggdp_continent.params"
   ]
  },
  {
   "cell_type": "code",
   "execution_count": 32,
   "metadata": {},
   "outputs": [
    {
     "data": {
      "text/html": [
       "<table class=\"simpletable\">\n",
       "<caption>OLS Regression Results</caption>\n",
       "<tr>\n",
       "  <th>Dep. Variable:</th>     <td>Life_Expectancy</td> <th>  R-squared:         </th> <td>   0.767</td>\n",
       "</tr>\n",
       "<tr>\n",
       "  <th>Model:</th>                   <td>OLS</td>       <th>  Adj. R-squared:    </th> <td>   0.759</td>\n",
       "</tr>\n",
       "<tr>\n",
       "  <th>Method:</th>             <td>Least Squares</td>  <th>  F-statistic:       </th> <td>   91.22</td>\n",
       "</tr>\n",
       "<tr>\n",
       "  <th>Date:</th>             <td>Wed, 23 Oct 2024</td> <th>  Prob (F-statistic):</th> <td>5.93e-50</td>\n",
       "</tr>\n",
       "<tr>\n",
       "  <th>Time:</th>                 <td>10:30:24</td>     <th>  Log-Likelihood:    </th> <td> -473.20</td>\n",
       "</tr>\n",
       "<tr>\n",
       "  <th>No. Observations:</th>      <td>   173</td>      <th>  AIC:               </th> <td>   960.4</td>\n",
       "</tr>\n",
       "<tr>\n",
       "  <th>Df Residuals:</th>          <td>   166</td>      <th>  BIC:               </th> <td>   982.5</td>\n",
       "</tr>\n",
       "<tr>\n",
       "  <th>Df Model:</th>              <td>     6</td>      <th>                     </th>     <td> </td>   \n",
       "</tr>\n",
       "<tr>\n",
       "  <th>Covariance Type:</th>      <td>nonrobust</td>    <th>                     </th>     <td> </td>   \n",
       "</tr>\n",
       "</table>\n",
       "<table class=\"simpletable\">\n",
       "<tr>\n",
       "               <td></td>                 <th>coef</th>     <th>std err</th>      <th>t</th>      <th>P>|t|</th>  <th>[0.025</th>    <th>0.975]</th>  \n",
       "</tr>\n",
       "<tr>\n",
       "  <th>Intercept</th>                  <td>   25.8834</td> <td>    2.885</td> <td>    8.973</td> <td> 0.000</td> <td>   20.188</td> <td>   31.579</td>\n",
       "</tr>\n",
       "<tr>\n",
       "  <th>Continent[T.Asia]</th>          <td>    5.1837</td> <td>    0.958</td> <td>    5.408</td> <td> 0.000</td> <td>    3.291</td> <td>    7.076</td>\n",
       "</tr>\n",
       "<tr>\n",
       "  <th>Continent[T.Europe]</th>        <td>    5.1042</td> <td>    1.104</td> <td>    4.625</td> <td> 0.000</td> <td>    2.925</td> <td>    7.283</td>\n",
       "</tr>\n",
       "<tr>\n",
       "  <th>Continent[T.North America]</th> <td>    4.1757</td> <td>    1.083</td> <td>    3.854</td> <td> 0.000</td> <td>    2.037</td> <td>    6.315</td>\n",
       "</tr>\n",
       "<tr>\n",
       "  <th>Continent[T.Oceania]</th>       <td>    4.7656</td> <td>    1.251</td> <td>    3.809</td> <td> 0.000</td> <td>    2.295</td> <td>    7.236</td>\n",
       "</tr>\n",
       "<tr>\n",
       "  <th>Continent[T.South America]</th> <td>    2.7598</td> <td>    1.367</td> <td>    2.019</td> <td> 0.045</td> <td>    0.060</td> <td>    5.459</td>\n",
       "</tr>\n",
       "<tr>\n",
       "  <th>log_GDP_Per_Capita</th>         <td>    4.4841</td> <td>    0.343</td> <td>   13.056</td> <td> 0.000</td> <td>    3.806</td> <td>    5.162</td>\n",
       "</tr>\n",
       "</table>\n",
       "<table class=\"simpletable\">\n",
       "<tr>\n",
       "  <th>Omnibus:</th>       <td> 2.686</td> <th>  Durbin-Watson:     </th> <td>   1.985</td>\n",
       "</tr>\n",
       "<tr>\n",
       "  <th>Prob(Omnibus):</th> <td> 0.261</td> <th>  Jarque-Bera (JB):  </th> <td>   2.693</td>\n",
       "</tr>\n",
       "<tr>\n",
       "  <th>Skew:</th>          <td>-0.298</td> <th>  Prob(JB):          </th> <td>   0.260</td>\n",
       "</tr>\n",
       "<tr>\n",
       "  <th>Kurtosis:</th>      <td> 2.863</td> <th>  Cond. No.          </th> <td>    102.</td>\n",
       "</tr>\n",
       "</table><br/><br/>Notes:<br/>[1] Standard Errors assume that the covariance matrix of the errors is correctly specified."
      ],
      "text/latex": [
       "\\begin{center}\n",
       "\\begin{tabular}{lclc}\n",
       "\\toprule\n",
       "\\textbf{Dep. Variable:}             & Life\\_Expectancy & \\textbf{  R-squared:         } &     0.767   \\\\\n",
       "\\textbf{Model:}                     &       OLS        & \\textbf{  Adj. R-squared:    } &     0.759   \\\\\n",
       "\\textbf{Method:}                    &  Least Squares   & \\textbf{  F-statistic:       } &     91.22   \\\\\n",
       "\\textbf{Date:}                      & Wed, 23 Oct 2024 & \\textbf{  Prob (F-statistic):} &  5.93e-50   \\\\\n",
       "\\textbf{Time:}                      &     10:30:24     & \\textbf{  Log-Likelihood:    } &   -473.20   \\\\\n",
       "\\textbf{No. Observations:}          &         173      & \\textbf{  AIC:               } &     960.4   \\\\\n",
       "\\textbf{Df Residuals:}              &         166      & \\textbf{  BIC:               } &     982.5   \\\\\n",
       "\\textbf{Df Model:}                  &           6      & \\textbf{                     } &             \\\\\n",
       "\\textbf{Covariance Type:}           &    nonrobust     & \\textbf{                     } &             \\\\\n",
       "\\bottomrule\n",
       "\\end{tabular}\n",
       "\\begin{tabular}{lcccccc}\n",
       "                                    & \\textbf{coef} & \\textbf{std err} & \\textbf{t} & \\textbf{P$> |$t$|$} & \\textbf{[0.025} & \\textbf{0.975]}  \\\\\n",
       "\\midrule\n",
       "\\textbf{Intercept}                  &      25.8834  &        2.885     &     8.973  &         0.000        &       20.188    &       31.579     \\\\\n",
       "\\textbf{Continent[T.Asia]}          &       5.1837  &        0.958     &     5.408  &         0.000        &        3.291    &        7.076     \\\\\n",
       "\\textbf{Continent[T.Europe]}        &       5.1042  &        1.104     &     4.625  &         0.000        &        2.925    &        7.283     \\\\\n",
       "\\textbf{Continent[T.North America]} &       4.1757  &        1.083     &     3.854  &         0.000        &        2.037    &        6.315     \\\\\n",
       "\\textbf{Continent[T.Oceania]}       &       4.7656  &        1.251     &     3.809  &         0.000        &        2.295    &        7.236     \\\\\n",
       "\\textbf{Continent[T.South America]} &       2.7598  &        1.367     &     2.019  &         0.045        &        0.060    &        5.459     \\\\\n",
       "\\textbf{log\\_GDP\\_Per\\_Capita}      &       4.4841  &        0.343     &    13.056  &         0.000        &        3.806    &        5.162     \\\\\n",
       "\\bottomrule\n",
       "\\end{tabular}\n",
       "\\begin{tabular}{lclc}\n",
       "\\textbf{Omnibus:}       &  2.686 & \\textbf{  Durbin-Watson:     } &    1.985  \\\\\n",
       "\\textbf{Prob(Omnibus):} &  0.261 & \\textbf{  Jarque-Bera (JB):  } &    2.693  \\\\\n",
       "\\textbf{Skew:}          & -0.298 & \\textbf{  Prob(JB):          } &    0.260  \\\\\n",
       "\\textbf{Kurtosis:}      &  2.863 & \\textbf{  Cond. No.          } &     102.  \\\\\n",
       "\\bottomrule\n",
       "\\end{tabular}\n",
       "%\\caption{OLS Regression Results}\n",
       "\\end{center}\n",
       "\n",
       "Notes: \\newline\n",
       " [1] Standard Errors assume that the covariance matrix of the errors is correctly specified."
      ],
      "text/plain": [
       "<class 'statsmodels.iolib.summary.Summary'>\n",
       "\"\"\"\n",
       "                            OLS Regression Results                            \n",
       "==============================================================================\n",
       "Dep. Variable:        Life_Expectancy   R-squared:                       0.767\n",
       "Model:                            OLS   Adj. R-squared:                  0.759\n",
       "Method:                 Least Squares   F-statistic:                     91.22\n",
       "Date:                Wed, 23 Oct 2024   Prob (F-statistic):           5.93e-50\n",
       "Time:                        10:30:24   Log-Likelihood:                -473.20\n",
       "No. Observations:                 173   AIC:                             960.4\n",
       "Df Residuals:                     166   BIC:                             982.5\n",
       "Df Model:                           6                                         \n",
       "Covariance Type:            nonrobust                                         \n",
       "==============================================================================================\n",
       "                                 coef    std err          t      P>|t|      [0.025      0.975]\n",
       "----------------------------------------------------------------------------------------------\n",
       "Intercept                     25.8834      2.885      8.973      0.000      20.188      31.579\n",
       "Continent[T.Asia]              5.1837      0.958      5.408      0.000       3.291       7.076\n",
       "Continent[T.Europe]            5.1042      1.104      4.625      0.000       2.925       7.283\n",
       "Continent[T.North America]     4.1757      1.083      3.854      0.000       2.037       6.315\n",
       "Continent[T.Oceania]           4.7656      1.251      3.809      0.000       2.295       7.236\n",
       "Continent[T.South America]     2.7598      1.367      2.019      0.045       0.060       5.459\n",
       "log_GDP_Per_Capita             4.4841      0.343     13.056      0.000       3.806       5.162\n",
       "==============================================================================\n",
       "Omnibus:                        2.686   Durbin-Watson:                   1.985\n",
       "Prob(Omnibus):                  0.261   Jarque-Bera (JB):                2.693\n",
       "Skew:                          -0.298   Prob(JB):                        0.260\n",
       "Kurtosis:                       2.863   Cond. No.                         102.\n",
       "==============================================================================\n",
       "\n",
       "Notes:\n",
       "[1] Standard Errors assume that the covariance matrix of the errors is correctly specified.\n",
       "\"\"\""
      ]
     },
     "execution_count": 32,
     "metadata": {},
     "output_type": "execute_result"
    }
   ],
   "source": [
    "lm_loggdp_continent.summary()"
   ]
  },
  {
   "cell_type": "code",
   "execution_count": 33,
   "metadata": {},
   "outputs": [
    {
     "data": {
      "text/html": [
       "<div>\n",
       "<style scoped>\n",
       "    .dataframe tbody tr th:only-of-type {\n",
       "        vertical-align: middle;\n",
       "    }\n",
       "\n",
       "    .dataframe tbody tr th {\n",
       "        vertical-align: top;\n",
       "    }\n",
       "\n",
       "    .dataframe thead th {\n",
       "        text-align: right;\n",
       "    }\n",
       "</style>\n",
       "<table border=\"1\" class=\"dataframe\">\n",
       "  <thead>\n",
       "    <tr style=\"text-align: right;\">\n",
       "      <th></th>\n",
       "      <th>sum_sq</th>\n",
       "      <th>df</th>\n",
       "      <th>F</th>\n",
       "      <th>PR(&gt;F)</th>\n",
       "    </tr>\n",
       "  </thead>\n",
       "  <tbody>\n",
       "    <tr>\n",
       "      <th>Continent</th>\n",
       "      <td>523.143417</td>\n",
       "      <td>5.0</td>\n",
       "      <td>7.217054</td>\n",
       "      <td>3.865064e-06</td>\n",
       "    </tr>\n",
       "    <tr>\n",
       "      <th>log_GDP_Per_Capita</th>\n",
       "      <td>2471.301130</td>\n",
       "      <td>1.0</td>\n",
       "      <td>170.464858</td>\n",
       "      <td>2.946981e-27</td>\n",
       "    </tr>\n",
       "    <tr>\n",
       "      <th>Residual</th>\n",
       "      <td>2406.572195</td>\n",
       "      <td>166.0</td>\n",
       "      <td>NaN</td>\n",
       "      <td>NaN</td>\n",
       "    </tr>\n",
       "  </tbody>\n",
       "</table>\n",
       "</div>"
      ],
      "text/plain": [
       "                         sum_sq     df           F        PR(>F)\n",
       "Continent            523.143417    5.0    7.217054  3.865064e-06\n",
       "log_GDP_Per_Capita  2471.301130    1.0  170.464858  2.946981e-27\n",
       "Residual            2406.572195  166.0         NaN           NaN"
      ]
     },
     "execution_count": 33,
     "metadata": {},
     "output_type": "execute_result"
    }
   ],
   "source": [
    "sms.anova_lm(lm_loggdp_continent, typ=2)"
   ]
  },
  {
   "cell_type": "code",
   "execution_count": 34,
   "metadata": {},
   "outputs": [
    {
     "data": {
      "text/html": [
       "<div>\n",
       "<style scoped>\n",
       "    .dataframe tbody tr th:only-of-type {\n",
       "        vertical-align: middle;\n",
       "    }\n",
       "\n",
       "    .dataframe tbody tr th {\n",
       "        vertical-align: top;\n",
       "    }\n",
       "\n",
       "    .dataframe thead th {\n",
       "        text-align: right;\n",
       "    }\n",
       "</style>\n",
       "<table border=\"1\" class=\"dataframe\">\n",
       "  <thead>\n",
       "    <tr style=\"text-align: right;\">\n",
       "      <th></th>\n",
       "      <th>df_resid</th>\n",
       "      <th>ssr</th>\n",
       "      <th>df_diff</th>\n",
       "      <th>ss_diff</th>\n",
       "      <th>F</th>\n",
       "      <th>Pr(&gt;F)</th>\n",
       "    </tr>\n",
       "  </thead>\n",
       "  <tbody>\n",
       "    <tr>\n",
       "      <th>0</th>\n",
       "      <td>171.0</td>\n",
       "      <td>2929.715612</td>\n",
       "      <td>0.0</td>\n",
       "      <td>NaN</td>\n",
       "      <td>NaN</td>\n",
       "      <td>NaN</td>\n",
       "    </tr>\n",
       "    <tr>\n",
       "      <th>1</th>\n",
       "      <td>166.0</td>\n",
       "      <td>2406.572195</td>\n",
       "      <td>5.0</td>\n",
       "      <td>523.143417</td>\n",
       "      <td>7.217054</td>\n",
       "      <td>0.000004</td>\n",
       "    </tr>\n",
       "  </tbody>\n",
       "</table>\n",
       "</div>"
      ],
      "text/plain": [
       "   df_resid          ssr  df_diff     ss_diff         F    Pr(>F)\n",
       "0     171.0  2929.715612      0.0         NaN       NaN       NaN\n",
       "1     166.0  2406.572195      5.0  523.143417  7.217054  0.000004"
      ]
     },
     "execution_count": 34,
     "metadata": {},
     "output_type": "execute_result"
    }
   ],
   "source": [
    "sms.anova_lm(lm_2021_log, lm_loggdp_continent)"
   ]
  },
  {
   "cell_type": "markdown",
   "metadata": {},
   "source": [
    "- the anova test indicates that the role continent plays in life expectancy is unlikely to be due to chance, though it does not have as strong of a direct relationship as GDP per capita. "
   ]
  },
  {
   "cell_type": "markdown",
   "metadata": {},
   "source": [
    "####    b. Now, add an interaction term between continent and log gdp per capita. Are the interaction terms statistically significant? Interpret the meaning of the interaction terms.\n"
   ]
  },
  {
   "cell_type": "code",
   "execution_count": 35,
   "metadata": {},
   "outputs": [
    {
     "data": {
      "text/html": [
       "<table class=\"simpletable\">\n",
       "<caption>OLS Regression Results</caption>\n",
       "<tr>\n",
       "  <th>Dep. Variable:</th>     <td>Life_Expectancy</td> <th>  R-squared:         </th> <td>   0.778</td>\n",
       "</tr>\n",
       "<tr>\n",
       "  <th>Model:</th>                   <td>OLS</td>       <th>  Adj. R-squared:    </th> <td>   0.762</td>\n",
       "</tr>\n",
       "<tr>\n",
       "  <th>Method:</th>             <td>Least Squares</td>  <th>  F-statistic:       </th> <td>   51.16</td>\n",
       "</tr>\n",
       "<tr>\n",
       "  <th>Date:</th>             <td>Wed, 23 Oct 2024</td> <th>  Prob (F-statistic):</th> <td>7.75e-47</td>\n",
       "</tr>\n",
       "<tr>\n",
       "  <th>Time:</th>                 <td>10:30:24</td>     <th>  Log-Likelihood:    </th> <td> -469.29</td>\n",
       "</tr>\n",
       "<tr>\n",
       "  <th>No. Observations:</th>      <td>   173</td>      <th>  AIC:               </th> <td>   962.6</td>\n",
       "</tr>\n",
       "<tr>\n",
       "  <th>Df Residuals:</th>          <td>   161</td>      <th>  BIC:               </th> <td>   1000.</td>\n",
       "</tr>\n",
       "<tr>\n",
       "  <th>Df Model:</th>              <td>    11</td>      <th>                     </th>     <td> </td>   \n",
       "</tr>\n",
       "<tr>\n",
       "  <th>Covariance Type:</th>      <td>nonrobust</td>    <th>                     </th>     <td> </td>   \n",
       "</tr>\n",
       "</table>\n",
       "<table class=\"simpletable\">\n",
       "<tr>\n",
       "                        <td></td>                           <th>coef</th>     <th>std err</th>      <th>t</th>      <th>P>|t|</th>  <th>[0.025</th>    <th>0.975]</th>  \n",
       "</tr>\n",
       "<tr>\n",
       "  <th>Intercept</th>                                     <td>   33.6202</td> <td>    5.045</td> <td>    6.664</td> <td> 0.000</td> <td>   23.657</td> <td>   43.583</td>\n",
       "</tr>\n",
       "<tr>\n",
       "  <th>Continent[T.Asia]</th>                             <td>   -4.6179</td> <td>    7.592</td> <td>   -0.608</td> <td> 0.544</td> <td>  -19.610</td> <td>   10.374</td>\n",
       "</tr>\n",
       "<tr>\n",
       "  <th>Continent[T.Europe]</th>                           <td>  -24.9656</td> <td>   11.851</td> <td>   -2.107</td> <td> 0.037</td> <td>  -48.370</td> <td>   -1.561</td>\n",
       "</tr>\n",
       "<tr>\n",
       "  <th>Continent[T.North America]</th>                    <td>   -1.2193</td> <td>   10.428</td> <td>   -0.117</td> <td> 0.907</td> <td>  -21.812</td> <td>   19.373</td>\n",
       "</tr>\n",
       "<tr>\n",
       "  <th>Continent[T.Oceania]</th>                          <td>   -2.4319</td> <td>   11.002</td> <td>   -0.221</td> <td> 0.825</td> <td>  -24.159</td> <td>   19.296</td>\n",
       "</tr>\n",
       "<tr>\n",
       "  <th>Continent[T.South America]</th>                    <td>  -27.9467</td> <td>   32.737</td> <td>   -0.854</td> <td> 0.395</td> <td>  -92.596</td> <td>   36.703</td>\n",
       "</tr>\n",
       "<tr>\n",
       "  <th>log_GDP_Per_Capita</th>                            <td>    3.5449</td> <td>    0.609</td> <td>    5.824</td> <td> 0.000</td> <td>    2.343</td> <td>    4.747</td>\n",
       "</tr>\n",
       "<tr>\n",
       "  <th>log_GDP_Per_Capita:Continent[T.Asia]</th>          <td>    1.1547</td> <td>    0.847</td> <td>    1.364</td> <td> 0.175</td> <td>   -0.518</td> <td>    2.827</td>\n",
       "</tr>\n",
       "<tr>\n",
       "  <th>log_GDP_Per_Capita:Continent[T.Europe]</th>        <td>    3.0839</td> <td>    1.195</td> <td>    2.581</td> <td> 0.011</td> <td>    0.724</td> <td>    5.444</td>\n",
       "</tr>\n",
       "<tr>\n",
       "  <th>log_GDP_Per_Capita:Continent[T.North America]</th> <td>    0.6996</td> <td>    1.112</td> <td>    0.629</td> <td> 0.530</td> <td>   -1.496</td> <td>    2.895</td>\n",
       "</tr>\n",
       "<tr>\n",
       "  <th>log_GDP_Per_Capita:Continent[T.Oceania]</th>       <td>    0.8781</td> <td>    1.257</td> <td>    0.699</td> <td> 0.486</td> <td>   -1.603</td> <td>    3.360</td>\n",
       "</tr>\n",
       "<tr>\n",
       "  <th>log_GDP_Per_Capita:Continent[T.South America]</th> <td>    3.3185</td> <td>    3.403</td> <td>    0.975</td> <td> 0.331</td> <td>   -3.403</td> <td>   10.040</td>\n",
       "</tr>\n",
       "</table>\n",
       "<table class=\"simpletable\">\n",
       "<tr>\n",
       "  <th>Omnibus:</th>       <td> 1.067</td> <th>  Durbin-Watson:     </th> <td>   1.994</td>\n",
       "</tr>\n",
       "<tr>\n",
       "  <th>Prob(Omnibus):</th> <td> 0.587</td> <th>  Jarque-Bera (JB):  </th> <td>   0.869</td>\n",
       "</tr>\n",
       "<tr>\n",
       "  <th>Skew:</th>          <td>-0.172</td> <th>  Prob(JB):          </th> <td>   0.648</td>\n",
       "</tr>\n",
       "<tr>\n",
       "  <th>Kurtosis:</th>      <td> 3.053</td> <th>  Cond. No.          </th> <td>1.19e+03</td>\n",
       "</tr>\n",
       "</table><br/><br/>Notes:<br/>[1] Standard Errors assume that the covariance matrix of the errors is correctly specified.<br/>[2] The condition number is large, 1.19e+03. This might indicate that there are<br/>strong multicollinearity or other numerical problems."
      ],
      "text/latex": [
       "\\begin{center}\n",
       "\\begin{tabular}{lclc}\n",
       "\\toprule\n",
       "\\textbf{Dep. Variable:}                                   & Life\\_Expectancy & \\textbf{  R-squared:         } &     0.778   \\\\\n",
       "\\textbf{Model:}                                           &       OLS        & \\textbf{  Adj. R-squared:    } &     0.762   \\\\\n",
       "\\textbf{Method:}                                          &  Least Squares   & \\textbf{  F-statistic:       } &     51.16   \\\\\n",
       "\\textbf{Date:}                                            & Wed, 23 Oct 2024 & \\textbf{  Prob (F-statistic):} &  7.75e-47   \\\\\n",
       "\\textbf{Time:}                                            &     10:30:24     & \\textbf{  Log-Likelihood:    } &   -469.29   \\\\\n",
       "\\textbf{No. Observations:}                                &         173      & \\textbf{  AIC:               } &     962.6   \\\\\n",
       "\\textbf{Df Residuals:}                                    &         161      & \\textbf{  BIC:               } &     1000.   \\\\\n",
       "\\textbf{Df Model:}                                        &          11      & \\textbf{                     } &             \\\\\n",
       "\\textbf{Covariance Type:}                                 &    nonrobust     & \\textbf{                     } &             \\\\\n",
       "\\bottomrule\n",
       "\\end{tabular}\n",
       "\\begin{tabular}{lcccccc}\n",
       "                                                          & \\textbf{coef} & \\textbf{std err} & \\textbf{t} & \\textbf{P$> |$t$|$} & \\textbf{[0.025} & \\textbf{0.975]}  \\\\\n",
       "\\midrule\n",
       "\\textbf{Intercept}                                        &      33.6202  &        5.045     &     6.664  &         0.000        &       23.657    &       43.583     \\\\\n",
       "\\textbf{Continent[T.Asia]}                                &      -4.6179  &        7.592     &    -0.608  &         0.544        &      -19.610    &       10.374     \\\\\n",
       "\\textbf{Continent[T.Europe]}                              &     -24.9656  &       11.851     &    -2.107  &         0.037        &      -48.370    &       -1.561     \\\\\n",
       "\\textbf{Continent[T.North America]}                       &      -1.2193  &       10.428     &    -0.117  &         0.907        &      -21.812    &       19.373     \\\\\n",
       "\\textbf{Continent[T.Oceania]}                             &      -2.4319  &       11.002     &    -0.221  &         0.825        &      -24.159    &       19.296     \\\\\n",
       "\\textbf{Continent[T.South America]}                       &     -27.9467  &       32.737     &    -0.854  &         0.395        &      -92.596    &       36.703     \\\\\n",
       "\\textbf{log\\_GDP\\_Per\\_Capita}                            &       3.5449  &        0.609     &     5.824  &         0.000        &        2.343    &        4.747     \\\\\n",
       "\\textbf{log\\_GDP\\_Per\\_Capita:Continent[T.Asia]}          &       1.1547  &        0.847     &     1.364  &         0.175        &       -0.518    &        2.827     \\\\\n",
       "\\textbf{log\\_GDP\\_Per\\_Capita:Continent[T.Europe]}        &       3.0839  &        1.195     &     2.581  &         0.011        &        0.724    &        5.444     \\\\\n",
       "\\textbf{log\\_GDP\\_Per\\_Capita:Continent[T.North America]} &       0.6996  &        1.112     &     0.629  &         0.530        &       -1.496    &        2.895     \\\\\n",
       "\\textbf{log\\_GDP\\_Per\\_Capita:Continent[T.Oceania]}       &       0.8781  &        1.257     &     0.699  &         0.486        &       -1.603    &        3.360     \\\\\n",
       "\\textbf{log\\_GDP\\_Per\\_Capita:Continent[T.South America]} &       3.3185  &        3.403     &     0.975  &         0.331        &       -3.403    &       10.040     \\\\\n",
       "\\bottomrule\n",
       "\\end{tabular}\n",
       "\\begin{tabular}{lclc}\n",
       "\\textbf{Omnibus:}       &  1.067 & \\textbf{  Durbin-Watson:     } &    1.994  \\\\\n",
       "\\textbf{Prob(Omnibus):} &  0.587 & \\textbf{  Jarque-Bera (JB):  } &    0.869  \\\\\n",
       "\\textbf{Skew:}          & -0.172 & \\textbf{  Prob(JB):          } &    0.648  \\\\\n",
       "\\textbf{Kurtosis:}      &  3.053 & \\textbf{  Cond. No.          } & 1.19e+03  \\\\\n",
       "\\bottomrule\n",
       "\\end{tabular}\n",
       "%\\caption{OLS Regression Results}\n",
       "\\end{center}\n",
       "\n",
       "Notes: \\newline\n",
       " [1] Standard Errors assume that the covariance matrix of the errors is correctly specified. \\newline\n",
       " [2] The condition number is large, 1.19e+03. This might indicate that there are \\newline\n",
       " strong multicollinearity or other numerical problems."
      ],
      "text/plain": [
       "<class 'statsmodels.iolib.summary.Summary'>\n",
       "\"\"\"\n",
       "                            OLS Regression Results                            \n",
       "==============================================================================\n",
       "Dep. Variable:        Life_Expectancy   R-squared:                       0.778\n",
       "Model:                            OLS   Adj. R-squared:                  0.762\n",
       "Method:                 Least Squares   F-statistic:                     51.16\n",
       "Date:                Wed, 23 Oct 2024   Prob (F-statistic):           7.75e-47\n",
       "Time:                        10:30:24   Log-Likelihood:                -469.29\n",
       "No. Observations:                 173   AIC:                             962.6\n",
       "Df Residuals:                     161   BIC:                             1000.\n",
       "Df Model:                          11                                         \n",
       "Covariance Type:            nonrobust                                         \n",
       "=================================================================================================================\n",
       "                                                    coef    std err          t      P>|t|      [0.025      0.975]\n",
       "-----------------------------------------------------------------------------------------------------------------\n",
       "Intercept                                        33.6202      5.045      6.664      0.000      23.657      43.583\n",
       "Continent[T.Asia]                                -4.6179      7.592     -0.608      0.544     -19.610      10.374\n",
       "Continent[T.Europe]                             -24.9656     11.851     -2.107      0.037     -48.370      -1.561\n",
       "Continent[T.North America]                       -1.2193     10.428     -0.117      0.907     -21.812      19.373\n",
       "Continent[T.Oceania]                             -2.4319     11.002     -0.221      0.825     -24.159      19.296\n",
       "Continent[T.South America]                      -27.9467     32.737     -0.854      0.395     -92.596      36.703\n",
       "log_GDP_Per_Capita                                3.5449      0.609      5.824      0.000       2.343       4.747\n",
       "log_GDP_Per_Capita:Continent[T.Asia]              1.1547      0.847      1.364      0.175      -0.518       2.827\n",
       "log_GDP_Per_Capita:Continent[T.Europe]            3.0839      1.195      2.581      0.011       0.724       5.444\n",
       "log_GDP_Per_Capita:Continent[T.North America]     0.6996      1.112      0.629      0.530      -1.496       2.895\n",
       "log_GDP_Per_Capita:Continent[T.Oceania]           0.8781      1.257      0.699      0.486      -1.603       3.360\n",
       "log_GDP_Per_Capita:Continent[T.South America]     3.3185      3.403      0.975      0.331      -3.403      10.040\n",
       "==============================================================================\n",
       "Omnibus:                        1.067   Durbin-Watson:                   1.994\n",
       "Prob(Omnibus):                  0.587   Jarque-Bera (JB):                0.869\n",
       "Skew:                          -0.172   Prob(JB):                        0.648\n",
       "Kurtosis:                       3.053   Cond. No.                     1.19e+03\n",
       "==============================================================================\n",
       "\n",
       "Notes:\n",
       "[1] Standard Errors assume that the covariance matrix of the errors is correctly specified.\n",
       "[2] The condition number is large, 1.19e+03. This might indicate that there are\n",
       "strong multicollinearity or other numerical problems.\n",
       "\"\"\""
      ]
     },
     "execution_count": 35,
     "metadata": {},
     "output_type": "execute_result"
    }
   ],
   "source": [
    "lm_gdp_continent_interaction = smf.ols('Life_Expectancy ~ log_GDP_Per_Capita + Continent +log_GDP_Per_Capita:Continent', data=gdp_le_2021).fit()\n",
    "lm_gdp_continent_interaction.summary()"
   ]
  },
  {
   "cell_type": "code",
   "execution_count": 36,
   "metadata": {},
   "outputs": [
    {
     "data": {
      "text/html": [
       "<table class=\"simpletable\">\n",
       "<caption>OLS Regression Results</caption>\n",
       "<tr>\n",
       "  <th>Dep. Variable:</th>     <td>Life_Expectancy</td> <th>  R-squared:         </th> <td>   0.767</td>\n",
       "</tr>\n",
       "<tr>\n",
       "  <th>Model:</th>                   <td>OLS</td>       <th>  Adj. R-squared:    </th> <td>   0.759</td>\n",
       "</tr>\n",
       "<tr>\n",
       "  <th>Method:</th>             <td>Least Squares</td>  <th>  F-statistic:       </th> <td>   91.22</td>\n",
       "</tr>\n",
       "<tr>\n",
       "  <th>Date:</th>             <td>Wed, 23 Oct 2024</td> <th>  Prob (F-statistic):</th> <td>5.93e-50</td>\n",
       "</tr>\n",
       "<tr>\n",
       "  <th>Time:</th>                 <td>10:30:24</td>     <th>  Log-Likelihood:    </th> <td> -473.20</td>\n",
       "</tr>\n",
       "<tr>\n",
       "  <th>No. Observations:</th>      <td>   173</td>      <th>  AIC:               </th> <td>   960.4</td>\n",
       "</tr>\n",
       "<tr>\n",
       "  <th>Df Residuals:</th>          <td>   166</td>      <th>  BIC:               </th> <td>   982.5</td>\n",
       "</tr>\n",
       "<tr>\n",
       "  <th>Df Model:</th>              <td>     6</td>      <th>                     </th>     <td> </td>   \n",
       "</tr>\n",
       "<tr>\n",
       "  <th>Covariance Type:</th>      <td>nonrobust</td>    <th>                     </th>     <td> </td>   \n",
       "</tr>\n",
       "</table>\n",
       "<table class=\"simpletable\">\n",
       "<tr>\n",
       "               <td></td>                 <th>coef</th>     <th>std err</th>      <th>t</th>      <th>P>|t|</th>  <th>[0.025</th>    <th>0.975]</th>  \n",
       "</tr>\n",
       "<tr>\n",
       "  <th>Intercept</th>                  <td>   25.8834</td> <td>    2.885</td> <td>    8.973</td> <td> 0.000</td> <td>   20.188</td> <td>   31.579</td>\n",
       "</tr>\n",
       "<tr>\n",
       "  <th>Continent[T.Asia]</th>          <td>    5.1837</td> <td>    0.958</td> <td>    5.408</td> <td> 0.000</td> <td>    3.291</td> <td>    7.076</td>\n",
       "</tr>\n",
       "<tr>\n",
       "  <th>Continent[T.Europe]</th>        <td>    5.1042</td> <td>    1.104</td> <td>    4.625</td> <td> 0.000</td> <td>    2.925</td> <td>    7.283</td>\n",
       "</tr>\n",
       "<tr>\n",
       "  <th>Continent[T.North America]</th> <td>    4.1757</td> <td>    1.083</td> <td>    3.854</td> <td> 0.000</td> <td>    2.037</td> <td>    6.315</td>\n",
       "</tr>\n",
       "<tr>\n",
       "  <th>Continent[T.Oceania]</th>       <td>    4.7656</td> <td>    1.251</td> <td>    3.809</td> <td> 0.000</td> <td>    2.295</td> <td>    7.236</td>\n",
       "</tr>\n",
       "<tr>\n",
       "  <th>Continent[T.South America]</th> <td>    2.7598</td> <td>    1.367</td> <td>    2.019</td> <td> 0.045</td> <td>    0.060</td> <td>    5.459</td>\n",
       "</tr>\n",
       "<tr>\n",
       "  <th>log_GDP_Per_Capita</th>         <td>    4.4841</td> <td>    0.343</td> <td>   13.056</td> <td> 0.000</td> <td>    3.806</td> <td>    5.162</td>\n",
       "</tr>\n",
       "</table>\n",
       "<table class=\"simpletable\">\n",
       "<tr>\n",
       "  <th>Omnibus:</th>       <td> 2.686</td> <th>  Durbin-Watson:     </th> <td>   1.985</td>\n",
       "</tr>\n",
       "<tr>\n",
       "  <th>Prob(Omnibus):</th> <td> 0.261</td> <th>  Jarque-Bera (JB):  </th> <td>   2.693</td>\n",
       "</tr>\n",
       "<tr>\n",
       "  <th>Skew:</th>          <td>-0.298</td> <th>  Prob(JB):          </th> <td>   0.260</td>\n",
       "</tr>\n",
       "<tr>\n",
       "  <th>Kurtosis:</th>      <td> 2.863</td> <th>  Cond. No.          </th> <td>    102.</td>\n",
       "</tr>\n",
       "</table><br/><br/>Notes:<br/>[1] Standard Errors assume that the covariance matrix of the errors is correctly specified."
      ],
      "text/latex": [
       "\\begin{center}\n",
       "\\begin{tabular}{lclc}\n",
       "\\toprule\n",
       "\\textbf{Dep. Variable:}             & Life\\_Expectancy & \\textbf{  R-squared:         } &     0.767   \\\\\n",
       "\\textbf{Model:}                     &       OLS        & \\textbf{  Adj. R-squared:    } &     0.759   \\\\\n",
       "\\textbf{Method:}                    &  Least Squares   & \\textbf{  F-statistic:       } &     91.22   \\\\\n",
       "\\textbf{Date:}                      & Wed, 23 Oct 2024 & \\textbf{  Prob (F-statistic):} &  5.93e-50   \\\\\n",
       "\\textbf{Time:}                      &     10:30:24     & \\textbf{  Log-Likelihood:    } &   -473.20   \\\\\n",
       "\\textbf{No. Observations:}          &         173      & \\textbf{  AIC:               } &     960.4   \\\\\n",
       "\\textbf{Df Residuals:}              &         166      & \\textbf{  BIC:               } &     982.5   \\\\\n",
       "\\textbf{Df Model:}                  &           6      & \\textbf{                     } &             \\\\\n",
       "\\textbf{Covariance Type:}           &    nonrobust     & \\textbf{                     } &             \\\\\n",
       "\\bottomrule\n",
       "\\end{tabular}\n",
       "\\begin{tabular}{lcccccc}\n",
       "                                    & \\textbf{coef} & \\textbf{std err} & \\textbf{t} & \\textbf{P$> |$t$|$} & \\textbf{[0.025} & \\textbf{0.975]}  \\\\\n",
       "\\midrule\n",
       "\\textbf{Intercept}                  &      25.8834  &        2.885     &     8.973  &         0.000        &       20.188    &       31.579     \\\\\n",
       "\\textbf{Continent[T.Asia]}          &       5.1837  &        0.958     &     5.408  &         0.000        &        3.291    &        7.076     \\\\\n",
       "\\textbf{Continent[T.Europe]}        &       5.1042  &        1.104     &     4.625  &         0.000        &        2.925    &        7.283     \\\\\n",
       "\\textbf{Continent[T.North America]} &       4.1757  &        1.083     &     3.854  &         0.000        &        2.037    &        6.315     \\\\\n",
       "\\textbf{Continent[T.Oceania]}       &       4.7656  &        1.251     &     3.809  &         0.000        &        2.295    &        7.236     \\\\\n",
       "\\textbf{Continent[T.South America]} &       2.7598  &        1.367     &     2.019  &         0.045        &        0.060    &        5.459     \\\\\n",
       "\\textbf{log\\_GDP\\_Per\\_Capita}      &       4.4841  &        0.343     &    13.056  &         0.000        &        3.806    &        5.162     \\\\\n",
       "\\bottomrule\n",
       "\\end{tabular}\n",
       "\\begin{tabular}{lclc}\n",
       "\\textbf{Omnibus:}       &  2.686 & \\textbf{  Durbin-Watson:     } &    1.985  \\\\\n",
       "\\textbf{Prob(Omnibus):} &  0.261 & \\textbf{  Jarque-Bera (JB):  } &    2.693  \\\\\n",
       "\\textbf{Skew:}          & -0.298 & \\textbf{  Prob(JB):          } &    0.260  \\\\\n",
       "\\textbf{Kurtosis:}      &  2.863 & \\textbf{  Cond. No.          } &     102.  \\\\\n",
       "\\bottomrule\n",
       "\\end{tabular}\n",
       "%\\caption{OLS Regression Results}\n",
       "\\end{center}\n",
       "\n",
       "Notes: \\newline\n",
       " [1] Standard Errors assume that the covariance matrix of the errors is correctly specified."
      ],
      "text/plain": [
       "<class 'statsmodels.iolib.summary.Summary'>\n",
       "\"\"\"\n",
       "                            OLS Regression Results                            \n",
       "==============================================================================\n",
       "Dep. Variable:        Life_Expectancy   R-squared:                       0.767\n",
       "Model:                            OLS   Adj. R-squared:                  0.759\n",
       "Method:                 Least Squares   F-statistic:                     91.22\n",
       "Date:                Wed, 23 Oct 2024   Prob (F-statistic):           5.93e-50\n",
       "Time:                        10:30:24   Log-Likelihood:                -473.20\n",
       "No. Observations:                 173   AIC:                             960.4\n",
       "Df Residuals:                     166   BIC:                             982.5\n",
       "Df Model:                           6                                         \n",
       "Covariance Type:            nonrobust                                         \n",
       "==============================================================================================\n",
       "                                 coef    std err          t      P>|t|      [0.025      0.975]\n",
       "----------------------------------------------------------------------------------------------\n",
       "Intercept                     25.8834      2.885      8.973      0.000      20.188      31.579\n",
       "Continent[T.Asia]              5.1837      0.958      5.408      0.000       3.291       7.076\n",
       "Continent[T.Europe]            5.1042      1.104      4.625      0.000       2.925       7.283\n",
       "Continent[T.North America]     4.1757      1.083      3.854      0.000       2.037       6.315\n",
       "Continent[T.Oceania]           4.7656      1.251      3.809      0.000       2.295       7.236\n",
       "Continent[T.South America]     2.7598      1.367      2.019      0.045       0.060       5.459\n",
       "log_GDP_Per_Capita             4.4841      0.343     13.056      0.000       3.806       5.162\n",
       "==============================================================================\n",
       "Omnibus:                        2.686   Durbin-Watson:                   1.985\n",
       "Prob(Omnibus):                  0.261   Jarque-Bera (JB):                2.693\n",
       "Skew:                          -0.298   Prob(JB):                        0.260\n",
       "Kurtosis:                       2.863   Cond. No.                         102.\n",
       "==============================================================================\n",
       "\n",
       "Notes:\n",
       "[1] Standard Errors assume that the covariance matrix of the errors is correctly specified.\n",
       "\"\"\""
      ]
     },
     "execution_count": 36,
     "metadata": {},
     "output_type": "execute_result"
    }
   ],
   "source": [
    "lm_loggdp_continent.summary()"
   ]
  },
  {
   "cell_type": "code",
   "execution_count": 37,
   "metadata": {},
   "outputs": [
    {
     "data": {
      "text/html": [
       "<div>\n",
       "<style scoped>\n",
       "    .dataframe tbody tr th:only-of-type {\n",
       "        vertical-align: middle;\n",
       "    }\n",
       "\n",
       "    .dataframe tbody tr th {\n",
       "        vertical-align: top;\n",
       "    }\n",
       "\n",
       "    .dataframe thead th {\n",
       "        text-align: right;\n",
       "    }\n",
       "</style>\n",
       "<table border=\"1\" class=\"dataframe\">\n",
       "  <thead>\n",
       "    <tr style=\"text-align: right;\">\n",
       "      <th></th>\n",
       "      <th>df_resid</th>\n",
       "      <th>ssr</th>\n",
       "      <th>df_diff</th>\n",
       "      <th>ss_diff</th>\n",
       "      <th>F</th>\n",
       "      <th>Pr(&gt;F)</th>\n",
       "    </tr>\n",
       "  </thead>\n",
       "  <tbody>\n",
       "    <tr>\n",
       "      <th>0</th>\n",
       "      <td>166.0</td>\n",
       "      <td>2406.572195</td>\n",
       "      <td>0.0</td>\n",
       "      <td>NaN</td>\n",
       "      <td>NaN</td>\n",
       "      <td>NaN</td>\n",
       "    </tr>\n",
       "    <tr>\n",
       "      <th>1</th>\n",
       "      <td>161.0</td>\n",
       "      <td>2300.287864</td>\n",
       "      <td>5.0</td>\n",
       "      <td>106.284331</td>\n",
       "      <td>1.487794</td>\n",
       "      <td>0.196592</td>\n",
       "    </tr>\n",
       "  </tbody>\n",
       "</table>\n",
       "</div>"
      ],
      "text/plain": [
       "   df_resid          ssr  df_diff     ss_diff         F    Pr(>F)\n",
       "0     166.0  2406.572195      0.0         NaN       NaN       NaN\n",
       "1     161.0  2300.287864      5.0  106.284331  1.487794  0.196592"
      ]
     },
     "execution_count": 37,
     "metadata": {},
     "output_type": "execute_result"
    }
   ],
   "source": [
    "sms.anova_lm(lm_loggdp_continent, lm_gdp_continent_interaction)"
   ]
  },
  {
   "cell_type": "markdown",
   "metadata": {},
   "source": [
    "- the interaction terms specify that the relationship between life expectancy and GDP per capita may be different depending on which continent the measurement is on. \n",
    "- in this case, none of the interaction terms appear to be statistically significant, meaning it is unlikely that the continent has a significant effect on how GDP per capita corresponds to life expectancy. "
   ]
  },
  {
   "cell_type": "markdown",
   "metadata": {},
   "source": [
    "### 2. The data that we are working with is time series data, which means that it contains measurements of the same variable collected over time. This can lead to violations of the linear regression model assumptions. Namely, the errors may not be independent. Let's investigate further and see how this could be corrected by restructuring our model.  \n"
   ]
  },
  {
   "cell_type": "markdown",
   "metadata": {},
   "source": [
    "####    a. Fit a linear regression model with target being gdp per capita and predictor being year using just the data for the United States.\n"
   ]
  },
  {
   "cell_type": "code",
   "execution_count": 38,
   "metadata": {},
   "outputs": [],
   "source": [
    "# Extract USA data\n",
    "us_data = gdp_le[gdp_le['Country'] == 'United States'].sort_values('Year').copy()\n",
    "# fit model to US data\n",
    "lm_us_gdp_year = smf.ols('GDP_Per_Capita ~ Year', data=us_data).fit()"
   ]
  },
  {
   "cell_type": "markdown",
   "metadata": {},
   "source": [
    "####    b. Inspect the residuals for this model. Look at the correlation between the residual for a given year and the residual for the next year. Is there a statistically significant correlation?\n"
   ]
  },
  {
   "cell_type": "code",
   "execution_count": 39,
   "metadata": {},
   "outputs": [
    {
     "data": {
      "text/html": [
       "<table class=\"simpletable\">\n",
       "<caption>OLS Regression Results</caption>\n",
       "<tr>\n",
       "  <th>Dep. Variable:</th>     <td>GDP_Per_Capita</td>  <th>  R-squared:         </th> <td>   0.960</td>\n",
       "</tr>\n",
       "<tr>\n",
       "  <th>Model:</th>                   <td>OLS</td>       <th>  Adj. R-squared:    </th> <td>   0.959</td>\n",
       "</tr>\n",
       "<tr>\n",
       "  <th>Method:</th>             <td>Least Squares</td>  <th>  F-statistic:       </th> <td>   743.0</td>\n",
       "</tr>\n",
       "<tr>\n",
       "  <th>Date:</th>             <td>Wed, 23 Oct 2024</td> <th>  Prob (F-statistic):</th> <td>3.17e-23</td>\n",
       "</tr>\n",
       "<tr>\n",
       "  <th>Time:</th>                 <td>10:30:25</td>     <th>  Log-Likelihood:    </th> <td> -286.45</td>\n",
       "</tr>\n",
       "<tr>\n",
       "  <th>No. Observations:</th>      <td>    33</td>      <th>  AIC:               </th> <td>   576.9</td>\n",
       "</tr>\n",
       "<tr>\n",
       "  <th>Df Residuals:</th>          <td>    31</td>      <th>  BIC:               </th> <td>   579.9</td>\n",
       "</tr>\n",
       "<tr>\n",
       "  <th>Df Model:</th>              <td>     1</td>      <th>                     </th>     <td> </td>   \n",
       "</tr>\n",
       "<tr>\n",
       "  <th>Covariance Type:</th>      <td>nonrobust</td>    <th>                     </th>     <td> </td>   \n",
       "</tr>\n",
       "</table>\n",
       "<table class=\"simpletable\">\n",
       "<tr>\n",
       "      <td></td>         <th>coef</th>     <th>std err</th>      <th>t</th>      <th>P>|t|</th>  <th>[0.025</th>    <th>0.975]</th>  \n",
       "</tr>\n",
       "<tr>\n",
       "  <th>Intercept</th> <td>-1.416e+06</td> <td> 5.39e+04</td> <td>  -26.284</td> <td> 0.000</td> <td>-1.53e+06</td> <td>-1.31e+06</td>\n",
       "</tr>\n",
       "<tr>\n",
       "  <th>Year</th>      <td>  732.2508</td> <td>   26.863</td> <td>   27.258</td> <td> 0.000</td> <td>  677.462</td> <td>  787.039</td>\n",
       "</tr>\n",
       "</table>\n",
       "<table class=\"simpletable\">\n",
       "<tr>\n",
       "  <th>Omnibus:</th>       <td> 2.995</td> <th>  Durbin-Watson:     </th> <td>   0.488</td>\n",
       "</tr>\n",
       "<tr>\n",
       "  <th>Prob(Omnibus):</th> <td> 0.224</td> <th>  Jarque-Bera (JB):  </th> <td>   2.165</td>\n",
       "</tr>\n",
       "<tr>\n",
       "  <th>Skew:</th>          <td> 0.457</td> <th>  Prob(JB):          </th> <td>   0.339</td>\n",
       "</tr>\n",
       "<tr>\n",
       "  <th>Kurtosis:</th>      <td> 2.140</td> <th>  Cond. No.          </th> <td>4.23e+05</td>\n",
       "</tr>\n",
       "</table><br/><br/>Notes:<br/>[1] Standard Errors assume that the covariance matrix of the errors is correctly specified.<br/>[2] The condition number is large, 4.23e+05. This might indicate that there are<br/>strong multicollinearity or other numerical problems."
      ],
      "text/latex": [
       "\\begin{center}\n",
       "\\begin{tabular}{lclc}\n",
       "\\toprule\n",
       "\\textbf{Dep. Variable:}    & GDP\\_Per\\_Capita & \\textbf{  R-squared:         } &     0.960   \\\\\n",
       "\\textbf{Model:}            &       OLS        & \\textbf{  Adj. R-squared:    } &     0.959   \\\\\n",
       "\\textbf{Method:}           &  Least Squares   & \\textbf{  F-statistic:       } &     743.0   \\\\\n",
       "\\textbf{Date:}             & Wed, 23 Oct 2024 & \\textbf{  Prob (F-statistic):} &  3.17e-23   \\\\\n",
       "\\textbf{Time:}             &     10:30:25     & \\textbf{  Log-Likelihood:    } &   -286.45   \\\\\n",
       "\\textbf{No. Observations:} &          33      & \\textbf{  AIC:               } &     576.9   \\\\\n",
       "\\textbf{Df Residuals:}     &          31      & \\textbf{  BIC:               } &     579.9   \\\\\n",
       "\\textbf{Df Model:}         &           1      & \\textbf{                     } &             \\\\\n",
       "\\textbf{Covariance Type:}  &    nonrobust     & \\textbf{                     } &             \\\\\n",
       "\\bottomrule\n",
       "\\end{tabular}\n",
       "\\begin{tabular}{lcccccc}\n",
       "                   & \\textbf{coef} & \\textbf{std err} & \\textbf{t} & \\textbf{P$> |$t$|$} & \\textbf{[0.025} & \\textbf{0.975]}  \\\\\n",
       "\\midrule\n",
       "\\textbf{Intercept} &   -1.416e+06  &     5.39e+04     &   -26.284  &         0.000        &    -1.53e+06    &    -1.31e+06     \\\\\n",
       "\\textbf{Year}      &     732.2508  &       26.863     &    27.258  &         0.000        &      677.462    &      787.039     \\\\\n",
       "\\bottomrule\n",
       "\\end{tabular}\n",
       "\\begin{tabular}{lclc}\n",
       "\\textbf{Omnibus:}       &  2.995 & \\textbf{  Durbin-Watson:     } &    0.488  \\\\\n",
       "\\textbf{Prob(Omnibus):} &  0.224 & \\textbf{  Jarque-Bera (JB):  } &    2.165  \\\\\n",
       "\\textbf{Skew:}          &  0.457 & \\textbf{  Prob(JB):          } &    0.339  \\\\\n",
       "\\textbf{Kurtosis:}      &  2.140 & \\textbf{  Cond. No.          } & 4.23e+05  \\\\\n",
       "\\bottomrule\n",
       "\\end{tabular}\n",
       "%\\caption{OLS Regression Results}\n",
       "\\end{center}\n",
       "\n",
       "Notes: \\newline\n",
       " [1] Standard Errors assume that the covariance matrix of the errors is correctly specified. \\newline\n",
       " [2] The condition number is large, 4.23e+05. This might indicate that there are \\newline\n",
       " strong multicollinearity or other numerical problems."
      ],
      "text/plain": [
       "<class 'statsmodels.iolib.summary.Summary'>\n",
       "\"\"\"\n",
       "                            OLS Regression Results                            \n",
       "==============================================================================\n",
       "Dep. Variable:         GDP_Per_Capita   R-squared:                       0.960\n",
       "Model:                            OLS   Adj. R-squared:                  0.959\n",
       "Method:                 Least Squares   F-statistic:                     743.0\n",
       "Date:                Wed, 23 Oct 2024   Prob (F-statistic):           3.17e-23\n",
       "Time:                        10:30:25   Log-Likelihood:                -286.45\n",
       "No. Observations:                  33   AIC:                             576.9\n",
       "Df Residuals:                      31   BIC:                             579.9\n",
       "Df Model:                           1                                         \n",
       "Covariance Type:            nonrobust                                         \n",
       "==============================================================================\n",
       "                 coef    std err          t      P>|t|      [0.025      0.975]\n",
       "------------------------------------------------------------------------------\n",
       "Intercept  -1.416e+06   5.39e+04    -26.284      0.000   -1.53e+06   -1.31e+06\n",
       "Year         732.2508     26.863     27.258      0.000     677.462     787.039\n",
       "==============================================================================\n",
       "Omnibus:                        2.995   Durbin-Watson:                   0.488\n",
       "Prob(Omnibus):                  0.224   Jarque-Bera (JB):                2.165\n",
       "Skew:                           0.457   Prob(JB):                        0.339\n",
       "Kurtosis:                       2.140   Cond. No.                     4.23e+05\n",
       "==============================================================================\n",
       "\n",
       "Notes:\n",
       "[1] Standard Errors assume that the covariance matrix of the errors is correctly specified.\n",
       "[2] The condition number is large, 4.23e+05. This might indicate that there are\n",
       "strong multicollinearity or other numerical problems.\n",
       "\"\"\""
      ]
     },
     "execution_count": 39,
     "metadata": {},
     "output_type": "execute_result"
    }
   ],
   "source": [
    "lm_us_gdp_year.summary()"
   ]
  },
  {
   "cell_type": "code",
   "execution_count": 40,
   "metadata": {},
   "outputs": [
    {
     "data": {
      "image/png": "[encoded data removed]",
      "text/plain": [
       "<Figure size 640x480 with 1 Axes>"
      ]
     },
     "metadata": {},
     "output_type": "display_data"
    }
   ],
   "source": [
    "# add residuals to dataset and shift so they can be plotted against each other\n",
    "residuals = lm_us_gdp_year.resid\n",
    "us_data['residuals'] = residuals\n",
    "us_data['lag_residuals'] = residuals.shift(1)\n",
    "\n",
    "# Plot residuals vs. lagged residuals\n",
    "plt.scatter(us_data['residuals'], us_data['lag_residuals'])\n",
    "plt.xlabel('Residuals')\n",
    "plt.ylabel('Lagged Residuals')\n",
    "plt.title('Lag Plot of Residuals')\n",
    "plt.show()"
   ]
  },
  {
   "cell_type": "markdown",
   "metadata": {},
   "source": [
    "- the Durbin-Watson test is used to evaluate autocorrelation on a scale of 0-4, with values closer to 0 indication a stronger positive correlation, values closer to 4 indicating a stronger negative correlation, and values closer to 2 indicating less autocorrelation. The Durbin-Watson value of `0.488` indicates a strong positive correlation between the residuals of one year and the residuals of the following year.  \n",
    "- this is also present when plotted: the positive linear trend is apparent, again indicating some correlation between the years and succeeding years. "
   ]
  },
  {
   "cell_type": "markdown",
   "metadata": {},
   "source": [
    "####    c. A common technique for modeling time series data is the [ARIMA model](https://en.wikipedia.org/wiki/Autoregressive_integrated_moving_average). For an in-depth discussion of ARIMA models, see https://otexts.com/fpp2/arima.html. The first thing to check is whether we have a stationary series. This can be done using the [Augmented Dickey-Fuller test](https://www.statsmodels.org/dev/generated/statsmodels.tsa.stattools.adfuller.html). We want to reject the null hypothesis before we proceed, because failing to reject implies that the series is not stationary. Run the adfuller test on the gdp per capita values for the US."
   ]
  },
  {
   "cell_type": "code",
   "execution_count": 41,
   "metadata": {},
   "outputs": [
    {
     "data": {
      "text/plain": [
       "(-0.33987640208395214,\n",
       " 0.9196636871272641,\n",
       " 0,\n",
       " 32,\n",
       " {'1%': -3.653519805908203,\n",
       "  '5%': -2.9572185644531253,\n",
       "  '10%': -2.6175881640625},\n",
       " 375.72874308092764)"
      ]
     },
     "execution_count": 41,
     "metadata": {},
     "output_type": "execute_result"
    }
   ],
   "source": [
    "sm.tsa.stattools.adfuller(us_data['GDP_Per_Capita'])"
   ]
  },
  {
   "cell_type": "markdown",
   "metadata": {},
   "source": [
    "- the p-value is 0.9197... which is fairly high, meaning we will fail to reject the null hypothesis and say that this indicates that our data is **not stationary**. "
   ]
  },
  {
   "cell_type": "markdown",
   "metadata": {},
   "source": [
    "####    d. If a series is not stationary, it can be replaced by the series of differences from one time period to the next. See if the series of differences in stationary. Plot the series of differences and run the adfuller test.\n"
   ]
  },
  {
   "cell_type": "code",
   "execution_count": 42,
   "metadata": {},
   "outputs": [
    {
     "data": {
      "text/html": [
       "<div>\n",
       "<style scoped>\n",
       "    .dataframe tbody tr th:only-of-type {\n",
       "        vertical-align: middle;\n",
       "    }\n",
       "\n",
       "    .dataframe tbody tr th {\n",
       "        vertical-align: top;\n",
       "    }\n",
       "\n",
       "    .dataframe thead th {\n",
       "        text-align: right;\n",
       "    }\n",
       "</style>\n",
       "<table border=\"1\" class=\"dataframe\">\n",
       "  <thead>\n",
       "    <tr style=\"text-align: right;\">\n",
       "      <th></th>\n",
       "      <th>Country</th>\n",
       "      <th>Year</th>\n",
       "      <th>GDP_Per_Capita</th>\n",
       "      <th>Continent</th>\n",
       "      <th>Life_Expectancy</th>\n",
       "      <th>log_GDP_Per_Capita</th>\n",
       "      <th>residuals</th>\n",
       "      <th>lag_residuals</th>\n",
       "      <th>diff_resid</th>\n",
       "    </tr>\n",
       "  </thead>\n",
       "  <tbody>\n",
       "    <tr>\n",
       "      <th>5308</th>\n",
       "      <td>United States</td>\n",
       "      <td>1991</td>\n",
       "      <td>39871.342964</td>\n",
       "      <td>North America</td>\n",
       "      <td>75.365854</td>\n",
       "      <td>10.593413</td>\n",
       "      <td>-1620.244536</td>\n",
       "      <td>-307.838294</td>\n",
       "      <td>1312.406242</td>\n",
       "    </tr>\n",
       "    <tr>\n",
       "      <th>5307</th>\n",
       "      <td>United States</td>\n",
       "      <td>1992</td>\n",
       "      <td>40707.290631</td>\n",
       "      <td>North America</td>\n",
       "      <td>75.617073</td>\n",
       "      <td>10.614162</td>\n",
       "      <td>-1516.547671</td>\n",
       "      <td>-1620.244536</td>\n",
       "      <td>-103.696865</td>\n",
       "    </tr>\n",
       "    <tr>\n",
       "      <th>5306</th>\n",
       "      <td>United States</td>\n",
       "      <td>1993</td>\n",
       "      <td>41279.516502</td>\n",
       "      <td>North America</td>\n",
       "      <td>75.419512</td>\n",
       "      <td>10.628122</td>\n",
       "      <td>-1676.572601</td>\n",
       "      <td>-1516.547671</td>\n",
       "      <td>160.024930</td>\n",
       "    </tr>\n",
       "    <tr>\n",
       "      <th>5305</th>\n",
       "      <td>United States</td>\n",
       "      <td>1994</td>\n",
       "      <td>42419.195365</td>\n",
       "      <td>North America</td>\n",
       "      <td>75.619512</td>\n",
       "      <td>10.655356</td>\n",
       "      <td>-1269.144539</td>\n",
       "      <td>-1676.572601</td>\n",
       "      <td>-407.428062</td>\n",
       "    </tr>\n",
       "    <tr>\n",
       "      <th>5304</th>\n",
       "      <td>United States</td>\n",
       "      <td>1995</td>\n",
       "      <td>43042.213822</td>\n",
       "      <td>North America</td>\n",
       "      <td>75.621951</td>\n",
       "      <td>10.669937</td>\n",
       "      <td>-1378.376883</td>\n",
       "      <td>-1269.144539</td>\n",
       "      <td>109.232344</td>\n",
       "    </tr>\n",
       "  </tbody>\n",
       "</table>\n",
       "</div>"
      ],
      "text/plain": [
       "            Country  Year  GDP_Per_Capita      Continent  Life_Expectancy  \\\n",
       "5308  United States  1991    39871.342964  North America        75.365854   \n",
       "5307  United States  1992    40707.290631  North America        75.617073   \n",
       "5306  United States  1993    41279.516502  North America        75.419512   \n",
       "5305  United States  1994    42419.195365  North America        75.619512   \n",
       "5304  United States  1995    43042.213822  North America        75.621951   \n",
       "\n",
       "      log_GDP_Per_Capita    residuals  lag_residuals   diff_resid  \n",
       "5308           10.593413 -1620.244536    -307.838294  1312.406242  \n",
       "5307           10.614162 -1516.547671   -1620.244536  -103.696865  \n",
       "5306           10.628122 -1676.572601   -1516.547671   160.024930  \n",
       "5305           10.655356 -1269.144539   -1676.572601  -407.428062  \n",
       "5304           10.669937 -1378.376883   -1269.144539   109.232344  "
      ]
     },
     "execution_count": 42,
     "metadata": {},
     "output_type": "execute_result"
    }
   ],
   "source": [
    "# differencing \n",
    "us_data['diff_resid'] = us_data['lag_residuals']-us_data['residuals']\n",
    "us_data = us_data.dropna()\n",
    "us_data.head(5)"
   ]
  },
  {
   "cell_type": "code",
   "execution_count": 43,
   "metadata": {},
   "outputs": [
    {
     "data": {
      "image/png": "[encoded data removed]",
      "text/plain": [
       "<Figure size 640x480 with 1 Axes>"
      ]
     },
     "metadata": {},
     "output_type": "display_data"
    }
   ],
   "source": [
    "# Plot residuals vs. lagged residuals\n",
    "plt.scatter(us_data['residuals'], us_data['diff_resid'])\n",
    "plt.xlabel('Residuals')\n",
    "plt.ylabel('diff_resid')\n",
    "plt.title('Plot of Residuals vs differences')\n",
    "plt.show()"
   ]
  },
  {
   "cell_type": "code",
   "execution_count": 44,
   "metadata": {},
   "outputs": [
    {
     "data": {
      "text/plain": [
       "(-6.1707067135750515,\n",
       " 6.816357604819705e-08,\n",
       " 0,\n",
       " 31,\n",
       " {'1%': -3.661428725118324,\n",
       "  '5%': -2.960525341210433,\n",
       "  '10%': -2.6193188033298647},\n",
       " 358.78074070970894)"
      ]
     },
     "execution_count": 44,
     "metadata": {},
     "output_type": "execute_result"
    }
   ],
   "source": [
    "sm.tsa.stattools.adfuller(us_data['diff_resid'])"
   ]
  },
  {
   "cell_type": "markdown",
   "metadata": {},
   "source": [
    "- the differencing plot shows nearly no trend in the data; maybe there could be an argument for some linear trend, but the adjusted Dickey-Fuller test shows a p-value of near zero, indicating that this dataset is stationary. "
   ]
  },
  {
   "cell_type": "markdown",
   "metadata": {},
   "source": [
    "####    e. Since the series of differences is stationary, we know that we need an integration term of 1. You also want to check the autocorrelation function, which can be done using the [plot_acf function](https://www.statsmodels.org/dev/generated/statsmodels.graphics.tsaplots.plot_acf.html#statsmodels.graphics.tsaplots.plot_acf). Are there any significant autocorrelations? \n"
   ]
  },
  {
   "cell_type": "markdown",
   "metadata": {},
   "source": [
    "In the context of time series analysis, particularly when discussing stationarity and differencing, an `integration term` refers to the number of times a time series must be differenced to make it stationary. This concept is often used in the context of ARIMA models (AutoRegressive Integrated Moving Average), where the \"I\" in ARIMA stands for \"Integrated\", representing the number of differencing operations applied to the series."
   ]
  },
  {
   "cell_type": "markdown",
   "metadata": {},
   "source": []
  },
  {
   "cell_type": "code",
   "execution_count": null,
   "metadata": {},
   "outputs": [],
   "source": []
  },
  {
   "cell_type": "markdown",
   "metadata": {},
   "source": [
    "####    f. Since there were not significant autocorrelations, an ARIMA(0,1,0) model may be appropriate. Try fitting an ARIMA(0,1,0) model using https://www.statsmodels.org/dev/generated/statsmodels.tsa.arima.model.ARIMA.html#statsmodels.tsa.arima.model.ARIMA. Try one with no trend and one with a linear trend (using the trend parameter). Compare these models on the basis of the [AIC](https://en.wikipedia.org/wiki/Akaike_information_criterion). Which does better?\n"
   ]
  },
  {
   "cell_type": "markdown",
   "metadata": {},
   "source": [
    "####    g. Compare the estimate and confidence interval for the trend from the ordinary least squares regression model and the ARIMA model. Which has a greater standard error?\n"
   ]
  },
  {
   "cell_type": "markdown",
   "metadata": {},
   "source": [
    "### 3. Another way that we can model our data is using [fixed effects](https://theeffectbook.net/ch-FixedEffects.html), which allows us to control for all variables, whether they are observed or not. Let's say we want to isolate the effect of gdp per capita on life expectancy, after controlling for differences between countries. \n"
   ]
  },
  {
   "cell_type": "markdown",
   "metadata": {},
   "source": [
    "####    a. One way to do this is to fit a model which contains a dummy variable for each country. Do this and inspect the coefficient for log gdp per capita.\n"
   ]
  },
  {
   "cell_type": "markdown",
   "metadata": {},
   "source": [
    "####    b. A second option is to convert our original variables (log gdp per capita and life expectancy) to the difference from the country-level mean for these varaiables. Hint: you may want to use groupby + transform in order to find the difference from the country-level mean for the variables. How does the coefficient for log gdp per capita compare to the one using a dummy variable for each country? \n"
   ]
  },
  {
   "cell_type": "markdown",
   "metadata": {},
   "source": [
    "### 4. Finally, when working with panel data, it is common to use a linear mixed model. A good resource on mixed models is this set of course notes from Penn State University: https://online.stat.psu.edu/stat502_fa21/lesson/6 or Chapters 8 and 9 of [Beyond Multiple Linear Regression](https://bookdown.org/roback/bookdown-BeyondMLR/ch-multilevelintro.html).  \n"
   ]
  },
  {
   "cell_type": "markdown",
   "metadata": {},
   "source": [
    "####    a. Fit a model for just the united states with predictor variable Year and target life expectancy. Inspect the parameters.  \n"
   ]
  },
  {
   "cell_type": "markdown",
   "metadata": {},
   "source": [
    "####    b. Then iterate through all countries and gather up the parameters. Look at the distribution of model parameters across all countries."
   ]
  },
  {
   "cell_type": "markdown",
   "metadata": {},
   "source": [
    "  \n",
    "####    c. Find the correlation between slope and intercept. What might this suggest?  \n"
   ]
  },
  {
   "cell_type": "markdown",
   "metadata": {},
   "source": [
    "####    d. Group by continent and look at the distribution of slopes and intercepts. What do you notice?  \n"
   ]
  },
  {
   "cell_type": "markdown",
   "metadata": {},
   "source": [
    "####    e. Using [mixedlm](https://www.statsmodels.org/stable/examples/notebooks/generated/mixed_lm_example.html) from statsmodels, fit a linear mixed effects model with groups being the country and random effects the year and log gdp per capita. Inspect the results and compare them to what you noticed above.  "
   ]
  }
 ],
 "metadata": {
  "kernelspec": {
   "display_name": "base",
   "language": "python",
   "name": "python3"
  },
  "language_info": {
   "codemirror_mode": {
    "name": "ipython",
    "version": 3
   },
   "file_extension": ".py",
   "mimetype": "text/x-python",
   "name": "python",
   "nbconvert_exporter": "python",
   "pygments_lexer": "ipython3",
   "version": "3.12.4"
  }
 },
 "nbformat": 4,
 "nbformat_minor": 2
}
